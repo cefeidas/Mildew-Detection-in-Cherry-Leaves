{
 "cells": [
  {
   "cell_type": "markdown",
   "metadata": {},
   "source": [
    "# **Preparing data to train the models**"
   ]
  },
  {
   "cell_type": "markdown",
   "metadata": {},
   "source": [
    "Objectives: Preprocess the cherry leaves dataset for model training.\n",
    "\n",
    "Inputs: Cherry leaves dataset downloaded from Kaggle.\n",
    "\n",
    "Outputs: Preprocessed dataset ready for model training."
   ]
  },
  {
   "cell_type": "markdown",
   "metadata": {},
   "source": [
    "## Important Disclaimer"
   ]
  },
  {
   "cell_type": "markdown",
   "metadata": {},
   "source": [
    "Please follow the order of the cells in this Jupyter Notebook strictly. Each cell is designed to be executed in sequence to ensure the correct processing of data and functionality of the code. Running the cells out of order or skipping steps may result in errors or unintended consequences. It is highly recommended to execute each cell consecutively for optimal results and to avoid any potential issues."
   ]
  },
  {
   "cell_type": "markdown",
   "metadata": {},
   "source": [
    "# Steps for preparing the data:\n"
   ]
  },
  {
   "cell_type": "markdown",
   "metadata": {},
   "source": [
    "## 1. Install prerequisites"
   ]
  },
  {
   "cell_type": "code",
   "execution_count": 1,
   "metadata": {},
   "outputs": [
    {
     "name": "stdout",
     "output_type": "stream",
     "text": [
      "Requirement already satisfied: zipfile36 in /home/codeany/.local/lib/python3.8/site-packages (0.1.3)\n",
      "Note: you may need to restart the kernel to use updated packages.\n",
      "Collecting os-sys\n",
      "  Using cached os_sys-2.1.4-py3-none-any.whl (15.6 MB)\n",
      "Collecting pygubu (from os-sys)\n",
      "  Using cached pygubu-0.31-py3-none-any.whl.metadata (7.1 kB)\n",
      "Requirement already satisfied: pytz in /home/codeany/.pyenv/versions/3.8.12/lib/python3.8/site-packages (from os-sys) (2023.3.post1)\n",
      "Collecting sqlparse (from os-sys)\n",
      "  Using cached sqlparse-0.4.4-py3-none-any.whl (41 kB)\n",
      "Collecting progress (from os-sys)\n",
      "  Using cached progress-1.6.tar.gz (7.8 kB)\n",
      "  Preparing metadata (setup.py) ... \u001b[?25ldone\n",
      "\u001b[?25hRequirement already satisfied: tqdm in /home/codeany/.local/lib/python3.8/site-packages (from os-sys) (4.66.1)\n",
      "Collecting progressbar (from os-sys)\n",
      "  Using cached progressbar-2.5.tar.gz (10 kB)\n",
      "  Preparing metadata (setup.py) ... \u001b[?25ldone\n",
      "\u001b[?25hRequirement already satisfied: matplotlib in /home/codeany/.local/lib/python3.8/site-packages (from os-sys) (3.3.1)\n",
      "Requirement already satisfied: numpy in /home/codeany/.local/lib/python3.8/site-packages (from os-sys) (1.19.2)\n",
      "Requirement already satisfied: six in /home/codeany/.local/lib/python3.8/site-packages (from os-sys) (1.15.0)\n",
      "Requirement already satisfied: jupyter in /home/codeany/.pyenv/versions/3.8.12/lib/python3.8/site-packages (from os-sys) (1.0.0)\n",
      "Requirement already satisfied: pandas in /home/codeany/.local/lib/python3.8/site-packages (from os-sys) (1.1.2)\n",
      "Requirement already satisfied: beautifulsoup4 in /home/codeany/.pyenv/versions/3.8.12/lib/python3.8/site-packages (from os-sys) (4.12.2)\n",
      "Collecting Eel (from os-sys)\n",
      "  Using cached Eel-0.16.0.tar.gz (24 kB)\n",
      "  Preparing metadata (setup.py) ... \u001b[?25ldone\n",
      "\u001b[?25hCollecting extract-zip (from os-sys)\n",
      "  Using cached extract_zip-1.0.0-py3-none-any.whl (2.6 kB)\n",
      "INFO: pip is looking at multiple versions of os-sys to determine which version is compatible with other requirements. This could take a while.\n",
      "Collecting os-sys\n",
      "  Using cached os_sys-2.1.3-py3-none-any.whl (15.5 MB)\n",
      "  Using cached os_sys-2.1.2-py3-none-any.whl (15.4 MB)\n",
      "  Using cached os_sys-2.1.1-py3-none-any.whl (15.4 MB)\n",
      "  Using cached os_sys-2.1.0-py3-none-any.whl (15.9 MB)\n",
      "  Using cached os_sys-2.0.9-py3-none-any.whl (15.4 MB)\n",
      "  Using cached os_sys-2.0.8-py3-none-any.whl (15.4 MB)\n",
      "  Using cached os_sys-2.0.7-py3-none-any.whl (14.2 MB)\n",
      "INFO: pip is still looking at multiple versions of os-sys to determine which version is compatible with other requirements. This could take a while.\n",
      "  Using cached os_sys-2.0.6-py3-none-any.whl (14.2 MB)\n",
      "  Using cached os_sys-2.0.5-py3-none-any.whl (12.2 MB)\n",
      "  Using cached os_sys-2.0.4-py3-none-any.whl (50.9 MB)\n",
      "Collecting webview (from os-sys)\n",
      "  Using cached webview-0.1.5.tar.gz (18 kB)\n",
      "  Preparing metadata (setup.py) ... \u001b[?25lerror\n",
      "  \u001b[1;31merror\u001b[0m: \u001b[1msubprocess-exited-with-error\u001b[0m\n",
      "  \n",
      "  \u001b[31m×\u001b[0m \u001b[32mpython setup.py egg_info\u001b[0m did not run successfully.\n",
      "  \u001b[31m│\u001b[0m exit code: \u001b[1;36m1\u001b[0m\n",
      "  \u001b[31m╰─>\u001b[0m \u001b[31m[12 lines of output]\u001b[0m\n",
      "  \u001b[31m   \u001b[0m Traceback (most recent call last):\n",
      "  \u001b[31m   \u001b[0m   File \"<string>\", line 2, in <module>\n",
      "  \u001b[31m   \u001b[0m   File \"<pip-setuptools-caller>\", line 34, in <module>\n",
      "  \u001b[31m   \u001b[0m   File \"/tmp/pip-install-3_7u683v/webview_388f567735f844fb898ccc842b7931c8/setup.py\", line 43, in <module>\n",
      "  \u001b[31m   \u001b[0m     extra_cflags = pkgconfig(\"--cflags\").split()\n",
      "  \u001b[31m   \u001b[0m   File \"/tmp/pip-install-3_7u683v/webview_388f567735f844fb898ccc842b7931c8/setup.py\", line 37, in pkgconfig\n",
      "  \u001b[31m   \u001b[0m     return subprocess.check_output(\n",
      "  \u001b[31m   \u001b[0m   File \"/home/codeany/.pyenv/versions/3.8.12/lib/python3.8/subprocess.py\", line 415, in check_output\n",
      "  \u001b[31m   \u001b[0m     return run(*popenargs, stdout=PIPE, timeout=timeout, check=True,\n",
      "  \u001b[31m   \u001b[0m   File \"/home/codeany/.pyenv/versions/3.8.12/lib/python3.8/subprocess.py\", line 516, in run\n",
      "  \u001b[31m   \u001b[0m     raise CalledProcessError(retcode, process.args,\n",
      "  \u001b[31m   \u001b[0m subprocess.CalledProcessError: Command 'pkg-config --cflags gtk+-3.0 webkit2gtk-4.0' returned non-zero exit status 1.\n",
      "  \u001b[31m   \u001b[0m \u001b[31m[end of output]\u001b[0m\n",
      "  \n",
      "  \u001b[1;35mnote\u001b[0m: This error originates from a subprocess, and is likely not a problem with pip.\n",
      "\u001b[1;31merror\u001b[0m: \u001b[1mmetadata-generation-failed\u001b[0m\n",
      "\n",
      "\u001b[31m×\u001b[0m Encountered error while generating package metadata.\n",
      "\u001b[31m╰─>\u001b[0m See above for output.\n",
      "\n",
      "\u001b[1;35mnote\u001b[0m: This is an issue with the package mentioned above, not pip.\n",
      "\u001b[1;36mhint\u001b[0m: See above for details.\n",
      "\u001b[?25hNote: you may need to restart the kernel to use updated packages.\n",
      "Requirement already satisfied: Pillow in /home/codeany/.local/lib/python3.8/site-packages (10.1.0)\n",
      "Note: you may need to restart the kernel to use updated packages.\n",
      "Requirement already satisfied: random2 in /home/codeany/.local/lib/python3.8/site-packages (1.0.1)\n",
      "Note: you may need to restart the kernel to use updated packages.\n",
      "Requirement already satisfied: glob2 in /home/codeany/.local/lib/python3.8/site-packages (0.7)\n",
      "Note: you may need to restart the kernel to use updated packages.\n",
      "Requirement already satisfied: keras in /home/codeany/.local/lib/python3.8/site-packages (2.6.0)\n",
      "Note: you may need to restart the kernel to use updated packages.\n",
      "prerequisites installed successfully\n"
     ]
    }
   ],
   "source": [
    "%pip install zipfile36\n",
    "%pip install os-sys\n",
    "%pip install Pillow\n",
    "%pip install random2\n",
    "%pip install glob2\n",
    "%pip install keras\n",
    "print(\"prerequisites installed successfully\")"
   ]
  },
  {
   "cell_type": "markdown",
   "metadata": {},
   "source": [
    "**Important Note**: After installing the required packages, you may need to restart the Jupyter Notebook kernel for the changes to take effect. This ensures that the newly installed libraries are properly loaded. You can restart the kernel by selecting \"Kernel\" > \"Restart\" in the Jupyter Notebook menu."
   ]
  },
  {
   "cell_type": "markdown",
   "metadata": {},
   "source": [
    "## 2. Import libraries"
   ]
  },
  {
   "cell_type": "code",
   "execution_count": 2,
   "metadata": {},
   "outputs": [
    {
     "name": "stdout",
     "output_type": "stream",
     "text": [
      "Libraries imported successfully\n"
     ]
    }
   ],
   "source": [
    "import zipfile\n",
    "import os\n",
    "import shutil\n",
    "from PIL import Image, ImageOps, ImageEnhance\n",
    "import random\n",
    "import glob\n",
    "from keras.preprocessing.image import ImageDataGenerator\n",
    "import matplotlib.pyplot as plt\n",
    "print(\"Libraries imported successfully\")"
   ]
  },
  {
   "cell_type": "markdown",
   "metadata": {},
   "source": [
    "## 3. Unzip files"
   ]
  },
  {
   "cell_type": "markdown",
   "metadata": {},
   "source": [
    "In this step, we are extracting the cherry leaves dataset from a compressed .zip file. This action makes the dataset accessible for further processing. It involves opening the .zip file and extracting its contents into a designated directory, followed by removing the .zip file to clean up our workspace.\r\n"
   ]
  },
  {
   "cell_type": "code",
   "execution_count": 9,
   "metadata": {},
   "outputs": [
    {
     "name": "stdout",
     "output_type": "stream",
     "text": [
      "Working directory changed to '/workspaces/Mildew-Detection-in-Cherry-Leaves'\n"
     ]
    }
   ],
   "source": [
    "os.chdir('/workspaces/Mildew-Detection-in-Cherry-Leaves')\n",
    "print(\"Working directory changed to '/workspaces/Mildew-Detection-in-Cherry-Leaves'\")"
   ]
  },
  {
   "cell_type": "code",
   "execution_count": 4,
   "metadata": {},
   "outputs": [],
   "source": [
    "DestinationFolder = \"inputs/mildew_dataset\"\n",
    "with zipfile.ZipFile(DestinationFolder + '/cherry-leaves.zip', 'r') as zip_ref:\n",
    "    zip_ref.extractall(DestinationFolder)\n",
    "\n",
    "os.remove(DestinationFolder + '/cherry-leaves.zip')"
   ]
  },
  {
   "cell_type": "markdown",
   "metadata": {},
   "source": [
    "## 4. Merge and Group Images by Category"
   ]
  },
  {
   "cell_type": "markdown",
   "metadata": {},
   "source": [
    "This part of the process involves reorganizing the dataset structure. Initially, the dataset was divided into 'train' and 'test' folders. We're consolidating these images into a single location, separating them into 'healthy' and 'powdery_mildew' categories. This reorganization sets the stage for our next steps, where we will process these images and then redistribute them into new 'training', 'validation', and 'test' sets, aligning with a different standard for model training and evaluation.\r\n"
   ]
  },
  {
   "cell_type": "markdown",
   "metadata": {},
   "source": [
    "### Define the functions"
   ]
  },
  {
   "cell_type": "code",
   "execution_count": 5,
   "metadata": {},
   "outputs": [],
   "source": [
    "def merge_and_group_images(source_folders, destination_folders):\n",
    "    for _, dest in destination_folders.items():\n",
    "        if not os.path.exists(dest):\n",
    "            os.makedirs(dest)\n",
    "\n",
    "    for folder in source_folders:\n",
    "        for category in ['healthy', 'powdery_mildew']:\n",
    "            source_path = folder + '/' + category\n",
    "            files = os.listdir(source_path)\n",
    "            for file in files:\n",
    "                shutil.move(source_path + '/' + file, destination_folders[category])\n",
    "            os.rmdir(source_path)\n",
    "\n",
    "def remove_initial_directories(directories):\n",
    "    for directory in directories:\n",
    "        shutil.rmtree(directory)\n",
    "\n",
    "\n",
    "def rename_images_in_folder(folder_path, new_name_prefix):\n",
    "    files = os.listdir(folder_path)\n",
    "    for i, file in enumerate(files):\n",
    "        os.rename(os.path.join(folder_path, file), os.path.join(folder_path, f\"{new_name_prefix}_{i}.jpg\"))\n",
    "\n",
    "def standardize_image_names(folder_path, prefix):\n",
    "    for count, filename in enumerate(os.listdir(folder_path), start=1):\n",
    "        dst = f\"{prefix}_{count}.jpg\"\n",
    "        src = f\"{folder_path}/{filename}\"\n",
    "        dst = f\"{folder_path}/{dst}\"\n",
    "\n",
    "        # Rename the file\n",
    "        os.rename(src, dst)"
   ]
  },
  {
   "cell_type": "markdown",
   "metadata": {},
   "source": [
    "### Define source folders"
   ]
  },
  {
   "cell_type": "code",
   "execution_count": 6,
   "metadata": {},
   "outputs": [],
   "source": [
    "source_folders = [\n",
    "    \"inputs/mildew_dataset/cherry-leaves/test\",\n",
    "    \"inputs/mildew_dataset/cherry-leaves/train\"\n",
    "]"
   ]
  },
  {
   "cell_type": "markdown",
   "metadata": {},
   "source": [
    "### Define destination folders"
   ]
  },
  {
   "cell_type": "code",
   "execution_count": 7,
   "metadata": {},
   "outputs": [],
   "source": [
    "destination_folders = {\n",
    "    \"healthy\": \"inputs/mildew_dataset/cherry-leaves/healthy\",\n",
    "    \"powdery_mildew\": \"inputs/mildew_dataset/cherry-leaves/powdery_mildew\"\n",
    "}"
   ]
  },
  {
   "cell_type": "markdown",
   "metadata": {},
   "source": [
    "### Define the directories to be removed"
   ]
  },
  {
   "cell_type": "code",
   "execution_count": 8,
   "metadata": {},
   "outputs": [],
   "source": [
    "directories_to_remove = [\n",
    "    \"inputs/mildew_dataset/cherry-leaves/test\",\n",
    "    \"inputs/mildew_dataset/cherry-leaves/train\"\n",
    "]"
   ]
  },
  {
   "cell_type": "markdown",
   "metadata": {},
   "source": [
    "### Define the directories to standardize"
   ]
  },
  {
   "cell_type": "code",
   "execution_count": 9,
   "metadata": {},
   "outputs": [],
   "source": [
    "healthy_folder_path = '/workspaces/Mildew-Detection-in-Cherry-Leaves/inputs/mildew_dataset/cherry-leaves/healthy'\n",
    "mildew_folder_path = '/workspaces/Mildew-Detection-in-Cherry-Leaves/inputs/mildew_dataset/cherry-leaves/powdery_mildew'"
   ]
  },
  {
   "cell_type": "markdown",
   "metadata": {},
   "source": [
    "### Execute the function"
   ]
  },
  {
   "cell_type": "code",
   "execution_count": 10,
   "metadata": {},
   "outputs": [
    {
     "name": "stdout",
     "output_type": "stream",
     "text": [
      "All images have been successfully merged and grouped by category into their respective destination folders.\n"
     ]
    }
   ],
   "source": [
    "rename_images_in_folder(\"inputs/mildew_dataset/cherry-leaves/train/healthy\", \"train_healthy\")\n",
    "rename_images_in_folder(\"inputs/mildew_dataset/cherry-leaves/train/powdery_mildew\", \"train_mildew\")\n",
    "merge_and_group_images(source_folders, destination_folders)\n",
    "remove_initial_directories(directories_to_remove)\n",
    "standardize_image_names(healthy_folder_path, 'healthy')\n",
    "standardize_image_names(mildew_folder_path, 'mildew')\n",
    "print(\"All images have been successfully merged and grouped by category into their respective destination folders.\")"
   ]
  },
  {
   "cell_type": "markdown",
   "metadata": {},
   "source": [
    "## 5. Equalizing Image Numbers to Avoid Bias"
   ]
  },
  {
   "cell_type": "markdown",
   "metadata": {},
   "source": [
    "In this step, we've ensured an equal number of images for both 'healthy' and 'powdery mildew' categories. This is crucial for preventing bias in our model's training, as an imbalanced dataset could lead to skewed predictions. Our goal is to provide the CNN with a fair representation of both categories, enhancing its ability to accurately classify cherry leaves."
   ]
  },
  {
   "cell_type": "markdown",
   "metadata": {},
   "source": [
    "### Count Images in Each Folder:"
   ]
  },
  {
   "cell_type": "code",
   "execution_count": 11,
   "metadata": {},
   "outputs": [
    {
     "name": "stdout",
     "output_type": "stream",
     "text": [
      "2986\n",
      "2793\n"
     ]
    }
   ],
   "source": [
    "healthy_images_count = len(os.listdir('/workspaces/Mildew-Detection-in-Cherry-Leaves/inputs/mildew_dataset/cherry-leaves/healthy'))\n",
    "mildew_images_count = len(os.listdir('/workspaces/Mildew-Detection-in-Cherry-Leaves/inputs/mildew_dataset/cherry-leaves/powdery_mildew'))\n",
    "print(healthy_images_count)\n",
    "print(mildew_images_count)"
   ]
  },
  {
   "cell_type": "markdown",
   "metadata": {},
   "source": [
    "### Determine the Difference and Set Image Generation Count:"
   ]
  },
  {
   "cell_type": "code",
   "execution_count": 12,
   "metadata": {},
   "outputs": [
    {
     "name": "stdout",
     "output_type": "stream",
     "text": [
      "193\n"
     ]
    }
   ],
   "source": [
    "images_to_generate = abs(healthy_images_count - mildew_images_count)\n",
    "folder_to_use = '/workspaces/Mildew-Detection-in-Cherry-Leaves/inputs/mildew_dataset/cherry-leaves/powdery_mildew' if healthy_images_count > mildew_images_count else '/workspaces/Mildew-Detection-in-Cherry-Leaves/inputs/mildew_dataset/cherry-leaves/healthy'\n",
    "print(images_to_generate)"
   ]
  },
  {
   "cell_type": "markdown",
   "metadata": {},
   "source": [
    "### Define Image Transformation Functions:"
   ]
  },
  {
   "cell_type": "code",
   "execution_count": 13,
   "metadata": {},
   "outputs": [],
   "source": [
    "from PIL import Image, ImageOps\n",
    "\n",
    "def random_transformation(image_path):\n",
    "    image = Image.open(image_path)\n",
    "    choice = random.randint(1, 3)\n",
    "    if choice == 1:\n",
    "        # Mirror\n",
    "        return ImageOps.mirror(image)\n",
    "    elif choice == 2:\n",
    "        # Adjust brightness\n",
    "        return ImageEnhance.Brightness(image).enhance(random.uniform(0.5, 1.5))\n",
    "    else:\n",
    "        # Rotate\n",
    "        return image.rotate(random.choice([90, 180, 270]))"
   ]
  },
  {
   "cell_type": "markdown",
   "metadata": {},
   "source": [
    "### Generate and Save Transformed Images:"
   ]
  },
  {
   "cell_type": "code",
   "execution_count": 14,
   "metadata": {},
   "outputs": [
    {
     "name": "stdout",
     "output_type": "stream",
     "text": [
      "Processing image number: 0\n",
      "Selected random image for transformation: mildew_950.jpg\n",
      "Saving transformed image to: /workspaces/Mildew-Detection-in-Cherry-Leaves/inputs/mildew_dataset/cherry-leaves/powdery_mildew/synthetic_0.jpg\n",
      "Processing image number: 1\n",
      "Selected random image for transformation: mildew_2012.jpg\n",
      "Saving transformed image to: /workspaces/Mildew-Detection-in-Cherry-Leaves/inputs/mildew_dataset/cherry-leaves/powdery_mildew/synthetic_1.jpg\n",
      "Processing image number: 2\n",
      "Selected random image for transformation: mildew_54.jpg\n",
      "Saving transformed image to: /workspaces/Mildew-Detection-in-Cherry-Leaves/inputs/mildew_dataset/cherry-leaves/powdery_mildew/synthetic_2.jpg\n",
      "Processing image number: 3\n",
      "Selected random image for transformation: mildew_2213.jpg\n",
      "Saving transformed image to: /workspaces/Mildew-Detection-in-Cherry-Leaves/inputs/mildew_dataset/cherry-leaves/powdery_mildew/synthetic_3.jpg\n",
      "Processing image number: 4\n",
      "Selected random image for transformation: mildew_498.jpg\n",
      "Saving transformed image to: /workspaces/Mildew-Detection-in-Cherry-Leaves/inputs/mildew_dataset/cherry-leaves/powdery_mildew/synthetic_4.jpg\n",
      "Processing image number: 5\n",
      "Selected random image for transformation: mildew_1103.jpg\n",
      "Saving transformed image to: /workspaces/Mildew-Detection-in-Cherry-Leaves/inputs/mildew_dataset/cherry-leaves/powdery_mildew/synthetic_5.jpg\n",
      "Processing image number: 6\n",
      "Selected random image for transformation: mildew_2316.jpg\n",
      "Saving transformed image to: /workspaces/Mildew-Detection-in-Cherry-Leaves/inputs/mildew_dataset/cherry-leaves/powdery_mildew/synthetic_6.jpg\n",
      "Processing image number: 7\n",
      "Selected random image for transformation: mildew_737.jpg\n",
      "Saving transformed image to: /workspaces/Mildew-Detection-in-Cherry-Leaves/inputs/mildew_dataset/cherry-leaves/powdery_mildew/synthetic_7.jpg\n",
      "Processing image number: 8\n",
      "Selected random image for transformation: mildew_324.jpg\n",
      "Saving transformed image to: /workspaces/Mildew-Detection-in-Cherry-Leaves/inputs/mildew_dataset/cherry-leaves/powdery_mildew/synthetic_8.jpg\n",
      "Processing image number: 9\n",
      "Selected random image for transformation: mildew_1942.jpg\n",
      "Saving transformed image to: /workspaces/Mildew-Detection-in-Cherry-Leaves/inputs/mildew_dataset/cherry-leaves/powdery_mildew/synthetic_9.jpg\n",
      "Processing image number: 10\n",
      "Selected random image for transformation: mildew_1900.jpg\n",
      "Saving transformed image to: /workspaces/Mildew-Detection-in-Cherry-Leaves/inputs/mildew_dataset/cherry-leaves/powdery_mildew/synthetic_10.jpg\n",
      "Processing image number: 11\n",
      "Selected random image for transformation: mildew_49.jpg\n",
      "Saving transformed image to: /workspaces/Mildew-Detection-in-Cherry-Leaves/inputs/mildew_dataset/cherry-leaves/powdery_mildew/synthetic_11.jpg\n",
      "Processing image number: 12\n",
      "Selected random image for transformation: mildew_1315.jpg\n",
      "Saving transformed image to: /workspaces/Mildew-Detection-in-Cherry-Leaves/inputs/mildew_dataset/cherry-leaves/powdery_mildew/synthetic_12.jpg\n",
      "Processing image number: 13\n",
      "Selected random image for transformation: mildew_2490.jpg\n",
      "Saving transformed image to: /workspaces/Mildew-Detection-in-Cherry-Leaves/inputs/mildew_dataset/cherry-leaves/powdery_mildew/synthetic_13.jpg\n",
      "Processing image number: 14\n",
      "Selected random image for transformation: mildew_1455.jpg\n",
      "Saving transformed image to: /workspaces/Mildew-Detection-in-Cherry-Leaves/inputs/mildew_dataset/cherry-leaves/powdery_mildew/synthetic_14.jpg\n",
      "Processing image number: 15\n",
      "Selected random image for transformation: mildew_1415.jpg\n",
      "Saving transformed image to: /workspaces/Mildew-Detection-in-Cherry-Leaves/inputs/mildew_dataset/cherry-leaves/powdery_mildew/synthetic_15.jpg\n",
      "Processing image number: 16\n",
      "Selected random image for transformation: mildew_153.jpg\n",
      "Saving transformed image to: /workspaces/Mildew-Detection-in-Cherry-Leaves/inputs/mildew_dataset/cherry-leaves/powdery_mildew/synthetic_16.jpg\n",
      "Processing image number: 17\n",
      "Selected random image for transformation: mildew_576.jpg\n",
      "Saving transformed image to: /workspaces/Mildew-Detection-in-Cherry-Leaves/inputs/mildew_dataset/cherry-leaves/powdery_mildew/synthetic_17.jpg\n",
      "Processing image number: 18\n",
      "Selected random image for transformation: mildew_2465.jpg\n",
      "Saving transformed image to: /workspaces/Mildew-Detection-in-Cherry-Leaves/inputs/mildew_dataset/cherry-leaves/powdery_mildew/synthetic_18.jpg\n",
      "Processing image number: 19\n",
      "Selected random image for transformation: mildew_1983.jpg\n",
      "Saving transformed image to: /workspaces/Mildew-Detection-in-Cherry-Leaves/inputs/mildew_dataset/cherry-leaves/powdery_mildew/synthetic_19.jpg\n",
      "Processing image number: 20\n",
      "Selected random image for transformation: mildew_1015.jpg\n",
      "Saving transformed image to: /workspaces/Mildew-Detection-in-Cherry-Leaves/inputs/mildew_dataset/cherry-leaves/powdery_mildew/synthetic_20.jpg\n",
      "Processing image number: 21\n",
      "Selected random image for transformation: mildew_964.jpg\n",
      "Saving transformed image to: /workspaces/Mildew-Detection-in-Cherry-Leaves/inputs/mildew_dataset/cherry-leaves/powdery_mildew/synthetic_21.jpg\n",
      "Processing image number: 22\n",
      "Selected random image for transformation: mildew_431.jpg\n",
      "Saving transformed image to: /workspaces/Mildew-Detection-in-Cherry-Leaves/inputs/mildew_dataset/cherry-leaves/powdery_mildew/synthetic_22.jpg\n",
      "Processing image number: 23\n",
      "Selected random image for transformation: mildew_1351.jpg\n",
      "Saving transformed image to: /workspaces/Mildew-Detection-in-Cherry-Leaves/inputs/mildew_dataset/cherry-leaves/powdery_mildew/synthetic_23.jpg\n",
      "Processing image number: 24\n",
      "Selected random image for transformation: mildew_1705.jpg\n",
      "Saving transformed image to: /workspaces/Mildew-Detection-in-Cherry-Leaves/inputs/mildew_dataset/cherry-leaves/powdery_mildew/synthetic_24.jpg\n",
      "Processing image number: 25\n",
      "Selected random image for transformation: mildew_1972.jpg\n",
      "Saving transformed image to: /workspaces/Mildew-Detection-in-Cherry-Leaves/inputs/mildew_dataset/cherry-leaves/powdery_mildew/synthetic_25.jpg\n",
      "Processing image number: 26\n",
      "Selected random image for transformation: mildew_1853.jpg\n",
      "Saving transformed image to: /workspaces/Mildew-Detection-in-Cherry-Leaves/inputs/mildew_dataset/cherry-leaves/powdery_mildew/synthetic_26.jpg\n",
      "Processing image number: 27\n",
      "Selected random image for transformation: synthetic_2.jpg\n",
      "Saving transformed image to: /workspaces/Mildew-Detection-in-Cherry-Leaves/inputs/mildew_dataset/cherry-leaves/powdery_mildew/synthetic_27.jpg\n",
      "Processing image number: 28\n",
      "Selected random image for transformation: mildew_293.jpg\n",
      "Saving transformed image to: /workspaces/Mildew-Detection-in-Cherry-Leaves/inputs/mildew_dataset/cherry-leaves/powdery_mildew/synthetic_28.jpg\n",
      "Processing image number: 29\n",
      "Selected random image for transformation: mildew_1052.jpg\n",
      "Saving transformed image to: /workspaces/Mildew-Detection-in-Cherry-Leaves/inputs/mildew_dataset/cherry-leaves/powdery_mildew/synthetic_29.jpg\n",
      "Processing image number: 30\n",
      "Selected random image for transformation: mildew_2444.jpg\n",
      "Saving transformed image to: /workspaces/Mildew-Detection-in-Cherry-Leaves/inputs/mildew_dataset/cherry-leaves/powdery_mildew/synthetic_30.jpg\n",
      "Processing image number: 31\n",
      "Selected random image for transformation: mildew_1131.jpg\n",
      "Saving transformed image to: /workspaces/Mildew-Detection-in-Cherry-Leaves/inputs/mildew_dataset/cherry-leaves/powdery_mildew/synthetic_31.jpg\n",
      "Processing image number: 32\n",
      "Selected random image for transformation: mildew_2466.jpg\n",
      "Saving transformed image to: /workspaces/Mildew-Detection-in-Cherry-Leaves/inputs/mildew_dataset/cherry-leaves/powdery_mildew/synthetic_32.jpg\n",
      "Processing image number: 33\n",
      "Selected random image for transformation: mildew_195.jpg\n",
      "Saving transformed image to: /workspaces/Mildew-Detection-in-Cherry-Leaves/inputs/mildew_dataset/cherry-leaves/powdery_mildew/synthetic_33.jpg\n",
      "Processing image number: 34\n",
      "Selected random image for transformation: mildew_1927.jpg\n",
      "Saving transformed image to: /workspaces/Mildew-Detection-in-Cherry-Leaves/inputs/mildew_dataset/cherry-leaves/powdery_mildew/synthetic_34.jpg\n",
      "Processing image number: 35\n",
      "Selected random image for transformation: mildew_1048.jpg\n",
      "Saving transformed image to: /workspaces/Mildew-Detection-in-Cherry-Leaves/inputs/mildew_dataset/cherry-leaves/powdery_mildew/synthetic_35.jpg\n",
      "Processing image number: 36\n",
      "Selected random image for transformation: mildew_1039.jpg\n",
      "Saving transformed image to: /workspaces/Mildew-Detection-in-Cherry-Leaves/inputs/mildew_dataset/cherry-leaves/powdery_mildew/synthetic_36.jpg\n",
      "Processing image number: 37\n",
      "Selected random image for transformation: mildew_2176.jpg\n",
      "Saving transformed image to: /workspaces/Mildew-Detection-in-Cherry-Leaves/inputs/mildew_dataset/cherry-leaves/powdery_mildew/synthetic_37.jpg\n",
      "Processing image number: 38\n",
      "Selected random image for transformation: mildew_411.jpg\n",
      "Saving transformed image to: /workspaces/Mildew-Detection-in-Cherry-Leaves/inputs/mildew_dataset/cherry-leaves/powdery_mildew/synthetic_38.jpg\n",
      "Processing image number: 39\n",
      "Selected random image for transformation: mildew_978.jpg\n",
      "Saving transformed image to: /workspaces/Mildew-Detection-in-Cherry-Leaves/inputs/mildew_dataset/cherry-leaves/powdery_mildew/synthetic_39.jpg\n",
      "Processing image number: 40\n",
      "Selected random image for transformation: mildew_387.jpg\n",
      "Saving transformed image to: /workspaces/Mildew-Detection-in-Cherry-Leaves/inputs/mildew_dataset/cherry-leaves/powdery_mildew/synthetic_40.jpg\n",
      "Processing image number: 41\n",
      "Selected random image for transformation: mildew_1368.jpg\n",
      "Saving transformed image to: /workspaces/Mildew-Detection-in-Cherry-Leaves/inputs/mildew_dataset/cherry-leaves/powdery_mildew/synthetic_41.jpg\n",
      "Processing image number: 42\n",
      "Selected random image for transformation: mildew_1596.jpg\n",
      "Saving transformed image to: /workspaces/Mildew-Detection-in-Cherry-Leaves/inputs/mildew_dataset/cherry-leaves/powdery_mildew/synthetic_42.jpg\n",
      "Processing image number: 43\n",
      "Selected random image for transformation: mildew_1618.jpg\n",
      "Saving transformed image to: /workspaces/Mildew-Detection-in-Cherry-Leaves/inputs/mildew_dataset/cherry-leaves/powdery_mildew/synthetic_43.jpg\n",
      "Processing image number: 44\n",
      "Selected random image for transformation: mildew_2345.jpg\n",
      "Saving transformed image to: /workspaces/Mildew-Detection-in-Cherry-Leaves/inputs/mildew_dataset/cherry-leaves/powdery_mildew/synthetic_44.jpg\n",
      "Processing image number: 45\n",
      "Selected random image for transformation: mildew_1522.jpg\n",
      "Saving transformed image to: /workspaces/Mildew-Detection-in-Cherry-Leaves/inputs/mildew_dataset/cherry-leaves/powdery_mildew/synthetic_45.jpg\n",
      "Processing image number: 46\n",
      "Selected random image for transformation: mildew_2440.jpg\n",
      "Saving transformed image to: /workspaces/Mildew-Detection-in-Cherry-Leaves/inputs/mildew_dataset/cherry-leaves/powdery_mildew/synthetic_46.jpg\n",
      "Processing image number: 47\n",
      "Selected random image for transformation: mildew_323.jpg\n",
      "Saving transformed image to: /workspaces/Mildew-Detection-in-Cherry-Leaves/inputs/mildew_dataset/cherry-leaves/powdery_mildew/synthetic_47.jpg\n",
      "Processing image number: 48\n",
      "Selected random image for transformation: mildew_2655.jpg\n",
      "Saving transformed image to: /workspaces/Mildew-Detection-in-Cherry-Leaves/inputs/mildew_dataset/cherry-leaves/powdery_mildew/synthetic_48.jpg\n",
      "Processing image number: 49\n",
      "Selected random image for transformation: mildew_1422.jpg\n",
      "Saving transformed image to: /workspaces/Mildew-Detection-in-Cherry-Leaves/inputs/mildew_dataset/cherry-leaves/powdery_mildew/synthetic_49.jpg\n",
      "Processing image number: 50\n",
      "Selected random image for transformation: mildew_646.jpg\n",
      "Saving transformed image to: /workspaces/Mildew-Detection-in-Cherry-Leaves/inputs/mildew_dataset/cherry-leaves/powdery_mildew/synthetic_50.jpg\n",
      "Processing image number: 51\n",
      "Selected random image for transformation: mildew_167.jpg\n",
      "Saving transformed image to: /workspaces/Mildew-Detection-in-Cherry-Leaves/inputs/mildew_dataset/cherry-leaves/powdery_mildew/synthetic_51.jpg\n",
      "Processing image number: 52\n",
      "Selected random image for transformation: mildew_1311.jpg\n",
      "Saving transformed image to: /workspaces/Mildew-Detection-in-Cherry-Leaves/inputs/mildew_dataset/cherry-leaves/powdery_mildew/synthetic_52.jpg\n",
      "Processing image number: 53\n",
      "Selected random image for transformation: mildew_1586.jpg\n",
      "Saving transformed image to: /workspaces/Mildew-Detection-in-Cherry-Leaves/inputs/mildew_dataset/cherry-leaves/powdery_mildew/synthetic_53.jpg\n",
      "Processing image number: 54\n",
      "Selected random image for transformation: synthetic_3.jpg\n",
      "Saving transformed image to: /workspaces/Mildew-Detection-in-Cherry-Leaves/inputs/mildew_dataset/cherry-leaves/powdery_mildew/synthetic_54.jpg\n",
      "Processing image number: 55\n",
      "Selected random image for transformation: mildew_1598.jpg\n",
      "Saving transformed image to: /workspaces/Mildew-Detection-in-Cherry-Leaves/inputs/mildew_dataset/cherry-leaves/powdery_mildew/synthetic_55.jpg\n",
      "Processing image number: 56\n",
      "Selected random image for transformation: mildew_173.jpg\n",
      "Saving transformed image to: /workspaces/Mildew-Detection-in-Cherry-Leaves/inputs/mildew_dataset/cherry-leaves/powdery_mildew/synthetic_56.jpg\n",
      "Processing image number: 57\n",
      "Selected random image for transformation: mildew_268.jpg\n",
      "Saving transformed image to: /workspaces/Mildew-Detection-in-Cherry-Leaves/inputs/mildew_dataset/cherry-leaves/powdery_mildew/synthetic_57.jpg\n",
      "Processing image number: 58\n",
      "Selected random image for transformation: mildew_1672.jpg\n",
      "Saving transformed image to: /workspaces/Mildew-Detection-in-Cherry-Leaves/inputs/mildew_dataset/cherry-leaves/powdery_mildew/synthetic_58.jpg\n",
      "Processing image number: 59\n",
      "Selected random image for transformation: mildew_2024.jpg\n",
      "Saving transformed image to: /workspaces/Mildew-Detection-in-Cherry-Leaves/inputs/mildew_dataset/cherry-leaves/powdery_mildew/synthetic_59.jpg\n",
      "Processing image number: 60\n",
      "Selected random image for transformation: mildew_699.jpg\n",
      "Saving transformed image to: /workspaces/Mildew-Detection-in-Cherry-Leaves/inputs/mildew_dataset/cherry-leaves/powdery_mildew/synthetic_60.jpg\n",
      "Processing image number: 61\n",
      "Selected random image for transformation: mildew_320.jpg\n",
      "Saving transformed image to: /workspaces/Mildew-Detection-in-Cherry-Leaves/inputs/mildew_dataset/cherry-leaves/powdery_mildew/synthetic_61.jpg\n",
      "Processing image number: 62\n",
      "Selected random image for transformation: mildew_1842.jpg\n",
      "Saving transformed image to: /workspaces/Mildew-Detection-in-Cherry-Leaves/inputs/mildew_dataset/cherry-leaves/powdery_mildew/synthetic_62.jpg\n",
      "Processing image number: 63\n",
      "Selected random image for transformation: mildew_981.jpg\n",
      "Saving transformed image to: /workspaces/Mildew-Detection-in-Cherry-Leaves/inputs/mildew_dataset/cherry-leaves/powdery_mildew/synthetic_63.jpg\n",
      "Processing image number: 64\n",
      "Selected random image for transformation: mildew_1321.jpg\n",
      "Saving transformed image to: /workspaces/Mildew-Detection-in-Cherry-Leaves/inputs/mildew_dataset/cherry-leaves/powdery_mildew/synthetic_64.jpg\n",
      "Processing image number: 65\n",
      "Selected random image for transformation: mildew_2433.jpg\n",
      "Saving transformed image to: /workspaces/Mildew-Detection-in-Cherry-Leaves/inputs/mildew_dataset/cherry-leaves/powdery_mildew/synthetic_65.jpg\n",
      "Processing image number: 66\n",
      "Selected random image for transformation: mildew_1823.jpg\n",
      "Saving transformed image to: /workspaces/Mildew-Detection-in-Cherry-Leaves/inputs/mildew_dataset/cherry-leaves/powdery_mildew/synthetic_66.jpg\n",
      "Processing image number: 67\n",
      "Selected random image for transformation: mildew_308.jpg\n",
      "Saving transformed image to: /workspaces/Mildew-Detection-in-Cherry-Leaves/inputs/mildew_dataset/cherry-leaves/powdery_mildew/synthetic_67.jpg\n",
      "Processing image number: 68\n",
      "Selected random image for transformation: mildew_1700.jpg\n",
      "Saving transformed image to: /workspaces/Mildew-Detection-in-Cherry-Leaves/inputs/mildew_dataset/cherry-leaves/powdery_mildew/synthetic_68.jpg\n",
      "Processing image number: 69\n",
      "Selected random image for transformation: mildew_1205.jpg\n",
      "Saving transformed image to: /workspaces/Mildew-Detection-in-Cherry-Leaves/inputs/mildew_dataset/cherry-leaves/powdery_mildew/synthetic_69.jpg\n",
      "Processing image number: 70\n",
      "Selected random image for transformation: synthetic_49.jpg\n",
      "Saving transformed image to: /workspaces/Mildew-Detection-in-Cherry-Leaves/inputs/mildew_dataset/cherry-leaves/powdery_mildew/synthetic_70.jpg\n",
      "Processing image number: 71\n",
      "Selected random image for transformation: mildew_1247.jpg\n",
      "Saving transformed image to: /workspaces/Mildew-Detection-in-Cherry-Leaves/inputs/mildew_dataset/cherry-leaves/powdery_mildew/synthetic_71.jpg\n",
      "Processing image number: 72\n",
      "Selected random image for transformation: mildew_2093.jpg\n",
      "Saving transformed image to: /workspaces/Mildew-Detection-in-Cherry-Leaves/inputs/mildew_dataset/cherry-leaves/powdery_mildew/synthetic_72.jpg\n",
      "Processing image number: 73\n",
      "Selected random image for transformation: mildew_802.jpg\n",
      "Saving transformed image to: /workspaces/Mildew-Detection-in-Cherry-Leaves/inputs/mildew_dataset/cherry-leaves/powdery_mildew/synthetic_73.jpg\n",
      "Processing image number: 74\n",
      "Selected random image for transformation: mildew_257.jpg\n",
      "Saving transformed image to: /workspaces/Mildew-Detection-in-Cherry-Leaves/inputs/mildew_dataset/cherry-leaves/powdery_mildew/synthetic_74.jpg\n",
      "Processing image number: 75\n",
      "Selected random image for transformation: mildew_2344.jpg\n",
      "Saving transformed image to: /workspaces/Mildew-Detection-in-Cherry-Leaves/inputs/mildew_dataset/cherry-leaves/powdery_mildew/synthetic_75.jpg\n",
      "Processing image number: 76\n",
      "Selected random image for transformation: mildew_2079.jpg\n",
      "Saving transformed image to: /workspaces/Mildew-Detection-in-Cherry-Leaves/inputs/mildew_dataset/cherry-leaves/powdery_mildew/synthetic_76.jpg\n",
      "Processing image number: 77\n",
      "Selected random image for transformation: mildew_1704.jpg\n",
      "Saving transformed image to: /workspaces/Mildew-Detection-in-Cherry-Leaves/inputs/mildew_dataset/cherry-leaves/powdery_mildew/synthetic_77.jpg\n",
      "Processing image number: 78\n",
      "Selected random image for transformation: mildew_2153.jpg\n",
      "Saving transformed image to: /workspaces/Mildew-Detection-in-Cherry-Leaves/inputs/mildew_dataset/cherry-leaves/powdery_mildew/synthetic_78.jpg\n",
      "Processing image number: 79\n",
      "Selected random image for transformation: mildew_1439.jpg\n",
      "Saving transformed image to: /workspaces/Mildew-Detection-in-Cherry-Leaves/inputs/mildew_dataset/cherry-leaves/powdery_mildew/synthetic_79.jpg\n",
      "Processing image number: 80\n",
      "Selected random image for transformation: mildew_2552.jpg\n",
      "Saving transformed image to: /workspaces/Mildew-Detection-in-Cherry-Leaves/inputs/mildew_dataset/cherry-leaves/powdery_mildew/synthetic_80.jpg\n",
      "Processing image number: 81\n",
      "Selected random image for transformation: mildew_1401.jpg\n",
      "Saving transformed image to: /workspaces/Mildew-Detection-in-Cherry-Leaves/inputs/mildew_dataset/cherry-leaves/powdery_mildew/synthetic_81.jpg\n",
      "Processing image number: 82\n",
      "Selected random image for transformation: mildew_530.jpg\n",
      "Saving transformed image to: /workspaces/Mildew-Detection-in-Cherry-Leaves/inputs/mildew_dataset/cherry-leaves/powdery_mildew/synthetic_82.jpg\n",
      "Processing image number: 83\n",
      "Selected random image for transformation: mildew_1730.jpg\n",
      "Saving transformed image to: /workspaces/Mildew-Detection-in-Cherry-Leaves/inputs/mildew_dataset/cherry-leaves/powdery_mildew/synthetic_83.jpg\n",
      "Processing image number: 84\n",
      "Selected random image for transformation: mildew_1314.jpg\n",
      "Saving transformed image to: /workspaces/Mildew-Detection-in-Cherry-Leaves/inputs/mildew_dataset/cherry-leaves/powdery_mildew/synthetic_84.jpg\n",
      "Processing image number: 85\n",
      "Selected random image for transformation: mildew_630.jpg\n",
      "Saving transformed image to: /workspaces/Mildew-Detection-in-Cherry-Leaves/inputs/mildew_dataset/cherry-leaves/powdery_mildew/synthetic_85.jpg\n",
      "Processing image number: 86\n",
      "Selected random image for transformation: mildew_935.jpg\n",
      "Saving transformed image to: /workspaces/Mildew-Detection-in-Cherry-Leaves/inputs/mildew_dataset/cherry-leaves/powdery_mildew/synthetic_86.jpg\n",
      "Processing image number: 87\n",
      "Selected random image for transformation: mildew_325.jpg\n",
      "Saving transformed image to: /workspaces/Mildew-Detection-in-Cherry-Leaves/inputs/mildew_dataset/cherry-leaves/powdery_mildew/synthetic_87.jpg\n",
      "Processing image number: 88\n",
      "Selected random image for transformation: mildew_2018.jpg\n",
      "Saving transformed image to: /workspaces/Mildew-Detection-in-Cherry-Leaves/inputs/mildew_dataset/cherry-leaves/powdery_mildew/synthetic_88.jpg\n",
      "Processing image number: 89\n",
      "Selected random image for transformation: mildew_503.jpg\n",
      "Saving transformed image to: /workspaces/Mildew-Detection-in-Cherry-Leaves/inputs/mildew_dataset/cherry-leaves/powdery_mildew/synthetic_89.jpg\n",
      "Processing image number: 90\n",
      "Selected random image for transformation: mildew_179.jpg\n",
      "Saving transformed image to: /workspaces/Mildew-Detection-in-Cherry-Leaves/inputs/mildew_dataset/cherry-leaves/powdery_mildew/synthetic_90.jpg\n",
      "Processing image number: 91\n",
      "Selected random image for transformation: mildew_1306.jpg\n",
      "Saving transformed image to: /workspaces/Mildew-Detection-in-Cherry-Leaves/inputs/mildew_dataset/cherry-leaves/powdery_mildew/synthetic_91.jpg\n",
      "Processing image number: 92\n",
      "Selected random image for transformation: mildew_1115.jpg\n",
      "Saving transformed image to: /workspaces/Mildew-Detection-in-Cherry-Leaves/inputs/mildew_dataset/cherry-leaves/powdery_mildew/synthetic_92.jpg\n",
      "Processing image number: 93\n",
      "Selected random image for transformation: mildew_2168.jpg\n",
      "Saving transformed image to: /workspaces/Mildew-Detection-in-Cherry-Leaves/inputs/mildew_dataset/cherry-leaves/powdery_mildew/synthetic_93.jpg\n",
      "Processing image number: 94\n",
      "Selected random image for transformation: mildew_1084.jpg\n",
      "Saving transformed image to: /workspaces/Mildew-Detection-in-Cherry-Leaves/inputs/mildew_dataset/cherry-leaves/powdery_mildew/synthetic_94.jpg\n",
      "Processing image number: 95\n",
      "Selected random image for transformation: mildew_771.jpg\n",
      "Saving transformed image to: /workspaces/Mildew-Detection-in-Cherry-Leaves/inputs/mildew_dataset/cherry-leaves/powdery_mildew/synthetic_95.jpg\n",
      "Processing image number: 96\n",
      "Selected random image for transformation: mildew_516.jpg\n",
      "Saving transformed image to: /workspaces/Mildew-Detection-in-Cherry-Leaves/inputs/mildew_dataset/cherry-leaves/powdery_mildew/synthetic_96.jpg\n",
      "Processing image number: 97\n",
      "Selected random image for transformation: mildew_1955.jpg\n",
      "Saving transformed image to: /workspaces/Mildew-Detection-in-Cherry-Leaves/inputs/mildew_dataset/cherry-leaves/powdery_mildew/synthetic_97.jpg\n",
      "Processing image number: 98\n",
      "Selected random image for transformation: mildew_2037.jpg\n",
      "Saving transformed image to: /workspaces/Mildew-Detection-in-Cherry-Leaves/inputs/mildew_dataset/cherry-leaves/powdery_mildew/synthetic_98.jpg\n",
      "Processing image number: 99\n",
      "Selected random image for transformation: mildew_2456.jpg\n",
      "Saving transformed image to: /workspaces/Mildew-Detection-in-Cherry-Leaves/inputs/mildew_dataset/cherry-leaves/powdery_mildew/synthetic_99.jpg\n",
      "Processing image number: 100\n",
      "Selected random image for transformation: mildew_2529.jpg\n",
      "Saving transformed image to: /workspaces/Mildew-Detection-in-Cherry-Leaves/inputs/mildew_dataset/cherry-leaves/powdery_mildew/synthetic_100.jpg\n",
      "Processing image number: 101\n",
      "Selected random image for transformation: mildew_1245.jpg\n",
      "Saving transformed image to: /workspaces/Mildew-Detection-in-Cherry-Leaves/inputs/mildew_dataset/cherry-leaves/powdery_mildew/synthetic_101.jpg\n",
      "Processing image number: 102\n",
      "Selected random image for transformation: synthetic_39.jpg\n",
      "Saving transformed image to: /workspaces/Mildew-Detection-in-Cherry-Leaves/inputs/mildew_dataset/cherry-leaves/powdery_mildew/synthetic_102.jpg\n",
      "Processing image number: 103\n",
      "Selected random image for transformation: mildew_1124.jpg\n",
      "Saving transformed image to: /workspaces/Mildew-Detection-in-Cherry-Leaves/inputs/mildew_dataset/cherry-leaves/powdery_mildew/synthetic_103.jpg\n",
      "Processing image number: 104\n",
      "Selected random image for transformation: mildew_684.jpg\n",
      "Saving transformed image to: /workspaces/Mildew-Detection-in-Cherry-Leaves/inputs/mildew_dataset/cherry-leaves/powdery_mildew/synthetic_104.jpg\n",
      "Processing image number: 105\n",
      "Selected random image for transformation: mildew_2274.jpg\n",
      "Saving transformed image to: /workspaces/Mildew-Detection-in-Cherry-Leaves/inputs/mildew_dataset/cherry-leaves/powdery_mildew/synthetic_105.jpg\n",
      "Processing image number: 106\n",
      "Selected random image for transformation: mildew_2031.jpg\n",
      "Saving transformed image to: /workspaces/Mildew-Detection-in-Cherry-Leaves/inputs/mildew_dataset/cherry-leaves/powdery_mildew/synthetic_106.jpg\n",
      "Processing image number: 107\n",
      "Selected random image for transformation: mildew_2199.jpg\n",
      "Saving transformed image to: /workspaces/Mildew-Detection-in-Cherry-Leaves/inputs/mildew_dataset/cherry-leaves/powdery_mildew/synthetic_107.jpg\n",
      "Processing image number: 108\n",
      "Selected random image for transformation: mildew_199.jpg\n",
      "Saving transformed image to: /workspaces/Mildew-Detection-in-Cherry-Leaves/inputs/mildew_dataset/cherry-leaves/powdery_mildew/synthetic_108.jpg\n",
      "Processing image number: 109\n",
      "Selected random image for transformation: mildew_1384.jpg\n",
      "Saving transformed image to: /workspaces/Mildew-Detection-in-Cherry-Leaves/inputs/mildew_dataset/cherry-leaves/powdery_mildew/synthetic_109.jpg\n",
      "Processing image number: 110\n",
      "Selected random image for transformation: mildew_2504.jpg\n",
      "Saving transformed image to: /workspaces/Mildew-Detection-in-Cherry-Leaves/inputs/mildew_dataset/cherry-leaves/powdery_mildew/synthetic_110.jpg\n",
      "Processing image number: 111\n",
      "Selected random image for transformation: mildew_1223.jpg\n",
      "Saving transformed image to: /workspaces/Mildew-Detection-in-Cherry-Leaves/inputs/mildew_dataset/cherry-leaves/powdery_mildew/synthetic_111.jpg\n",
      "Processing image number: 112\n",
      "Selected random image for transformation: synthetic_4.jpg\n",
      "Saving transformed image to: /workspaces/Mildew-Detection-in-Cherry-Leaves/inputs/mildew_dataset/cherry-leaves/powdery_mildew/synthetic_112.jpg\n",
      "Processing image number: 113\n",
      "Selected random image for transformation: mildew_1300.jpg\n",
      "Saving transformed image to: /workspaces/Mildew-Detection-in-Cherry-Leaves/inputs/mildew_dataset/cherry-leaves/powdery_mildew/synthetic_113.jpg\n",
      "Processing image number: 114\n",
      "Selected random image for transformation: mildew_2032.jpg\n",
      "Saving transformed image to: /workspaces/Mildew-Detection-in-Cherry-Leaves/inputs/mildew_dataset/cherry-leaves/powdery_mildew/synthetic_114.jpg\n",
      "Processing image number: 115\n",
      "Selected random image for transformation: mildew_818.jpg\n",
      "Saving transformed image to: /workspaces/Mildew-Detection-in-Cherry-Leaves/inputs/mildew_dataset/cherry-leaves/powdery_mildew/synthetic_115.jpg\n",
      "Processing image number: 116\n",
      "Selected random image for transformation: mildew_1567.jpg\n",
      "Saving transformed image to: /workspaces/Mildew-Detection-in-Cherry-Leaves/inputs/mildew_dataset/cherry-leaves/powdery_mildew/synthetic_116.jpg\n",
      "Processing image number: 117\n",
      "Selected random image for transformation: mildew_111.jpg\n",
      "Saving transformed image to: /workspaces/Mildew-Detection-in-Cherry-Leaves/inputs/mildew_dataset/cherry-leaves/powdery_mildew/synthetic_117.jpg\n",
      "Processing image number: 118\n",
      "Selected random image for transformation: mildew_2595.jpg\n",
      "Saving transformed image to: /workspaces/Mildew-Detection-in-Cherry-Leaves/inputs/mildew_dataset/cherry-leaves/powdery_mildew/synthetic_118.jpg\n",
      "Processing image number: 119\n",
      "Selected random image for transformation: mildew_198.jpg\n",
      "Saving transformed image to: /workspaces/Mildew-Detection-in-Cherry-Leaves/inputs/mildew_dataset/cherry-leaves/powdery_mildew/synthetic_119.jpg\n",
      "Processing image number: 120\n",
      "Selected random image for transformation: mildew_1086.jpg\n",
      "Saving transformed image to: /workspaces/Mildew-Detection-in-Cherry-Leaves/inputs/mildew_dataset/cherry-leaves/powdery_mildew/synthetic_120.jpg\n",
      "Processing image number: 121\n",
      "Selected random image for transformation: mildew_1750.jpg\n",
      "Saving transformed image to: /workspaces/Mildew-Detection-in-Cherry-Leaves/inputs/mildew_dataset/cherry-leaves/powdery_mildew/synthetic_121.jpg\n",
      "Processing image number: 122\n",
      "Selected random image for transformation: mildew_860.jpg\n",
      "Saving transformed image to: /workspaces/Mildew-Detection-in-Cherry-Leaves/inputs/mildew_dataset/cherry-leaves/powdery_mildew/synthetic_122.jpg\n",
      "Processing image number: 123\n",
      "Selected random image for transformation: mildew_1143.jpg\n",
      "Saving transformed image to: /workspaces/Mildew-Detection-in-Cherry-Leaves/inputs/mildew_dataset/cherry-leaves/powdery_mildew/synthetic_123.jpg\n",
      "Processing image number: 124\n",
      "Selected random image for transformation: mildew_235.jpg\n",
      "Saving transformed image to: /workspaces/Mildew-Detection-in-Cherry-Leaves/inputs/mildew_dataset/cherry-leaves/powdery_mildew/synthetic_124.jpg\n",
      "Processing image number: 125\n",
      "Selected random image for transformation: mildew_785.jpg\n",
      "Saving transformed image to: /workspaces/Mildew-Detection-in-Cherry-Leaves/inputs/mildew_dataset/cherry-leaves/powdery_mildew/synthetic_125.jpg\n",
      "Processing image number: 126\n",
      "Selected random image for transformation: mildew_678.jpg\n",
      "Saving transformed image to: /workspaces/Mildew-Detection-in-Cherry-Leaves/inputs/mildew_dataset/cherry-leaves/powdery_mildew/synthetic_126.jpg\n",
      "Processing image number: 127\n",
      "Selected random image for transformation: mildew_142.jpg\n",
      "Saving transformed image to: /workspaces/Mildew-Detection-in-Cherry-Leaves/inputs/mildew_dataset/cherry-leaves/powdery_mildew/synthetic_127.jpg\n",
      "Processing image number: 128\n",
      "Selected random image for transformation: mildew_1487.jpg\n",
      "Saving transformed image to: /workspaces/Mildew-Detection-in-Cherry-Leaves/inputs/mildew_dataset/cherry-leaves/powdery_mildew/synthetic_128.jpg\n",
      "Processing image number: 129\n",
      "Selected random image for transformation: mildew_2331.jpg\n",
      "Saving transformed image to: /workspaces/Mildew-Detection-in-Cherry-Leaves/inputs/mildew_dataset/cherry-leaves/powdery_mildew/synthetic_129.jpg\n",
      "Processing image number: 130\n",
      "Selected random image for transformation: mildew_1948.jpg\n",
      "Saving transformed image to: /workspaces/Mildew-Detection-in-Cherry-Leaves/inputs/mildew_dataset/cherry-leaves/powdery_mildew/synthetic_130.jpg\n",
      "Processing image number: 131\n",
      "Selected random image for transformation: mildew_192.jpg\n",
      "Saving transformed image to: /workspaces/Mildew-Detection-in-Cherry-Leaves/inputs/mildew_dataset/cherry-leaves/powdery_mildew/synthetic_131.jpg\n",
      "Processing image number: 132\n",
      "Selected random image for transformation: mildew_395.jpg\n",
      "Saving transformed image to: /workspaces/Mildew-Detection-in-Cherry-Leaves/inputs/mildew_dataset/cherry-leaves/powdery_mildew/synthetic_132.jpg\n",
      "Processing image number: 133\n",
      "Selected random image for transformation: mildew_719.jpg\n",
      "Saving transformed image to: /workspaces/Mildew-Detection-in-Cherry-Leaves/inputs/mildew_dataset/cherry-leaves/powdery_mildew/synthetic_133.jpg\n",
      "Processing image number: 134\n",
      "Selected random image for transformation: mildew_1353.jpg\n",
      "Saving transformed image to: /workspaces/Mildew-Detection-in-Cherry-Leaves/inputs/mildew_dataset/cherry-leaves/powdery_mildew/synthetic_134.jpg\n",
      "Processing image number: 135\n",
      "Selected random image for transformation: mildew_1949.jpg\n",
      "Saving transformed image to: /workspaces/Mildew-Detection-in-Cherry-Leaves/inputs/mildew_dataset/cherry-leaves/powdery_mildew/synthetic_135.jpg\n",
      "Processing image number: 136\n",
      "Selected random image for transformation: mildew_39.jpg\n",
      "Saving transformed image to: /workspaces/Mildew-Detection-in-Cherry-Leaves/inputs/mildew_dataset/cherry-leaves/powdery_mildew/synthetic_136.jpg\n",
      "Processing image number: 137\n",
      "Selected random image for transformation: mildew_1761.jpg\n",
      "Saving transformed image to: /workspaces/Mildew-Detection-in-Cherry-Leaves/inputs/mildew_dataset/cherry-leaves/powdery_mildew/synthetic_137.jpg\n",
      "Processing image number: 138\n",
      "Selected random image for transformation: mildew_1128.jpg\n",
      "Saving transformed image to: /workspaces/Mildew-Detection-in-Cherry-Leaves/inputs/mildew_dataset/cherry-leaves/powdery_mildew/synthetic_138.jpg\n",
      "Processing image number: 139\n",
      "Selected random image for transformation: mildew_2081.jpg\n",
      "Saving transformed image to: /workspaces/Mildew-Detection-in-Cherry-Leaves/inputs/mildew_dataset/cherry-leaves/powdery_mildew/synthetic_139.jpg\n",
      "Processing image number: 140\n",
      "Selected random image for transformation: mildew_767.jpg\n",
      "Saving transformed image to: /workspaces/Mildew-Detection-in-Cherry-Leaves/inputs/mildew_dataset/cherry-leaves/powdery_mildew/synthetic_140.jpg\n",
      "Processing image number: 141\n",
      "Selected random image for transformation: mildew_2249.jpg\n",
      "Saving transformed image to: /workspaces/Mildew-Detection-in-Cherry-Leaves/inputs/mildew_dataset/cherry-leaves/powdery_mildew/synthetic_141.jpg\n",
      "Processing image number: 142\n",
      "Selected random image for transformation: mildew_2507.jpg\n",
      "Saving transformed image to: /workspaces/Mildew-Detection-in-Cherry-Leaves/inputs/mildew_dataset/cherry-leaves/powdery_mildew/synthetic_142.jpg\n",
      "Processing image number: 143\n",
      "Selected random image for transformation: mildew_806.jpg\n",
      "Saving transformed image to: /workspaces/Mildew-Detection-in-Cherry-Leaves/inputs/mildew_dataset/cherry-leaves/powdery_mildew/synthetic_143.jpg\n",
      "Processing image number: 144\n",
      "Selected random image for transformation: mildew_1605.jpg\n",
      "Saving transformed image to: /workspaces/Mildew-Detection-in-Cherry-Leaves/inputs/mildew_dataset/cherry-leaves/powdery_mildew/synthetic_144.jpg\n",
      "Processing image number: 145\n",
      "Selected random image for transformation: synthetic_77.jpg\n",
      "Saving transformed image to: /workspaces/Mildew-Detection-in-Cherry-Leaves/inputs/mildew_dataset/cherry-leaves/powdery_mildew/synthetic_145.jpg\n",
      "Processing image number: 146\n",
      "Selected random image for transformation: mildew_2285.jpg\n",
      "Saving transformed image to: /workspaces/Mildew-Detection-in-Cherry-Leaves/inputs/mildew_dataset/cherry-leaves/powdery_mildew/synthetic_146.jpg\n",
      "Processing image number: 147\n",
      "Selected random image for transformation: mildew_1945.jpg\n",
      "Saving transformed image to: /workspaces/Mildew-Detection-in-Cherry-Leaves/inputs/mildew_dataset/cherry-leaves/powdery_mildew/synthetic_147.jpg\n",
      "Processing image number: 148\n",
      "Selected random image for transformation: mildew_1229.jpg\n",
      "Saving transformed image to: /workspaces/Mildew-Detection-in-Cherry-Leaves/inputs/mildew_dataset/cherry-leaves/powdery_mildew/synthetic_148.jpg\n",
      "Processing image number: 149\n",
      "Selected random image for transformation: mildew_1574.jpg\n",
      "Saving transformed image to: /workspaces/Mildew-Detection-in-Cherry-Leaves/inputs/mildew_dataset/cherry-leaves/powdery_mildew/synthetic_149.jpg\n",
      "Processing image number: 150\n",
      "Selected random image for transformation: mildew_990.jpg\n",
      "Saving transformed image to: /workspaces/Mildew-Detection-in-Cherry-Leaves/inputs/mildew_dataset/cherry-leaves/powdery_mildew/synthetic_150.jpg\n",
      "Processing image number: 151\n",
      "Selected random image for transformation: mildew_2618.jpg\n",
      "Saving transformed image to: /workspaces/Mildew-Detection-in-Cherry-Leaves/inputs/mildew_dataset/cherry-leaves/powdery_mildew/synthetic_151.jpg\n",
      "Processing image number: 152\n",
      "Selected random image for transformation: mildew_2161.jpg\n",
      "Saving transformed image to: /workspaces/Mildew-Detection-in-Cherry-Leaves/inputs/mildew_dataset/cherry-leaves/powdery_mildew/synthetic_152.jpg\n",
      "Processing image number: 153\n",
      "Selected random image for transformation: mildew_1500.jpg\n",
      "Saving transformed image to: /workspaces/Mildew-Detection-in-Cherry-Leaves/inputs/mildew_dataset/cherry-leaves/powdery_mildew/synthetic_153.jpg\n",
      "Processing image number: 154\n",
      "Selected random image for transformation: mildew_1059.jpg\n",
      "Saving transformed image to: /workspaces/Mildew-Detection-in-Cherry-Leaves/inputs/mildew_dataset/cherry-leaves/powdery_mildew/synthetic_154.jpg\n",
      "Processing image number: 155\n",
      "Selected random image for transformation: mildew_346.jpg\n",
      "Saving transformed image to: /workspaces/Mildew-Detection-in-Cherry-Leaves/inputs/mildew_dataset/cherry-leaves/powdery_mildew/synthetic_155.jpg\n",
      "Processing image number: 156\n",
      "Selected random image for transformation: mildew_38.jpg\n",
      "Saving transformed image to: /workspaces/Mildew-Detection-in-Cherry-Leaves/inputs/mildew_dataset/cherry-leaves/powdery_mildew/synthetic_156.jpg\n",
      "Processing image number: 157\n",
      "Selected random image for transformation: mildew_1650.jpg\n",
      "Saving transformed image to: /workspaces/Mildew-Detection-in-Cherry-Leaves/inputs/mildew_dataset/cherry-leaves/powdery_mildew/synthetic_157.jpg\n",
      "Processing image number: 158\n",
      "Selected random image for transformation: mildew_1162.jpg\n",
      "Saving transformed image to: /workspaces/Mildew-Detection-in-Cherry-Leaves/inputs/mildew_dataset/cherry-leaves/powdery_mildew/synthetic_158.jpg\n",
      "Processing image number: 159\n",
      "Selected random image for transformation: mildew_1287.jpg\n",
      "Saving transformed image to: /workspaces/Mildew-Detection-in-Cherry-Leaves/inputs/mildew_dataset/cherry-leaves/powdery_mildew/synthetic_159.jpg\n",
      "Processing image number: 160\n",
      "Selected random image for transformation: mildew_1689.jpg\n",
      "Saving transformed image to: /workspaces/Mildew-Detection-in-Cherry-Leaves/inputs/mildew_dataset/cherry-leaves/powdery_mildew/synthetic_160.jpg\n",
      "Processing image number: 161\n",
      "Selected random image for transformation: synthetic_40.jpg\n",
      "Saving transformed image to: /workspaces/Mildew-Detection-in-Cherry-Leaves/inputs/mildew_dataset/cherry-leaves/powdery_mildew/synthetic_161.jpg\n",
      "Processing image number: 162\n",
      "Selected random image for transformation: mildew_453.jpg\n",
      "Saving transformed image to: /workspaces/Mildew-Detection-in-Cherry-Leaves/inputs/mildew_dataset/cherry-leaves/powdery_mildew/synthetic_162.jpg\n",
      "Processing image number: 163\n",
      "Selected random image for transformation: mildew_1190.jpg\n",
      "Saving transformed image to: /workspaces/Mildew-Detection-in-Cherry-Leaves/inputs/mildew_dataset/cherry-leaves/powdery_mildew/synthetic_163.jpg\n",
      "Processing image number: 164\n",
      "Selected random image for transformation: mildew_2677.jpg\n",
      "Saving transformed image to: /workspaces/Mildew-Detection-in-Cherry-Leaves/inputs/mildew_dataset/cherry-leaves/powdery_mildew/synthetic_164.jpg\n",
      "Processing image number: 165\n",
      "Selected random image for transformation: mildew_1915.jpg\n",
      "Saving transformed image to: /workspaces/Mildew-Detection-in-Cherry-Leaves/inputs/mildew_dataset/cherry-leaves/powdery_mildew/synthetic_165.jpg\n",
      "Processing image number: 166\n",
      "Selected random image for transformation: mildew_1308.jpg\n",
      "Saving transformed image to: /workspaces/Mildew-Detection-in-Cherry-Leaves/inputs/mildew_dataset/cherry-leaves/powdery_mildew/synthetic_166.jpg\n",
      "Processing image number: 167\n",
      "Selected random image for transformation: mildew_2589.jpg\n",
      "Saving transformed image to: /workspaces/Mildew-Detection-in-Cherry-Leaves/inputs/mildew_dataset/cherry-leaves/powdery_mildew/synthetic_167.jpg\n",
      "Processing image number: 168\n",
      "Selected random image for transformation: mildew_2144.jpg\n",
      "Saving transformed image to: /workspaces/Mildew-Detection-in-Cherry-Leaves/inputs/mildew_dataset/cherry-leaves/powdery_mildew/synthetic_168.jpg\n",
      "Processing image number: 169\n",
      "Selected random image for transformation: mildew_996.jpg\n",
      "Saving transformed image to: /workspaces/Mildew-Detection-in-Cherry-Leaves/inputs/mildew_dataset/cherry-leaves/powdery_mildew/synthetic_169.jpg\n",
      "Processing image number: 170\n",
      "Selected random image for transformation: mildew_1343.jpg\n",
      "Saving transformed image to: /workspaces/Mildew-Detection-in-Cherry-Leaves/inputs/mildew_dataset/cherry-leaves/powdery_mildew/synthetic_170.jpg\n",
      "Processing image number: 171\n",
      "Selected random image for transformation: mildew_2375.jpg\n",
      "Saving transformed image to: /workspaces/Mildew-Detection-in-Cherry-Leaves/inputs/mildew_dataset/cherry-leaves/powdery_mildew/synthetic_171.jpg\n",
      "Processing image number: 172\n",
      "Selected random image for transformation: mildew_2391.jpg\n",
      "Saving transformed image to: /workspaces/Mildew-Detection-in-Cherry-Leaves/inputs/mildew_dataset/cherry-leaves/powdery_mildew/synthetic_172.jpg\n",
      "Processing image number: 173\n",
      "Selected random image for transformation: mildew_1701.jpg\n",
      "Saving transformed image to: /workspaces/Mildew-Detection-in-Cherry-Leaves/inputs/mildew_dataset/cherry-leaves/powdery_mildew/synthetic_173.jpg\n",
      "Processing image number: 174\n",
      "Selected random image for transformation: mildew_2596.jpg\n",
      "Saving transformed image to: /workspaces/Mildew-Detection-in-Cherry-Leaves/inputs/mildew_dataset/cherry-leaves/powdery_mildew/synthetic_174.jpg\n",
      "Processing image number: 175\n",
      "Selected random image for transformation: mildew_1882.jpg\n",
      "Saving transformed image to: /workspaces/Mildew-Detection-in-Cherry-Leaves/inputs/mildew_dataset/cherry-leaves/powdery_mildew/synthetic_175.jpg\n",
      "Processing image number: 176\n",
      "Selected random image for transformation: mildew_1898.jpg\n",
      "Saving transformed image to: /workspaces/Mildew-Detection-in-Cherry-Leaves/inputs/mildew_dataset/cherry-leaves/powdery_mildew/synthetic_176.jpg\n",
      "Processing image number: 177\n",
      "Selected random image for transformation: mildew_690.jpg\n",
      "Saving transformed image to: /workspaces/Mildew-Detection-in-Cherry-Leaves/inputs/mildew_dataset/cherry-leaves/powdery_mildew/synthetic_177.jpg\n",
      "Processing image number: 178\n",
      "Selected random image for transformation: mildew_971.jpg\n",
      "Saving transformed image to: /workspaces/Mildew-Detection-in-Cherry-Leaves/inputs/mildew_dataset/cherry-leaves/powdery_mildew/synthetic_178.jpg\n",
      "Processing image number: 179\n",
      "Selected random image for transformation: synthetic_22.jpg\n",
      "Saving transformed image to: /workspaces/Mildew-Detection-in-Cherry-Leaves/inputs/mildew_dataset/cherry-leaves/powdery_mildew/synthetic_179.jpg\n",
      "Processing image number: 180\n",
      "Selected random image for transformation: mildew_180.jpg\n",
      "Saving transformed image to: /workspaces/Mildew-Detection-in-Cherry-Leaves/inputs/mildew_dataset/cherry-leaves/powdery_mildew/synthetic_180.jpg\n",
      "Processing image number: 181\n",
      "Selected random image for transformation: mildew_2638.jpg\n",
      "Saving transformed image to: /workspaces/Mildew-Detection-in-Cherry-Leaves/inputs/mildew_dataset/cherry-leaves/powdery_mildew/synthetic_181.jpg\n",
      "Processing image number: 182\n",
      "Selected random image for transformation: mildew_1122.jpg\n",
      "Saving transformed image to: /workspaces/Mildew-Detection-in-Cherry-Leaves/inputs/mildew_dataset/cherry-leaves/powdery_mildew/synthetic_182.jpg\n",
      "Processing image number: 183\n",
      "Selected random image for transformation: mildew_279.jpg\n",
      "Saving transformed image to: /workspaces/Mildew-Detection-in-Cherry-Leaves/inputs/mildew_dataset/cherry-leaves/powdery_mildew/synthetic_183.jpg\n",
      "Processing image number: 184\n",
      "Selected random image for transformation: mildew_1786.jpg\n",
      "Saving transformed image to: /workspaces/Mildew-Detection-in-Cherry-Leaves/inputs/mildew_dataset/cherry-leaves/powdery_mildew/synthetic_184.jpg\n",
      "Processing image number: 185\n",
      "Selected random image for transformation: mildew_2769.jpg\n",
      "Saving transformed image to: /workspaces/Mildew-Detection-in-Cherry-Leaves/inputs/mildew_dataset/cherry-leaves/powdery_mildew/synthetic_185.jpg\n",
      "Processing image number: 186\n",
      "Selected random image for transformation: mildew_1656.jpg\n",
      "Saving transformed image to: /workspaces/Mildew-Detection-in-Cherry-Leaves/inputs/mildew_dataset/cherry-leaves/powdery_mildew/synthetic_186.jpg\n",
      "Processing image number: 187\n",
      "Selected random image for transformation: mildew_2394.jpg\n",
      "Saving transformed image to: /workspaces/Mildew-Detection-in-Cherry-Leaves/inputs/mildew_dataset/cherry-leaves/powdery_mildew/synthetic_187.jpg\n",
      "Processing image number: 188\n",
      "Selected random image for transformation: mildew_1935.jpg\n",
      "Saving transformed image to: /workspaces/Mildew-Detection-in-Cherry-Leaves/inputs/mildew_dataset/cherry-leaves/powdery_mildew/synthetic_188.jpg\n",
      "Processing image number: 189\n",
      "Selected random image for transformation: mildew_2312.jpg\n",
      "Saving transformed image to: /workspaces/Mildew-Detection-in-Cherry-Leaves/inputs/mildew_dataset/cherry-leaves/powdery_mildew/synthetic_189.jpg\n",
      "Processing image number: 190\n",
      "Selected random image for transformation: mildew_311.jpg\n",
      "Saving transformed image to: /workspaces/Mildew-Detection-in-Cherry-Leaves/inputs/mildew_dataset/cherry-leaves/powdery_mildew/synthetic_190.jpg\n",
      "Processing image number: 191\n",
      "Selected random image for transformation: mildew_568.jpg\n",
      "Saving transformed image to: /workspaces/Mildew-Detection-in-Cherry-Leaves/inputs/mildew_dataset/cherry-leaves/powdery_mildew/synthetic_191.jpg\n",
      "Processing image number: 192\n",
      "Selected random image for transformation: mildew_206.jpg\n",
      "Saving transformed image to: /workspaces/Mildew-Detection-in-Cherry-Leaves/inputs/mildew_dataset/cherry-leaves/powdery_mildew/synthetic_192.jpg\n"
     ]
    }
   ],
   "source": [
    "from PIL import ImageEnhance\n",
    "\n",
    "for i in range(images_to_generate):\n",
    "    random_image = random.choice(os.listdir(folder_to_use))\n",
    "    transformed_image = random_transformation(os.path.join(folder_to_use, random_image))\n",
    "    save_path = f'{folder_to_use}/synthetic_{i}.jpg'\n",
    "    transformed_image.save(save_path)\n",
    "\n",
    "    print(f\"Processing image number: {i}\")\n",
    "    print(f\"Selected random image for transformation: {random_image}\")\n",
    "    print(f\"Saving transformed image to: {save_path}\")"
   ]
  },
  {
   "cell_type": "markdown",
   "metadata": {},
   "source": [
    "### Counting the updated number of files"
   ]
  },
  {
   "cell_type": "code",
   "execution_count": 15,
   "metadata": {},
   "outputs": [
    {
     "name": "stdout",
     "output_type": "stream",
     "text": [
      "2986\n",
      "2986\n"
     ]
    }
   ],
   "source": [
    "healthy_images_count = len(os.listdir('/workspaces/Mildew-Detection-in-Cherry-Leaves/inputs/mildew_dataset/cherry-leaves/healthy'))\n",
    "mildew_images_count = len(os.listdir('/workspaces/Mildew-Detection-in-Cherry-Leaves/inputs/mildew_dataset/cherry-leaves/powdery_mildew'))\n",
    "print(healthy_images_count)\n",
    "print(mildew_images_count)"
   ]
  },
  {
   "cell_type": "markdown",
   "metadata": {},
   "source": [
    "## 6. Scale down the sample images, to reduce cpu needed."
   ]
  },
  {
   "cell_type": "markdown",
   "metadata": {},
   "source": [
    "In this step, we will resize all images in both 'healthy' and 'mildew' folders to a smaller size. This reduces the computational load for future processing."
   ]
  },
  {
   "cell_type": "markdown",
   "metadata": {},
   "source": [
    "### Code Cell - Define Resizing Function:"
   ]
  },
  {
   "cell_type": "code",
   "execution_count": 16,
   "metadata": {},
   "outputs": [],
   "source": [
    "def resize_images(folder_path, output_size=(50, 50)):\n",
    "    for img_path in glob.glob(folder_path + '/*.jpg'):\n",
    "        img = Image.open(img_path)\n",
    "        img = img.resize(output_size, Image.Resampling.LANCZOS)\n",
    "        img.save(img_path)"
   ]
  },
  {
   "cell_type": "markdown",
   "metadata": {},
   "source": [
    "### Resize images in both folders"
   ]
  },
  {
   "cell_type": "code",
   "execution_count": 17,
   "metadata": {},
   "outputs": [],
   "source": [
    "healthy_folder_path = '/workspaces/Mildew-Detection-in-Cherry-Leaves/inputs/mildew_dataset/cherry-leaves/healthy'\n",
    "mildew_folder_path = '/workspaces/Mildew-Detection-in-Cherry-Leaves/inputs/mildew_dataset/cherry-leaves/powdery_mildew'\n",
    "resize_images(healthy_folder_path)\n",
    "resize_images(mildew_folder_path)"
   ]
  },
  {
   "cell_type": "markdown",
   "metadata": {},
   "source": [
    "### Checking the new size of the images."
   ]
  },
  {
   "cell_type": "code",
   "execution_count": 18,
   "metadata": {},
   "outputs": [
    {
     "name": "stdout",
     "output_type": "stream",
     "text": [
      "Selected Image: healthy_2848.jpg\n",
      "Dimensions: 50x50\n",
      "Selected Image: mildew_450.jpg\n",
      "Dimensions: 50x50\n"
     ]
    }
   ],
   "source": [
    "def check_random_image_dimensions(folder_path):\n",
    "    images = os.listdir(folder_path)\n",
    "    random_image = random.choice(images)\n",
    "    img_path = os.path.join(folder_path, random_image)\n",
    "    with Image.open(img_path) as img:\n",
    "        width, height = img.size\n",
    "        print(f\"Selected Image: {random_image}\")\n",
    "        print(f\"Dimensions: {width}x{height}\")\n",
    "\n",
    "check_random_image_dimensions(healthy_folder_path)\n",
    "check_random_image_dimensions(mildew_folder_path)"
   ]
  },
  {
   "cell_type": "markdown",
   "metadata": {},
   "source": [
    "## 7. Splitting Data into Training, Validation, and Test Sets"
   ]
  },
  {
   "cell_type": "markdown",
   "metadata": {},
   "source": [
    "Now, we will divide our images into training, validation, and test sets. This helps in model training, tuning, and evaluation."
   ]
  },
  {
   "cell_type": "markdown",
   "metadata": {},
   "source": [
    "### Code Cell - Define Splitting Function:"
   ]
  },
  {
   "cell_type": "code",
   "execution_count": 19,
   "metadata": {},
   "outputs": [],
   "source": [
    "def split_images_into_sets(my_data_dir, train_set_ratio, validation_set_ratio, test_set_ratio):\n",
    "    if train_set_ratio + validation_set_ratio + test_set_ratio != 1.0:\n",
    "        print(\"Sum of ratios must equal 1.0\")\n",
    "        return\n",
    "\n",
    "    labels = os.listdir(my_data_dir)\n",
    "    for label in labels:\n",
    "\n",
    "        for set_type in ['train', 'validation', 'test']:\n",
    "            os.makedirs(os.path.join(my_data_dir, set_type, label), exist_ok=True)\n",
    "        \n",
    "        files = os.listdir(os.path.join(my_data_dir, label))\n",
    "        random.shuffle(files)\n",
    "\n",
    "        train_set_files_qty = int(len(files) * train_set_ratio)\n",
    "        validation_set_files_qty = int(len(files) * validation_set_ratio)\n",
    "\n",
    "        for i, file in enumerate(files):\n",
    "            src_path = os.path.join(my_data_dir, label, file)\n",
    "            if i < train_set_files_qty:\n",
    "                dest_path = os.path.join(my_data_dir, 'train', label, file)\n",
    "            elif i < train_set_files_qty + validation_set_files_qty:\n",
    "                dest_path = os.path.join(my_data_dir, 'validation', label, file)\n",
    "            else:\n",
    "                dest_path = os.path.join(my_data_dir, 'test', label, file)\n",
    "            \n",
    "            shutil.move(src_path, dest_path)"
   ]
  },
  {
   "cell_type": "markdown",
   "metadata": {},
   "source": [
    "### Define Function to erase the original folders"
   ]
  },
  {
   "cell_type": "code",
   "execution_count": 20,
   "metadata": {},
   "outputs": [],
   "source": [
    "def remove_folder(path):\n",
    "    if os.path.exists(path):\n",
    "        shutil.rmtree(path)\n",
    "        print(f\"erased folder: {path}\")\n",
    "    else:\n",
    "        print(f\"this directory does not exist: {path}\")"
   ]
  },
  {
   "cell_type": "markdown",
   "metadata": {},
   "source": [
    "### Define the path to the folders to erase"
   ]
  },
  {
   "cell_type": "code",
   "execution_count": 21,
   "metadata": {},
   "outputs": [],
   "source": [
    "healthy_folder = \"inputs/mildew_dataset/cherry-leaves/healthy\"\n",
    "mildew_folder = \"inputs/mildew_dataset/cherry-leaves/powdery_mildew\""
   ]
  },
  {
   "cell_type": "markdown",
   "metadata": {},
   "source": [
    "### Code Cell - Execute Functions:"
   ]
  },
  {
   "cell_type": "code",
   "execution_count": 22,
   "metadata": {},
   "outputs": [],
   "source": [
    "split_images_into_sets(\n",
    "    my_data_dir='/workspaces/Mildew-Detection-in-Cherry-Leaves/inputs/mildew_dataset/cherry-leaves',\n",
    "    train_set_ratio=0.7,\n",
    "    validation_set_ratio=0.1,\n",
    "    test_set_ratio=0.2\n",
    ")"
   ]
  },
  {
   "cell_type": "code",
   "execution_count": 23,
   "metadata": {},
   "outputs": [
    {
     "name": "stdout",
     "output_type": "stream",
     "text": [
      "erased folder: inputs/mildew_dataset/cherry-leaves/healthy\n",
      "erased folder: inputs/mildew_dataset/cherry-leaves/powdery_mildew\n"
     ]
    }
   ],
   "source": [
    "remove_folder(healthy_folder)\n",
    "remove_folder(mildew_folder)"
   ]
  },
  {
   "cell_type": "markdown",
   "metadata": {},
   "source": [
    "## 8. Image Labeling for Training"
   ]
  },
  {
   "cell_type": "markdown",
   "metadata": {},
   "source": [
    "Labeling Process Overview\n",
    "In this step, we'll label the cherry leaf images as 'healthy' or 'powdery mildew' based on their directory names. This labeling is crucial for the model to learn and differentiate between these two categories during the training process. The images are already segregated into distinct folders, simplifying this process. We'll ensure each image is associated with the correct label, forming the foundation for our CNN model training."
   ]
  },
  {
   "cell_type": "markdown",
   "metadata": {},
   "source": [
    "### Define Parameters:"
   ]
  },
  {
   "cell_type": "code",
   "execution_count": 10,
   "metadata": {},
   "outputs": [],
   "source": [
    "train_dir = 'inputs/mildew_dataset/cherry-leaves/train'\n",
    "validation_dir = 'inputs/mildew_dataset/cherry-leaves/validation'\n",
    "test_dir = 'inputs/mildew_dataset/cherry-leaves/test'\n",
    "\n",
    "img_width, img_height = 50, 50  # Adjusted image size\n",
    "batch_size = 20  # Adjusted batch size"
   ]
  },
  {
   "cell_type": "markdown",
   "metadata": {},
   "source": [
    "### Create ImageDataGenerators:"
   ]
  },
  {
   "cell_type": "code",
   "execution_count": 11,
   "metadata": {},
   "outputs": [],
   "source": [
    "train_datagen = ImageDataGenerator(rescale=1./255)\n",
    "validation_datagen = ImageDataGenerator(rescale=1./255)\n",
    "test_datagen = ImageDataGenerator(rescale=1./255)"
   ]
  },
  {
   "cell_type": "markdown",
   "metadata": {},
   "source": [
    "### Flow Images from Directories:"
   ]
  },
  {
   "cell_type": "code",
   "execution_count": 12,
   "metadata": {},
   "outputs": [
    {
     "name": "stdout",
     "output_type": "stream",
     "text": [
      "Found 4180 images belonging to 2 classes.\n",
      "Found 596 images belonging to 2 classes.\n",
      "Found 1196 images belonging to 2 classes.\n"
     ]
    }
   ],
   "source": [
    "train_generator = train_datagen.flow_from_directory( train_dir, target_size=(img_width, img_height), batch_size=batch_size, class_mode='binary')\n",
    "\n",
    "validation_generator = validation_datagen.flow_from_directory( validation_dir, target_size=(img_width, img_height), batch_size=batch_size, class_mode='binary')\n",
    "\n",
    "test_generator = test_datagen.flow_from_directory( test_dir, target_size=(img_width, img_height), batch_size=batch_size, class_mode='binary')"
   ]
  },
  {
   "cell_type": "code",
   "execution_count": 13,
   "metadata": {},
   "outputs": [
    {
     "name": "stdout",
     "output_type": "stream",
     "text": [
      "Train Set Class Indices: {'healthy': 0, 'powdery_mildew': 1}\n",
      "Validation Set Class Indices: {'healthy': 0, 'powdery_mildew': 1}\n",
      "Test Set Class Indices: {'healthy': 0, 'powdery_mildew': 1}\n",
      "Image batch shape: (20, 50, 50, 3)\n",
      "Label batch shape: (20,)\n"
     ]
    }
   ],
   "source": [
    "# Display class indices\n",
    "print(\"Train Set Class Indices:\", train_generator.class_indices)\n",
    "print(\"Validation Set Class Indices:\", validation_generator.class_indices)\n",
    "print(\"Test Set Class Indices:\", test_generator.class_indices)\n",
    "\n",
    "# Optional: Display some image batches with their labels\n",
    "for image_batch, label_batch in train_generator:\n",
    "    print(\"Image batch shape:\", image_batch.shape)\n",
    "    print(\"Label batch shape:\", label_batch.shape)\n",
    "    break  # Display only the first batch"
   ]
  },
  {
   "cell_type": "markdown",
   "metadata": {},
   "source": [
    "### Check the labels are correct"
   ]
  },
  {
   "cell_type": "code",
   "execution_count": 14,
   "metadata": {},
   "outputs": [
    {
     "data": {
      "image/png": "[encoded data removed]",
      "text/plain": [
       "<Figure size 640x480 with 1 Axes>"
      ]
     },
     "metadata": {},
     "output_type": "display_data"
    },
    {
     "data": {
      "image/png": "[encoded data removed]",
      "text/plain": [
       "<Figure size 640x480 with 1 Axes>"
      ]
     },
     "metadata": {},
     "output_type": "display_data"
    },
    {
     "data": {
      "image/png": "[encoded data removed]",
      "text/plain": [
       "<Figure size 640x480 with 1 Axes>"
      ]
     },
     "metadata": {},
     "output_type": "display_data"
    },
    {
     "data": {
      "image/png": "[encoded data removed]",
      "text/plain": [
       "<Figure size 640x480 with 1 Axes>"
      ]
     },
     "metadata": {},
     "output_type": "display_data"
    },
    {
     "data": {
      "image/png": "[encoded data removed]",
      "text/plain": [
       "<Figure size 640x480 with 1 Axes>"
      ]
     },
     "metadata": {},
     "output_type": "display_data"
    }
   ],
   "source": [
    "# Obtén un lote de imágenes y etiquetas del generador\n",
    "images, labels = next(train_generator)\n",
    "\n",
    "# Muestra las primeras 5 imágenes y etiquetas\n",
    "for i in range(5):\n",
    "    plt.imshow(images[i])\n",
    "    plt.title(labels[i])\n",
    "    plt.show()"
   ]
  },
  {
   "cell_type": "markdown",
   "metadata": {},
   "source": [
    "Due to system limitations, we have chosen to use a lower image resolution (50x50 pixels) for efficient processing and model training. This adjustment ensures smoother operation within the constraints of our computational resources.\n",
    "\n",
    "Furthermore, to streamline the training process for the Convolutional Neural Network (CNN), we have transformed the image labels into a binary format. In this schema, images labeled as 'powdery_mildew' are assigned the value '1', and those labeled as 'healthy' are assigned '0'. This binary labeling simplifies the classification task for the CNN, enabling more effective and straightforward model training."
   ]
  }
 ],
 "metadata": {
  "kernelspec": {
   "display_name": "Python 3 (ipykernel)",
   "language": "python",
   "name": "python3"
  },
  "language_info": {
   "codemirror_mode": {
    "name": "ipython",
    "version": 3
   },
   "file_extension": ".py",
   "mimetype": "text/x-python",
   "name": "python",
   "nbconvert_exporter": "python",
   "pygments_lexer": "ipython3",
   "version": "3.8.12"
  }
 },
 "nbformat": 4,
 "nbformat_minor": 4
}
