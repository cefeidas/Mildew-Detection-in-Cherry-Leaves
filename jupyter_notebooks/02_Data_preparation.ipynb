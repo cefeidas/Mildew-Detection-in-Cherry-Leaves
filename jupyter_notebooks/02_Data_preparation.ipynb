{
 "cells": [
  {
   "cell_type": "markdown",
   "metadata": {},
   "source": [
    "# **Preparing data to train the models**"
   ]
  },
  {
   "cell_type": "markdown",
   "metadata": {},
   "source": [
    "Objectives: Preprocess the cherry leaves dataset for model training.\n",
    "\n",
    "Inputs: Cherry leaves dataset downloaded from Kaggle.\n",
    "\n",
    "Outputs: Preprocessed dataset ready for model training."
   ]
  },
  {
   "cell_type": "markdown",
   "metadata": {},
   "source": [
    "# Steps for preparing the data:\n"
   ]
  },
  {
   "cell_type": "markdown",
   "metadata": {},
   "source": [
    "## 1. Install prerequisites"
   ]
  },
  {
   "cell_type": "code",
   "execution_count": 10,
   "metadata": {},
   "outputs": [
    {
     "name": "stdout",
     "output_type": "stream",
     "text": [
      "Requirement already satisfied: numpy==1.19.2 in /home/codeany/.local/lib/python3.8/site-packages (from -r /workspaces/Mildew-Detection-in-Cherry-Leaves/requirements.txt (line 1)) (1.19.2)\n",
      "Requirement already satisfied: pandas==1.1.2 in /home/codeany/.local/lib/python3.8/site-packages (from -r /workspaces/Mildew-Detection-in-Cherry-Leaves/requirements.txt (line 2)) (1.1.2)\n",
      "Requirement already satisfied: matplotlib==3.3.1 in /home/codeany/.local/lib/python3.8/site-packages (from -r /workspaces/Mildew-Detection-in-Cherry-Leaves/requirements.txt (line 3)) (3.3.1)\n",
      "Requirement already satisfied: seaborn==0.11.0 in /home/codeany/.local/lib/python3.8/site-packages (from -r /workspaces/Mildew-Detection-in-Cherry-Leaves/requirements.txt (line 4)) (0.11.0)\n",
      "Requirement already satisfied: plotly==4.12.0 in /home/codeany/.local/lib/python3.8/site-packages (from -r /workspaces/Mildew-Detection-in-Cherry-Leaves/requirements.txt (line 5)) (4.12.0)\n",
      "Requirement already satisfied: streamlit==0.85.0 in /home/codeany/.local/lib/python3.8/site-packages (from -r /workspaces/Mildew-Detection-in-Cherry-Leaves/requirements.txt (line 7)) (0.85.0)\n",
      "Requirement already satisfied: scikit-learn==0.24.2 in /home/codeany/.local/lib/python3.8/site-packages (from -r /workspaces/Mildew-Detection-in-Cherry-Leaves/requirements.txt (line 9)) (0.24.2)\n",
      "Requirement already satisfied: tensorflow-cpu==2.6.0 in /home/codeany/.local/lib/python3.8/site-packages (from -r /workspaces/Mildew-Detection-in-Cherry-Leaves/requirements.txt (line 10)) (2.6.0)\n",
      "Requirement already satisfied: keras==2.6.0 in /home/codeany/.local/lib/python3.8/site-packages (from -r /workspaces/Mildew-Detection-in-Cherry-Leaves/requirements.txt (line 11)) (2.6.0)\n",
      "Requirement already satisfied: protobuf==3.20 in /home/codeany/.local/lib/python3.8/site-packages (from -r /workspaces/Mildew-Detection-in-Cherry-Leaves/requirements.txt (line 12)) (3.20.0)\n",
      "Requirement already satisfied: altair<5 in /home/codeany/.local/lib/python3.8/site-packages (from -r /workspaces/Mildew-Detection-in-Cherry-Leaves/requirements.txt (line 13)) (4.2.2)\n",
      "Requirement already satisfied: python-dateutil>=2.7.3 in /home/codeany/.pyenv/versions/3.8.12/lib/python3.8/site-packages (from pandas==1.1.2->-r /workspaces/Mildew-Detection-in-Cherry-Leaves/requirements.txt (line 2)) (2.8.2)\n",
      "Requirement already satisfied: pytz>=2017.2 in /home/codeany/.pyenv/versions/3.8.12/lib/python3.8/site-packages (from pandas==1.1.2->-r /workspaces/Mildew-Detection-in-Cherry-Leaves/requirements.txt (line 2)) (2023.3.post1)\n",
      "Requirement already satisfied: certifi>=2020.06.20 in /home/codeany/.pyenv/versions/3.8.12/lib/python3.8/site-packages (from matplotlib==3.3.1->-r /workspaces/Mildew-Detection-in-Cherry-Leaves/requirements.txt (line 3)) (2023.7.22)\n",
      "Requirement already satisfied: cycler>=0.10 in /home/codeany/.local/lib/python3.8/site-packages (from matplotlib==3.3.1->-r /workspaces/Mildew-Detection-in-Cherry-Leaves/requirements.txt (line 3)) (0.12.1)\n",
      "Requirement already satisfied: kiwisolver>=1.0.1 in /home/codeany/.local/lib/python3.8/site-packages (from matplotlib==3.3.1->-r /workspaces/Mildew-Detection-in-Cherry-Leaves/requirements.txt (line 3)) (1.4.5)\n",
      "Requirement already satisfied: pillow>=6.2.0 in /home/codeany/.local/lib/python3.8/site-packages (from matplotlib==3.3.1->-r /workspaces/Mildew-Detection-in-Cherry-Leaves/requirements.txt (line 3)) (10.1.0)\n",
      "Requirement already satisfied: pyparsing!=2.0.4,!=2.1.2,!=2.1.6,>=2.0.3 in /home/codeany/.local/lib/python3.8/site-packages (from matplotlib==3.3.1->-r /workspaces/Mildew-Detection-in-Cherry-Leaves/requirements.txt (line 3)) (3.1.1)\n",
      "Requirement already satisfied: scipy>=1.0 in /home/codeany/.local/lib/python3.8/site-packages (from seaborn==0.11.0->-r /workspaces/Mildew-Detection-in-Cherry-Leaves/requirements.txt (line 4)) (1.9.3)\n",
      "Requirement already satisfied: retrying>=1.3.3 in /home/codeany/.local/lib/python3.8/site-packages (from plotly==4.12.0->-r /workspaces/Mildew-Detection-in-Cherry-Leaves/requirements.txt (line 5)) (1.3.4)\n",
      "Requirement already satisfied: six in /home/codeany/.local/lib/python3.8/site-packages (from plotly==4.12.0->-r /workspaces/Mildew-Detection-in-Cherry-Leaves/requirements.txt (line 5)) (1.15.0)\n",
      "Requirement already satisfied: astor in /home/codeany/.local/lib/python3.8/site-packages (from streamlit==0.85.0->-r /workspaces/Mildew-Detection-in-Cherry-Leaves/requirements.txt (line 7)) (0.8.1)\n",
      "Requirement already satisfied: attrs in /home/codeany/.pyenv/versions/3.8.12/lib/python3.8/site-packages (from streamlit==0.85.0->-r /workspaces/Mildew-Detection-in-Cherry-Leaves/requirements.txt (line 7)) (23.1.0)\n",
      "Requirement already satisfied: base58 in /home/codeany/.local/lib/python3.8/site-packages (from streamlit==0.85.0->-r /workspaces/Mildew-Detection-in-Cherry-Leaves/requirements.txt (line 7)) (2.1.1)\n",
      "Requirement already satisfied: blinker in /home/codeany/.local/lib/python3.8/site-packages (from streamlit==0.85.0->-r /workspaces/Mildew-Detection-in-Cherry-Leaves/requirements.txt (line 7)) (1.7.0)\n",
      "Requirement already satisfied: cachetools>=4.0 in /home/codeany/.local/lib/python3.8/site-packages (from streamlit==0.85.0->-r /workspaces/Mildew-Detection-in-Cherry-Leaves/requirements.txt (line 7)) (5.3.2)\n",
      "Requirement already satisfied: click<8.0,>=7.0 in /home/codeany/.local/lib/python3.8/site-packages (from streamlit==0.85.0->-r /workspaces/Mildew-Detection-in-Cherry-Leaves/requirements.txt (line 7)) (7.1.2)\n",
      "Requirement already satisfied: packaging in /home/codeany/.pyenv/versions/3.8.12/lib/python3.8/site-packages (from streamlit==0.85.0->-r /workspaces/Mildew-Detection-in-Cherry-Leaves/requirements.txt (line 7)) (23.2)\n",
      "Requirement already satisfied: pyarrow in /home/codeany/.local/lib/python3.8/site-packages (from streamlit==0.85.0->-r /workspaces/Mildew-Detection-in-Cherry-Leaves/requirements.txt (line 7)) (14.0.1)\n",
      "Requirement already satisfied: pydeck>=0.1.dev5 in /home/codeany/.local/lib/python3.8/site-packages (from streamlit==0.85.0->-r /workspaces/Mildew-Detection-in-Cherry-Leaves/requirements.txt (line 7)) (0.8.1b0)\n",
      "Requirement already satisfied: requests in /home/codeany/.pyenv/versions/3.8.12/lib/python3.8/site-packages (from streamlit==0.85.0->-r /workspaces/Mildew-Detection-in-Cherry-Leaves/requirements.txt (line 7)) (2.31.0)\n",
      "Requirement already satisfied: toml in /home/codeany/.local/lib/python3.8/site-packages (from streamlit==0.85.0->-r /workspaces/Mildew-Detection-in-Cherry-Leaves/requirements.txt (line 7)) (0.10.2)\n",
      "Requirement already satisfied: tornado>=5.0 in /home/codeany/.pyenv/versions/3.8.12/lib/python3.8/site-packages (from streamlit==0.85.0->-r /workspaces/Mildew-Detection-in-Cherry-Leaves/requirements.txt (line 7)) (6.3.3)\n",
      "Requirement already satisfied: tzlocal in /home/codeany/.local/lib/python3.8/site-packages (from streamlit==0.85.0->-r /workspaces/Mildew-Detection-in-Cherry-Leaves/requirements.txt (line 7)) (5.2)\n",
      "Requirement already satisfied: validators in /home/codeany/.local/lib/python3.8/site-packages (from streamlit==0.85.0->-r /workspaces/Mildew-Detection-in-Cherry-Leaves/requirements.txt (line 7)) (0.22.0)\n",
      "Requirement already satisfied: gitpython in /home/codeany/.pyenv/versions/3.8.12/lib/python3.8/site-packages (from streamlit==0.85.0->-r /workspaces/Mildew-Detection-in-Cherry-Leaves/requirements.txt (line 7)) (3.1.40)\n",
      "Requirement already satisfied: watchdog in /home/codeany/.local/lib/python3.8/site-packages (from streamlit==0.85.0->-r /workspaces/Mildew-Detection-in-Cherry-Leaves/requirements.txt (line 7)) (3.0.0)\n",
      "Requirement already satisfied: joblib>=0.11 in /home/codeany/.local/lib/python3.8/site-packages (from scikit-learn==0.24.2->-r /workspaces/Mildew-Detection-in-Cherry-Leaves/requirements.txt (line 9)) (1.3.2)\n",
      "Requirement already satisfied: threadpoolctl>=2.0.0 in /home/codeany/.local/lib/python3.8/site-packages (from scikit-learn==0.24.2->-r /workspaces/Mildew-Detection-in-Cherry-Leaves/requirements.txt (line 9)) (3.2.0)\n",
      "Requirement already satisfied: absl-py~=0.10 in /home/codeany/.local/lib/python3.8/site-packages (from tensorflow-cpu==2.6.0->-r /workspaces/Mildew-Detection-in-Cherry-Leaves/requirements.txt (line 10)) (0.15.0)\n",
      "Requirement already satisfied: astunparse~=1.6.3 in /home/codeany/.local/lib/python3.8/site-packages (from tensorflow-cpu==2.6.0->-r /workspaces/Mildew-Detection-in-Cherry-Leaves/requirements.txt (line 10)) (1.6.3)\n",
      "Requirement already satisfied: clang~=5.0 in /home/codeany/.local/lib/python3.8/site-packages (from tensorflow-cpu==2.6.0->-r /workspaces/Mildew-Detection-in-Cherry-Leaves/requirements.txt (line 10)) (5.0)\n",
      "Requirement already satisfied: flatbuffers~=1.12.0 in /home/codeany/.local/lib/python3.8/site-packages (from tensorflow-cpu==2.6.0->-r /workspaces/Mildew-Detection-in-Cherry-Leaves/requirements.txt (line 10)) (1.12)\n",
      "Requirement already satisfied: google-pasta~=0.2 in /home/codeany/.local/lib/python3.8/site-packages (from tensorflow-cpu==2.6.0->-r /workspaces/Mildew-Detection-in-Cherry-Leaves/requirements.txt (line 10)) (0.2.0)\n",
      "Requirement already satisfied: h5py~=3.1.0 in /home/codeany/.local/lib/python3.8/site-packages (from tensorflow-cpu==2.6.0->-r /workspaces/Mildew-Detection-in-Cherry-Leaves/requirements.txt (line 10)) (3.1.0)\n",
      "Requirement already satisfied: keras-preprocessing~=1.1.2 in /home/codeany/.local/lib/python3.8/site-packages (from tensorflow-cpu==2.6.0->-r /workspaces/Mildew-Detection-in-Cherry-Leaves/requirements.txt (line 10)) (1.1.2)\n",
      "Requirement already satisfied: opt-einsum~=3.3.0 in /home/codeany/.local/lib/python3.8/site-packages (from tensorflow-cpu==2.6.0->-r /workspaces/Mildew-Detection-in-Cherry-Leaves/requirements.txt (line 10)) (3.3.0)\n",
      "Requirement already satisfied: termcolor~=1.1.0 in /home/codeany/.local/lib/python3.8/site-packages (from tensorflow-cpu==2.6.0->-r /workspaces/Mildew-Detection-in-Cherry-Leaves/requirements.txt (line 10)) (1.1.0)\n",
      "Requirement already satisfied: typing-extensions~=3.7.4 in /home/codeany/.local/lib/python3.8/site-packages (from tensorflow-cpu==2.6.0->-r /workspaces/Mildew-Detection-in-Cherry-Leaves/requirements.txt (line 10)) (3.7.4.3)\n",
      "Requirement already satisfied: wheel~=0.35 in /home/codeany/.pyenv/versions/3.8.12/lib/python3.8/site-packages (from tensorflow-cpu==2.6.0->-r /workspaces/Mildew-Detection-in-Cherry-Leaves/requirements.txt (line 10)) (0.41.3)\n",
      "Requirement already satisfied: wrapt~=1.12.1 in /home/codeany/.local/lib/python3.8/site-packages (from tensorflow-cpu==2.6.0->-r /workspaces/Mildew-Detection-in-Cherry-Leaves/requirements.txt (line 10)) (1.12.1)\n",
      "Requirement already satisfied: gast==0.4.0 in /home/codeany/.local/lib/python3.8/site-packages (from tensorflow-cpu==2.6.0->-r /workspaces/Mildew-Detection-in-Cherry-Leaves/requirements.txt (line 10)) (0.4.0)\n",
      "Requirement already satisfied: tensorboard~=2.6 in /home/codeany/.local/lib/python3.8/site-packages (from tensorflow-cpu==2.6.0->-r /workspaces/Mildew-Detection-in-Cherry-Leaves/requirements.txt (line 10)) (2.14.0)\n",
      "Requirement already satisfied: tensorflow-estimator~=2.6 in /home/codeany/.local/lib/python3.8/site-packages (from tensorflow-cpu==2.6.0->-r /workspaces/Mildew-Detection-in-Cherry-Leaves/requirements.txt (line 10)) (2.15.0)\n",
      "Requirement already satisfied: grpcio<2.0,>=1.37.0 in /home/codeany/.local/lib/python3.8/site-packages (from tensorflow-cpu==2.6.0->-r /workspaces/Mildew-Detection-in-Cherry-Leaves/requirements.txt (line 10)) (1.59.3)\n",
      "Requirement already satisfied: entrypoints in /home/codeany/.local/lib/python3.8/site-packages (from altair<5->-r /workspaces/Mildew-Detection-in-Cherry-Leaves/requirements.txt (line 13)) (0.4)\n",
      "Requirement already satisfied: jinja2 in /home/codeany/.pyenv/versions/3.8.12/lib/python3.8/site-packages (from altair<5->-r /workspaces/Mildew-Detection-in-Cherry-Leaves/requirements.txt (line 13)) (3.1.2)\n",
      "Requirement already satisfied: jsonschema>=3.0 in /home/codeany/.pyenv/versions/3.8.12/lib/python3.8/site-packages (from altair<5->-r /workspaces/Mildew-Detection-in-Cherry-Leaves/requirements.txt (line 13)) (4.19.2)\n",
      "Requirement already satisfied: toolz in /home/codeany/.local/lib/python3.8/site-packages (from altair<5->-r /workspaces/Mildew-Detection-in-Cherry-Leaves/requirements.txt (line 13)) (0.12.0)\n",
      "Requirement already satisfied: importlib-resources>=1.4.0 in /home/codeany/.pyenv/versions/3.8.12/lib/python3.8/site-packages (from jsonschema>=3.0->altair<5->-r /workspaces/Mildew-Detection-in-Cherry-Leaves/requirements.txt (line 13)) (6.1.1)\n",
      "Requirement already satisfied: jsonschema-specifications>=2023.03.6 in /home/codeany/.pyenv/versions/3.8.12/lib/python3.8/site-packages (from jsonschema>=3.0->altair<5->-r /workspaces/Mildew-Detection-in-Cherry-Leaves/requirements.txt (line 13)) (2023.7.1)\n",
      "Requirement already satisfied: pkgutil-resolve-name>=1.3.10 in /home/codeany/.pyenv/versions/3.8.12/lib/python3.8/site-packages (from jsonschema>=3.0->altair<5->-r /workspaces/Mildew-Detection-in-Cherry-Leaves/requirements.txt (line 13)) (1.3.10)\n",
      "Requirement already satisfied: referencing>=0.28.4 in /home/codeany/.pyenv/versions/3.8.12/lib/python3.8/site-packages (from jsonschema>=3.0->altair<5->-r /workspaces/Mildew-Detection-in-Cherry-Leaves/requirements.txt (line 13)) (0.30.2)\n",
      "Requirement already satisfied: rpds-py>=0.7.1 in /home/codeany/.pyenv/versions/3.8.12/lib/python3.8/site-packages (from jsonschema>=3.0->altair<5->-r /workspaces/Mildew-Detection-in-Cherry-Leaves/requirements.txt (line 13)) (0.12.0)\n",
      "Requirement already satisfied: MarkupSafe>=2.0 in /home/codeany/.pyenv/versions/3.8.12/lib/python3.8/site-packages (from jinja2->altair<5->-r /workspaces/Mildew-Detection-in-Cherry-Leaves/requirements.txt (line 13)) (2.1.3)\n",
      "Requirement already satisfied: google-auth<3,>=1.6.3 in /home/codeany/.local/lib/python3.8/site-packages (from tensorboard~=2.6->tensorflow-cpu==2.6.0->-r /workspaces/Mildew-Detection-in-Cherry-Leaves/requirements.txt (line 10)) (2.25.0)\n",
      "Requirement already satisfied: google-auth-oauthlib<1.1,>=0.5 in /home/codeany/.local/lib/python3.8/site-packages (from tensorboard~=2.6->tensorflow-cpu==2.6.0->-r /workspaces/Mildew-Detection-in-Cherry-Leaves/requirements.txt (line 10)) (1.0.0)\n",
      "Requirement already satisfied: markdown>=2.6.8 in /home/codeany/.local/lib/python3.8/site-packages (from tensorboard~=2.6->tensorflow-cpu==2.6.0->-r /workspaces/Mildew-Detection-in-Cherry-Leaves/requirements.txt (line 10)) (3.5.1)\n",
      "Requirement already satisfied: setuptools>=41.0.0 in /home/codeany/.pyenv/versions/3.8.12/lib/python3.8/site-packages (from tensorboard~=2.6->tensorflow-cpu==2.6.0->-r /workspaces/Mildew-Detection-in-Cherry-Leaves/requirements.txt (line 10)) (68.2.2)\n",
      "Requirement already satisfied: tensorboard-data-server<0.8.0,>=0.7.0 in /home/codeany/.local/lib/python3.8/site-packages (from tensorboard~=2.6->tensorflow-cpu==2.6.0->-r /workspaces/Mildew-Detection-in-Cherry-Leaves/requirements.txt (line 10)) (0.7.2)\n",
      "Requirement already satisfied: werkzeug>=1.0.1 in /home/codeany/.local/lib/python3.8/site-packages (from tensorboard~=2.6->tensorflow-cpu==2.6.0->-r /workspaces/Mildew-Detection-in-Cherry-Leaves/requirements.txt (line 10)) (3.0.1)\n",
      "Requirement already satisfied: charset-normalizer<4,>=2 in /home/codeany/.pyenv/versions/3.8.12/lib/python3.8/site-packages (from requests->streamlit==0.85.0->-r /workspaces/Mildew-Detection-in-Cherry-Leaves/requirements.txt (line 7)) (3.3.2)\n",
      "Requirement already satisfied: idna<4,>=2.5 in /home/codeany/.pyenv/versions/3.8.12/lib/python3.8/site-packages (from requests->streamlit==0.85.0->-r /workspaces/Mildew-Detection-in-Cherry-Leaves/requirements.txt (line 7)) (3.4)\n",
      "Requirement already satisfied: urllib3<3,>=1.21.1 in /home/codeany/.pyenv/versions/3.8.12/lib/python3.8/site-packages (from requests->streamlit==0.85.0->-r /workspaces/Mildew-Detection-in-Cherry-Leaves/requirements.txt (line 7)) (2.0.7)\n",
      "Requirement already satisfied: gitdb<5,>=4.0.1 in /home/codeany/.pyenv/versions/3.8.12/lib/python3.8/site-packages (from gitpython->streamlit==0.85.0->-r /workspaces/Mildew-Detection-in-Cherry-Leaves/requirements.txt (line 7)) (4.0.11)\n",
      "Requirement already satisfied: backports.zoneinfo in /home/codeany/.local/lib/python3.8/site-packages (from tzlocal->streamlit==0.85.0->-r /workspaces/Mildew-Detection-in-Cherry-Leaves/requirements.txt (line 7)) (0.2.1)\n",
      "Requirement already satisfied: smmap<6,>=3.0.1 in /home/codeany/.pyenv/versions/3.8.12/lib/python3.8/site-packages (from gitdb<5,>=4.0.1->gitpython->streamlit==0.85.0->-r /workspaces/Mildew-Detection-in-Cherry-Leaves/requirements.txt (line 7)) (5.0.1)\n",
      "Requirement already satisfied: pyasn1-modules>=0.2.1 in /home/codeany/.local/lib/python3.8/site-packages (from google-auth<3,>=1.6.3->tensorboard~=2.6->tensorflow-cpu==2.6.0->-r /workspaces/Mildew-Detection-in-Cherry-Leaves/requirements.txt (line 10)) (0.3.0)\n",
      "Requirement already satisfied: rsa<5,>=3.1.4 in /home/codeany/.local/lib/python3.8/site-packages (from google-auth<3,>=1.6.3->tensorboard~=2.6->tensorflow-cpu==2.6.0->-r /workspaces/Mildew-Detection-in-Cherry-Leaves/requirements.txt (line 10)) (4.9)\n",
      "Requirement already satisfied: requests-oauthlib>=0.7.0 in /home/codeany/.local/lib/python3.8/site-packages (from google-auth-oauthlib<1.1,>=0.5->tensorboard~=2.6->tensorflow-cpu==2.6.0->-r /workspaces/Mildew-Detection-in-Cherry-Leaves/requirements.txt (line 10)) (1.3.1)\n",
      "Requirement already satisfied: zipp>=3.1.0 in /home/codeany/.pyenv/versions/3.8.12/lib/python3.8/site-packages (from importlib-resources>=1.4.0->jsonschema>=3.0->altair<5->-r /workspaces/Mildew-Detection-in-Cherry-Leaves/requirements.txt (line 13)) (3.17.0)\n",
      "Requirement already satisfied: importlib-metadata>=4.4 in /home/codeany/.pyenv/versions/3.8.12/lib/python3.8/site-packages (from markdown>=2.6.8->tensorboard~=2.6->tensorflow-cpu==2.6.0->-r /workspaces/Mildew-Detection-in-Cherry-Leaves/requirements.txt (line 10)) (6.8.0)\n",
      "Requirement already satisfied: pyasn1<0.6.0,>=0.4.6 in /home/codeany/.local/lib/python3.8/site-packages (from pyasn1-modules>=0.2.1->google-auth<3,>=1.6.3->tensorboard~=2.6->tensorflow-cpu==2.6.0->-r /workspaces/Mildew-Detection-in-Cherry-Leaves/requirements.txt (line 10)) (0.5.1)\n",
      "Requirement already satisfied: oauthlib>=3.0.0 in /home/codeany/.local/lib/python3.8/site-packages (from requests-oauthlib>=0.7.0->google-auth-oauthlib<1.1,>=0.5->tensorboard~=2.6->tensorflow-cpu==2.6.0->-r /workspaces/Mildew-Detection-in-Cherry-Leaves/requirements.txt (line 10)) (3.2.2)\n",
      "Note: you may need to restart the kernel to use updated packages.\n",
      "requirements installed\n"
     ]
    }
   ],
   "source": [
    "%pip install -r /workspaces/Mildew-Detection-in-Cherry-Leaves/requirements.txt\n"
   ]
  },
  {
   "cell_type": "markdown",
   "metadata": {},
   "source": [
    "## 2. Import libraries"
   ]
  },
  {
   "cell_type": "code",
   "execution_count": 11,
   "metadata": {},
   "outputs": [
    {
     "name": "stdout",
     "output_type": "stream",
     "text": [
      "requirements installed\n"
     ]
    }
   ],
   "source": [
    "import numpy as np\n",
    "import pandas as pd\n",
    "import matplotlib.pyplot as plt\n",
    "import seaborn as sns\n",
    "import sklearn\n",
    "import altair as alt\n",
    "import zipfile\n",
    "import os\n",
    "print(\"requirements installed\")"
   ]
  },
  {
   "cell_type": "markdown",
   "metadata": {},
   "source": [
    "## 3. Unzip files"
   ]
  },
  {
   "cell_type": "code",
   "execution_count": 3,
   "metadata": {},
   "outputs": [
    {
     "ename": "NameError",
     "evalue": "name 'DestinationFolder' is not defined",
     "output_type": "error",
     "traceback": [
      "\u001b[0;31m---------------------------------------------------------------------------\u001b[0m",
      "\u001b[0;31mNameError\u001b[0m                                 Traceback (most recent call last)",
      "Cell \u001b[0;32mIn[3], line 1\u001b[0m\n\u001b[0;32m----> 1\u001b[0m \u001b[38;5;28;01mwith\u001b[39;00m zipfile\u001b[38;5;241m.\u001b[39mZipFile(\u001b[43mDestinationFolder\u001b[49m \u001b[38;5;241m+\u001b[39m \u001b[38;5;124m'\u001b[39m\u001b[38;5;124m/cherry-leaves.zip\u001b[39m\u001b[38;5;124m'\u001b[39m, \u001b[38;5;124m'\u001b[39m\u001b[38;5;124mr\u001b[39m\u001b[38;5;124m'\u001b[39m) \u001b[38;5;28;01mas\u001b[39;00m zip_ref:\n\u001b[1;32m      2\u001b[0m     zip_ref\u001b[38;5;241m.\u001b[39mextractall(DestinationFolder)\n\u001b[1;32m      4\u001b[0m os\u001b[38;5;241m.\u001b[39mremove(DestinationFolder \u001b[38;5;241m+\u001b[39m \u001b[38;5;124m'\u001b[39m\u001b[38;5;124m/cherry-leaves.zip\u001b[39m\u001b[38;5;124m'\u001b[39m)\n",
      "\u001b[0;31mNameError\u001b[0m: name 'DestinationFolder' is not defined"
     ]
    }
   ],
   "source": [
    "with zipfile.ZipFile(DestinationFolder + '/cherry-leaves.zip', 'r') as zip_ref:\n",
    "    zip_ref.extractall(DestinationFolder)\n",
    "\n",
    "os.remove(DestinationFolder + '/cherry-leaves.zip')"
   ]
  },
  {
   "cell_type": "markdown",
   "metadata": {},
   "source": [
    "## 4. Merge and Group Images by Category"
   ]
  },
  {
   "cell_type": "markdown",
   "metadata": {},
   "source": []
  },
  {
   "cell_type": "code",
   "execution_count": 5,
   "metadata": {},
   "outputs": [],
   "source": [
    "def merge_and_group_images(source_folders, destination_folders):\n",
    "    # Asegurarse de que los directorios de destino existan\n",
    "    for _, dest in destination_folders.items():\n",
    "        if not os.path.exists(dest):\n",
    "            os.makedirs(dest)\n",
    "\n",
    "    for folder in source_folders:\n",
    "        for category in ['healthy', 'powdery_mildew']:\n",
    "            source_path = folder + '/' + category\n",
    "            files = os.listdir(source_path)\n",
    "            for file in files:\n",
    "                shutil.move(source_path + '/' + file, destination_folders[category])\n",
    "            os.rmdir(source_path)"
   ]
  },
  {
   "cell_type": "markdown",
   "metadata": {},
   "source": [
    "### Define source folders"
   ]
  },
  {
   "cell_type": "code",
   "execution_count": 6,
   "metadata": {},
   "outputs": [],
   "source": [
    "source_folders = [\n",
    "    \"inputs/mildew_dataset/cherry-leaves/test\",\n",
    "    \"inputs/mildew_dataset/cherry-leaves/train\"\n",
    "]"
   ]
  },
  {
   "cell_type": "markdown",
   "metadata": {},
   "source": [
    "### Define destination folders"
   ]
  },
  {
   "cell_type": "code",
   "execution_count": 7,
   "metadata": {},
   "outputs": [],
   "source": [
    "destination_folders = {\n",
    "    \"healthy\": \"inputs/mildew_dataset/cherry-leaves/healthy\",\n",
    "    \"powdery_mildew\": \"inputs/mildew_dataset/cherry-leaves/powdery_mildew\"\n",
    "}"
   ]
  },
  {
   "cell_type": "markdown",
   "metadata": {},
   "source": [
    "### Execute the function"
   ]
  },
  {
   "cell_type": "code",
   "execution_count": 14,
   "metadata": {},
   "outputs": [],
   "source": [
    "import os\n",
    "import shutil\n",
    "\n",
    "def remove_initial_directories(directories):\n",
    "    for directory in directories:\n",
    "        shutil.rmtree(directory)\n",
    "\n",
    "# Define the directories to be removed\n",
    "directories_to_remove = [\n",
    "    \"inputs/mildew_dataset/cherry-leaves/test\",\n",
    "    \"inputs/mildew_dataset/cherry-leaves/train\"\n",
    "]\n",
    "\n",
    "# Execute the function\n",
    "remove_initial_directories(directories_to_remove)"
   ]
  },
  {
   "cell_type": "markdown",
   "metadata": {},
   "source": [
    "## 5. Create sinthetic files to ensure both healthy and powdery leaves contain the same amount"
   ]
  },
  {
   "cell_type": "markdown",
   "metadata": {},
   "source": [
    "### Count Images in Each Folder:"
   ]
  },
  {
   "cell_type": "code",
   "execution_count": 20,
   "metadata": {},
   "outputs": [
    {
     "name": "stdout",
     "output_type": "stream",
     "text": [
      "2173\n",
      "2028\n"
     ]
    }
   ],
   "source": [
    "import os\n",
    "\n",
    "healthy_images_count = len(os.listdir('/workspaces/Mildew-Detection-in-Cherry-Leaves/inputs/mildew_dataset/cherry-leaves/healthy'))\n",
    "mildew_images_count = len(os.listdir('/workspaces/Mildew-Detection-in-Cherry-Leaves/inputs/mildew_dataset/cherry-leaves/powdery_mildew'))\n",
    "print(healthy_images_count)\n",
    "print(mildew_images_count)\n"
   ]
  },
  {
   "cell_type": "markdown",
   "metadata": {},
   "source": [
    "### Determine the Difference and Set Image Generation Count:"
   ]
  },
  {
   "cell_type": "code",
   "execution_count": 24,
   "metadata": {},
   "outputs": [
    {
     "name": "stdout",
     "output_type": "stream",
     "text": [
      "145\n"
     ]
    }
   ],
   "source": [
    "images_to_generate = abs(healthy_images_count - mildew_images_count)\n",
    "folder_to_use = '/workspaces/Mildew-Detection-in-Cherry-Leaves/inputs/mildew_dataset/cherry-leaves/powdery_mildew' if healthy_images_count > mildew_images_count else '/workspaces/Mildew-Detection-in-Cherry-Leaves/inputs/mildew_dataset/cherry-leaves/healthy'\n",
    "print(images_to_generate)"
   ]
  },
  {
   "cell_type": "markdown",
   "metadata": {},
   "source": [
    "### Define Image Transformation Functions:"
   ]
  },
  {
   "cell_type": "code",
   "execution_count": 25,
   "metadata": {},
   "outputs": [],
   "source": [
    "from PIL import Image, ImageOps\n",
    "import random\n",
    "\n",
    "def random_transformation(image_path):\n",
    "    image = Image.open(image_path)\n",
    "    choice = random.randint(1, 3)\n",
    "    if choice == 1:\n",
    "        # Mirror\n",
    "        return ImageOps.mirror(image)\n",
    "    elif choice == 2:\n",
    "        # Adjust brightness\n",
    "        return ImageEnhance.Brightness(image).enhance(random.uniform(0.5, 1.5))\n",
    "    else:\n",
    "        # Rotate\n",
    "        return image.rotate(random.choice([90, 180, 270]))"
   ]
  },
  {
   "cell_type": "markdown",
   "metadata": {},
   "source": [
    "### Generate and Save Transformed Images:"
   ]
  },
  {
   "cell_type": "code",
   "execution_count": 27,
   "metadata": {},
   "outputs": [
    {
     "name": "stdout",
     "output_type": "stream",
     "text": [
      "Processing image number: 0\n",
      "Selected random image for transformation: powdery_mildew (624).JPG\n",
      "Saving transformed image to: /workspaces/Mildew-Detection-in-Cherry-Leaves/inputs/mildew_dataset/cherry-leaves/powdery_mildew/synthetic_0.jpg\n",
      "Processing image number: 1\n",
      "Selected random image for transformation: powdery_mildew (679).JPG\n",
      "Saving transformed image to: /workspaces/Mildew-Detection-in-Cherry-Leaves/inputs/mildew_dataset/cherry-leaves/powdery_mildew/synthetic_1.jpg\n",
      "Processing image number: 2\n",
      "Selected random image for transformation: powdery_mildew (467).JPG\n",
      "Saving transformed image to: /workspaces/Mildew-Detection-in-Cherry-Leaves/inputs/mildew_dataset/cherry-leaves/powdery_mildew/synthetic_2.jpg\n",
      "Processing image number: 3\n",
      "Selected random image for transformation: powdery_mildew (1963).JPG\n",
      "Saving transformed image to: /workspaces/Mildew-Detection-in-Cherry-Leaves/inputs/mildew_dataset/cherry-leaves/powdery_mildew/synthetic_3.jpg\n",
      "Processing image number: 4\n",
      "Selected random image for transformation: powdery_mildew (145).JPG\n",
      "Saving transformed image to: /workspaces/Mildew-Detection-in-Cherry-Leaves/inputs/mildew_dataset/cherry-leaves/powdery_mildew/synthetic_4.jpg\n",
      "Processing image number: 5\n",
      "Selected random image for transformation: powdery_mildew (191).JPG\n",
      "Saving transformed image to: /workspaces/Mildew-Detection-in-Cherry-Leaves/inputs/mildew_dataset/cherry-leaves/powdery_mildew/synthetic_5.jpg\n",
      "Processing image number: 6\n",
      "Selected random image for transformation: powdery_mildew (3).JPG\n",
      "Saving transformed image to: /workspaces/Mildew-Detection-in-Cherry-Leaves/inputs/mildew_dataset/cherry-leaves/powdery_mildew/synthetic_6.jpg\n",
      "Processing image number: 7\n",
      "Selected random image for transformation: powdery_mildew (1265).JPG\n",
      "Saving transformed image to: /workspaces/Mildew-Detection-in-Cherry-Leaves/inputs/mildew_dataset/cherry-leaves/powdery_mildew/synthetic_7.jpg\n",
      "Processing image number: 8\n",
      "Selected random image for transformation: powdery_mildew (1780).JPG\n",
      "Saving transformed image to: /workspaces/Mildew-Detection-in-Cherry-Leaves/inputs/mildew_dataset/cherry-leaves/powdery_mildew/synthetic_8.jpg\n",
      "Processing image number: 9\n",
      "Selected random image for transformation: powdery_mildew (88).JPG\n",
      "Saving transformed image to: /workspaces/Mildew-Detection-in-Cherry-Leaves/inputs/mildew_dataset/cherry-leaves/powdery_mildew/synthetic_9.jpg\n",
      "Processing image number: 10\n",
      "Selected random image for transformation: powdery_mildew (61).JPG\n",
      "Saving transformed image to: /workspaces/Mildew-Detection-in-Cherry-Leaves/inputs/mildew_dataset/cherry-leaves/powdery_mildew/synthetic_10.jpg\n",
      "Processing image number: 11\n",
      "Selected random image for transformation: powdery_mildew (772).JPG\n",
      "Saving transformed image to: /workspaces/Mildew-Detection-in-Cherry-Leaves/inputs/mildew_dataset/cherry-leaves/powdery_mildew/synthetic_11.jpg\n",
      "Processing image number: 12\n",
      "Selected random image for transformation: powdery_mildew (236).JPG\n",
      "Saving transformed image to: /workspaces/Mildew-Detection-in-Cherry-Leaves/inputs/mildew_dataset/cherry-leaves/powdery_mildew/synthetic_12.jpg\n",
      "Processing image number: 13\n",
      "Selected random image for transformation: powdery_mildew (315).JPG\n",
      "Saving transformed image to: /workspaces/Mildew-Detection-in-Cherry-Leaves/inputs/mildew_dataset/cherry-leaves/powdery_mildew/synthetic_13.jpg\n",
      "Processing image number: 14\n",
      "Selected random image for transformation: powdery_mildew (1631).JPG\n",
      "Saving transformed image to: /workspaces/Mildew-Detection-in-Cherry-Leaves/inputs/mildew_dataset/cherry-leaves/powdery_mildew/synthetic_14.jpg\n",
      "Processing image number: 15\n",
      "Selected random image for transformation: powdery_mildew (112).JPG\n",
      "Saving transformed image to: /workspaces/Mildew-Detection-in-Cherry-Leaves/inputs/mildew_dataset/cherry-leaves/powdery_mildew/synthetic_15.jpg\n",
      "Processing image number: 16\n",
      "Selected random image for transformation: powdery_mildew (121).JPG\n",
      "Saving transformed image to: /workspaces/Mildew-Detection-in-Cherry-Leaves/inputs/mildew_dataset/cherry-leaves/powdery_mildew/synthetic_16.jpg\n",
      "Processing image number: 17\n",
      "Selected random image for transformation: powdery_mildew (623).JPG\n",
      "Saving transformed image to: /workspaces/Mildew-Detection-in-Cherry-Leaves/inputs/mildew_dataset/cherry-leaves/powdery_mildew/synthetic_17.jpg\n",
      "Processing image number: 18\n",
      "Selected random image for transformation: synthetic_8.jpg\n",
      "Saving transformed image to: /workspaces/Mildew-Detection-in-Cherry-Leaves/inputs/mildew_dataset/cherry-leaves/powdery_mildew/synthetic_18.jpg\n",
      "Processing image number: 19\n",
      "Selected random image for transformation: powdery_mildew (443).JPG\n",
      "Saving transformed image to: /workspaces/Mildew-Detection-in-Cherry-Leaves/inputs/mildew_dataset/cherry-leaves/powdery_mildew/synthetic_19.jpg\n",
      "Processing image number: 20\n",
      "Selected random image for transformation: powdery_mildew (1782).JPG\n",
      "Saving transformed image to: /workspaces/Mildew-Detection-in-Cherry-Leaves/inputs/mildew_dataset/cherry-leaves/powdery_mildew/synthetic_20.jpg\n",
      "Processing image number: 21\n",
      "Selected random image for transformation: powdery_mildew (1984).JPG\n",
      "Saving transformed image to: /workspaces/Mildew-Detection-in-Cherry-Leaves/inputs/mildew_dataset/cherry-leaves/powdery_mildew/synthetic_21.jpg\n",
      "Processing image number: 22\n",
      "Selected random image for transformation: powdery_mildew (1881).JPG\n",
      "Saving transformed image to: /workspaces/Mildew-Detection-in-Cherry-Leaves/inputs/mildew_dataset/cherry-leaves/powdery_mildew/synthetic_22.jpg\n",
      "Processing image number: 23\n",
      "Selected random image for transformation: powdery_mildew (1177).JPG\n",
      "Saving transformed image to: /workspaces/Mildew-Detection-in-Cherry-Leaves/inputs/mildew_dataset/cherry-leaves/powdery_mildew/synthetic_23.jpg\n",
      "Processing image number: 24\n",
      "Selected random image for transformation: powdery_mildew (1606).JPG\n",
      "Saving transformed image to: /workspaces/Mildew-Detection-in-Cherry-Leaves/inputs/mildew_dataset/cherry-leaves/powdery_mildew/synthetic_24.jpg\n",
      "Processing image number: 25\n",
      "Selected random image for transformation: powdery_mildew (2010).JPG\n",
      "Saving transformed image to: /workspaces/Mildew-Detection-in-Cherry-Leaves/inputs/mildew_dataset/cherry-leaves/powdery_mildew/synthetic_25.jpg\n",
      "Processing image number: 26\n",
      "Selected random image for transformation: powdery_mildew (798).JPG\n",
      "Saving transformed image to: /workspaces/Mildew-Detection-in-Cherry-Leaves/inputs/mildew_dataset/cherry-leaves/powdery_mildew/synthetic_26.jpg\n",
      "Processing image number: 27\n",
      "Selected random image for transformation: powdery_mildew (1352).JPG\n",
      "Saving transformed image to: /workspaces/Mildew-Detection-in-Cherry-Leaves/inputs/mildew_dataset/cherry-leaves/powdery_mildew/synthetic_27.jpg\n",
      "Processing image number: 28\n",
      "Selected random image for transformation: powdery_mildew (1231).JPG\n",
      "Saving transformed image to: /workspaces/Mildew-Detection-in-Cherry-Leaves/inputs/mildew_dataset/cherry-leaves/powdery_mildew/synthetic_28.jpg\n",
      "Processing image number: 29\n",
      "Selected random image for transformation: powdery_mildew (1743).JPG\n",
      "Saving transformed image to: /workspaces/Mildew-Detection-in-Cherry-Leaves/inputs/mildew_dataset/cherry-leaves/powdery_mildew/synthetic_29.jpg\n",
      "Processing image number: 30\n",
      "Selected random image for transformation: powdery_mildew (1937).JPG\n",
      "Saving transformed image to: /workspaces/Mildew-Detection-in-Cherry-Leaves/inputs/mildew_dataset/cherry-leaves/powdery_mildew/synthetic_30.jpg\n",
      "Processing image number: 31\n",
      "Selected random image for transformation: powdery_mildew (1489).JPG\n",
      "Saving transformed image to: /workspaces/Mildew-Detection-in-Cherry-Leaves/inputs/mildew_dataset/cherry-leaves/powdery_mildew/synthetic_31.jpg\n",
      "Processing image number: 32\n",
      "Selected random image for transformation: powdery_mildew (35).JPG\n",
      "Saving transformed image to: /workspaces/Mildew-Detection-in-Cherry-Leaves/inputs/mildew_dataset/cherry-leaves/powdery_mildew/synthetic_32.jpg\n",
      "Processing image number: 33\n",
      "Selected random image for transformation: powdery_mildew (964).JPG\n",
      "Saving transformed image to: /workspaces/Mildew-Detection-in-Cherry-Leaves/inputs/mildew_dataset/cherry-leaves/powdery_mildew/synthetic_33.jpg\n",
      "Processing image number: 34\n",
      "Selected random image for transformation: powdery_mildew (515).JPG\n",
      "Saving transformed image to: /workspaces/Mildew-Detection-in-Cherry-Leaves/inputs/mildew_dataset/cherry-leaves/powdery_mildew/synthetic_34.jpg\n",
      "Processing image number: 35\n",
      "Selected random image for transformation: powdery_mildew (104).JPG\n",
      "Saving transformed image to: /workspaces/Mildew-Detection-in-Cherry-Leaves/inputs/mildew_dataset/cherry-leaves/powdery_mildew/synthetic_35.jpg\n",
      "Processing image number: 36\n",
      "Selected random image for transformation: powdery_mildew (1225).JPG\n",
      "Saving transformed image to: /workspaces/Mildew-Detection-in-Cherry-Leaves/inputs/mildew_dataset/cherry-leaves/powdery_mildew/synthetic_36.jpg\n",
      "Processing image number: 37\n",
      "Selected random image for transformation: powdery_mildew (796).JPG\n",
      "Saving transformed image to: /workspaces/Mildew-Detection-in-Cherry-Leaves/inputs/mildew_dataset/cherry-leaves/powdery_mildew/synthetic_37.jpg\n",
      "Processing image number: 38\n",
      "Selected random image for transformation: powdery_mildew (1080).JPG\n",
      "Saving transformed image to: /workspaces/Mildew-Detection-in-Cherry-Leaves/inputs/mildew_dataset/cherry-leaves/powdery_mildew/synthetic_38.jpg\n",
      "Processing image number: 39\n",
      "Selected random image for transformation: powdery_mildew (1704).JPG\n",
      "Saving transformed image to: /workspaces/Mildew-Detection-in-Cherry-Leaves/inputs/mildew_dataset/cherry-leaves/powdery_mildew/synthetic_39.jpg\n",
      "Processing image number: 40\n",
      "Selected random image for transformation: powdery_mildew (1458).JPG\n",
      "Saving transformed image to: /workspaces/Mildew-Detection-in-Cherry-Leaves/inputs/mildew_dataset/cherry-leaves/powdery_mildew/synthetic_40.jpg\n",
      "Processing image number: 41\n",
      "Selected random image for transformation: powdery_mildew (1578).JPG\n",
      "Saving transformed image to: /workspaces/Mildew-Detection-in-Cherry-Leaves/inputs/mildew_dataset/cherry-leaves/powdery_mildew/synthetic_41.jpg\n",
      "Processing image number: 42\n",
      "Selected random image for transformation: powdery_mildew (1642).JPG\n",
      "Saving transformed image to: /workspaces/Mildew-Detection-in-Cherry-Leaves/inputs/mildew_dataset/cherry-leaves/powdery_mildew/synthetic_42.jpg\n",
      "Processing image number: 43\n",
      "Selected random image for transformation: powdery_mildew (529).JPG\n",
      "Saving transformed image to: /workspaces/Mildew-Detection-in-Cherry-Leaves/inputs/mildew_dataset/cherry-leaves/powdery_mildew/synthetic_43.jpg\n",
      "Processing image number: 44\n",
      "Selected random image for transformation: powdery_mildew (409).JPG\n",
      "Saving transformed image to: /workspaces/Mildew-Detection-in-Cherry-Leaves/inputs/mildew_dataset/cherry-leaves/powdery_mildew/synthetic_44.jpg\n",
      "Processing image number: 45\n",
      "Selected random image for transformation: powdery_mildew (1006).JPG\n",
      "Saving transformed image to: /workspaces/Mildew-Detection-in-Cherry-Leaves/inputs/mildew_dataset/cherry-leaves/powdery_mildew/synthetic_45.jpg\n",
      "Processing image number: 46\n",
      "Selected random image for transformation: powdery_mildew (24).JPG\n",
      "Saving transformed image to: /workspaces/Mildew-Detection-in-Cherry-Leaves/inputs/mildew_dataset/cherry-leaves/powdery_mildew/synthetic_46.jpg\n",
      "Processing image number: 47\n",
      "Selected random image for transformation: powdery_mildew (1491).JPG\n",
      "Saving transformed image to: /workspaces/Mildew-Detection-in-Cherry-Leaves/inputs/mildew_dataset/cherry-leaves/powdery_mildew/synthetic_47.jpg\n",
      "Processing image number: 48\n",
      "Selected random image for transformation: powdery_mildew (1485).JPG\n",
      "Saving transformed image to: /workspaces/Mildew-Detection-in-Cherry-Leaves/inputs/mildew_dataset/cherry-leaves/powdery_mildew/synthetic_48.jpg\n",
      "Processing image number: 49\n",
      "Selected random image for transformation: powdery_mildew (1741).JPG\n",
      "Saving transformed image to: /workspaces/Mildew-Detection-in-Cherry-Leaves/inputs/mildew_dataset/cherry-leaves/powdery_mildew/synthetic_49.jpg\n",
      "Processing image number: 50\n",
      "Selected random image for transformation: powdery_mildew (414).JPG\n",
      "Saving transformed image to: /workspaces/Mildew-Detection-in-Cherry-Leaves/inputs/mildew_dataset/cherry-leaves/powdery_mildew/synthetic_50.jpg\n",
      "Processing image number: 51\n",
      "Selected random image for transformation: powdery_mildew (585).JPG\n",
      "Saving transformed image to: /workspaces/Mildew-Detection-in-Cherry-Leaves/inputs/mildew_dataset/cherry-leaves/powdery_mildew/synthetic_51.jpg\n",
      "Processing image number: 52\n",
      "Selected random image for transformation: powdery_mildew (1417).JPG\n",
      "Saving transformed image to: /workspaces/Mildew-Detection-in-Cherry-Leaves/inputs/mildew_dataset/cherry-leaves/powdery_mildew/synthetic_52.jpg\n",
      "Processing image number: 53\n",
      "Selected random image for transformation: powdery_mildew (1544).JPG\n",
      "Saving transformed image to: /workspaces/Mildew-Detection-in-Cherry-Leaves/inputs/mildew_dataset/cherry-leaves/powdery_mildew/synthetic_53.jpg\n",
      "Processing image number: 54\n",
      "Selected random image for transformation: powdery_mildew (1126).JPG\n",
      "Saving transformed image to: /workspaces/Mildew-Detection-in-Cherry-Leaves/inputs/mildew_dataset/cherry-leaves/powdery_mildew/synthetic_54.jpg\n",
      "Processing image number: 55\n",
      "Selected random image for transformation: powdery_mildew (206).JPG\n",
      "Saving transformed image to: /workspaces/Mildew-Detection-in-Cherry-Leaves/inputs/mildew_dataset/cherry-leaves/powdery_mildew/synthetic_55.jpg\n",
      "Processing image number: 56\n",
      "Selected random image for transformation: powdery_mildew (792).JPG\n",
      "Saving transformed image to: /workspaces/Mildew-Detection-in-Cherry-Leaves/inputs/mildew_dataset/cherry-leaves/powdery_mildew/synthetic_56.jpg\n",
      "Processing image number: 57\n",
      "Selected random image for transformation: powdery_mildew (1971).JPG\n",
      "Saving transformed image to: /workspaces/Mildew-Detection-in-Cherry-Leaves/inputs/mildew_dataset/cherry-leaves/powdery_mildew/synthetic_57.jpg\n",
      "Processing image number: 58\n",
      "Selected random image for transformation: powdery_mildew (901).JPG\n",
      "Saving transformed image to: /workspaces/Mildew-Detection-in-Cherry-Leaves/inputs/mildew_dataset/cherry-leaves/powdery_mildew/synthetic_58.jpg\n",
      "Processing image number: 59\n",
      "Selected random image for transformation: powdery_mildew (1779).JPG\n",
      "Saving transformed image to: /workspaces/Mildew-Detection-in-Cherry-Leaves/inputs/mildew_dataset/cherry-leaves/powdery_mildew/synthetic_59.jpg\n",
      "Processing image number: 60\n",
      "Selected random image for transformation: powdery_mildew (1390).JPG\n",
      "Saving transformed image to: /workspaces/Mildew-Detection-in-Cherry-Leaves/inputs/mildew_dataset/cherry-leaves/powdery_mildew/synthetic_60.jpg\n",
      "Processing image number: 61\n",
      "Selected random image for transformation: powdery_mildew (1176).JPG\n",
      "Saving transformed image to: /workspaces/Mildew-Detection-in-Cherry-Leaves/inputs/mildew_dataset/cherry-leaves/powdery_mildew/synthetic_61.jpg\n",
      "Processing image number: 62\n",
      "Selected random image for transformation: powdery_mildew (1862).JPG\n",
      "Saving transformed image to: /workspaces/Mildew-Detection-in-Cherry-Leaves/inputs/mildew_dataset/cherry-leaves/powdery_mildew/synthetic_62.jpg\n",
      "Processing image number: 63\n",
      "Selected random image for transformation: powdery_mildew (312).JPG\n",
      "Saving transformed image to: /workspaces/Mildew-Detection-in-Cherry-Leaves/inputs/mildew_dataset/cherry-leaves/powdery_mildew/synthetic_63.jpg\n",
      "Processing image number: 64\n",
      "Selected random image for transformation: powdery_mildew (1931).JPG\n",
      "Saving transformed image to: /workspaces/Mildew-Detection-in-Cherry-Leaves/inputs/mildew_dataset/cherry-leaves/powdery_mildew/synthetic_64.jpg\n",
      "Processing image number: 65\n",
      "Selected random image for transformation: powdery_mildew (1102).JPG\n",
      "Saving transformed image to: /workspaces/Mildew-Detection-in-Cherry-Leaves/inputs/mildew_dataset/cherry-leaves/powdery_mildew/synthetic_65.jpg\n",
      "Processing image number: 66\n",
      "Selected random image for transformation: powdery_mildew (760).JPG\n",
      "Saving transformed image to: /workspaces/Mildew-Detection-in-Cherry-Leaves/inputs/mildew_dataset/cherry-leaves/powdery_mildew/synthetic_66.jpg\n",
      "Processing image number: 67\n",
      "Selected random image for transformation: powdery_mildew (1541).JPG\n",
      "Saving transformed image to: /workspaces/Mildew-Detection-in-Cherry-Leaves/inputs/mildew_dataset/cherry-leaves/powdery_mildew/synthetic_67.jpg\n",
      "Processing image number: 68\n",
      "Selected random image for transformation: powdery_mildew (319).JPG\n",
      "Saving transformed image to: /workspaces/Mildew-Detection-in-Cherry-Leaves/inputs/mildew_dataset/cherry-leaves/powdery_mildew/synthetic_68.jpg\n",
      "Processing image number: 69\n",
      "Selected random image for transformation: synthetic_65.jpg\n",
      "Saving transformed image to: /workspaces/Mildew-Detection-in-Cherry-Leaves/inputs/mildew_dataset/cherry-leaves/powdery_mildew/synthetic_69.jpg\n",
      "Processing image number: 70\n",
      "Selected random image for transformation: powdery_mildew (1783).JPG\n",
      "Saving transformed image to: /workspaces/Mildew-Detection-in-Cherry-Leaves/inputs/mildew_dataset/cherry-leaves/powdery_mildew/synthetic_70.jpg\n",
      "Processing image number: 71\n",
      "Selected random image for transformation: synthetic_4.jpg\n",
      "Saving transformed image to: /workspaces/Mildew-Detection-in-Cherry-Leaves/inputs/mildew_dataset/cherry-leaves/powdery_mildew/synthetic_71.jpg\n",
      "Processing image number: 72\n",
      "Selected random image for transformation: powdery_mildew (231).JPG\n",
      "Saving transformed image to: /workspaces/Mildew-Detection-in-Cherry-Leaves/inputs/mildew_dataset/cherry-leaves/powdery_mildew/synthetic_72.jpg\n",
      "Processing image number: 73\n",
      "Selected random image for transformation: powdery_mildew (823).JPG\n",
      "Saving transformed image to: /workspaces/Mildew-Detection-in-Cherry-Leaves/inputs/mildew_dataset/cherry-leaves/powdery_mildew/synthetic_73.jpg\n",
      "Processing image number: 74\n",
      "Selected random image for transformation: powdery_mildew (912).JPG\n",
      "Saving transformed image to: /workspaces/Mildew-Detection-in-Cherry-Leaves/inputs/mildew_dataset/cherry-leaves/powdery_mildew/synthetic_74.jpg\n",
      "Processing image number: 75\n",
      "Selected random image for transformation: powdery_mildew (948).JPG\n",
      "Saving transformed image to: /workspaces/Mildew-Detection-in-Cherry-Leaves/inputs/mildew_dataset/cherry-leaves/powdery_mildew/synthetic_75.jpg\n",
      "Processing image number: 76\n",
      "Selected random image for transformation: powdery_mildew (62).JPG\n",
      "Saving transformed image to: /workspaces/Mildew-Detection-in-Cherry-Leaves/inputs/mildew_dataset/cherry-leaves/powdery_mildew/synthetic_76.jpg\n",
      "Processing image number: 77\n",
      "Selected random image for transformation: synthetic_71.jpg\n",
      "Saving transformed image to: /workspaces/Mildew-Detection-in-Cherry-Leaves/inputs/mildew_dataset/cherry-leaves/powdery_mildew/synthetic_77.jpg\n",
      "Processing image number: 78\n",
      "Selected random image for transformation: powdery_mildew (269).JPG\n",
      "Saving transformed image to: /workspaces/Mildew-Detection-in-Cherry-Leaves/inputs/mildew_dataset/cherry-leaves/powdery_mildew/synthetic_78.jpg\n",
      "Processing image number: 79\n",
      "Selected random image for transformation: powdery_mildew (1602).JPG\n",
      "Saving transformed image to: /workspaces/Mildew-Detection-in-Cherry-Leaves/inputs/mildew_dataset/cherry-leaves/powdery_mildew/synthetic_79.jpg\n",
      "Processing image number: 80\n",
      "Selected random image for transformation: powdery_mildew (1755).JPG\n",
      "Saving transformed image to: /workspaces/Mildew-Detection-in-Cherry-Leaves/inputs/mildew_dataset/cherry-leaves/powdery_mildew/synthetic_80.jpg\n",
      "Processing image number: 81\n",
      "Selected random image for transformation: powdery_mildew (1315).JPG\n",
      "Saving transformed image to: /workspaces/Mildew-Detection-in-Cherry-Leaves/inputs/mildew_dataset/cherry-leaves/powdery_mildew/synthetic_81.jpg\n",
      "Processing image number: 82\n",
      "Selected random image for transformation: powdery_mildew (136).JPG\n",
      "Saving transformed image to: /workspaces/Mildew-Detection-in-Cherry-Leaves/inputs/mildew_dataset/cherry-leaves/powdery_mildew/synthetic_82.jpg\n",
      "Processing image number: 83\n",
      "Selected random image for transformation: powdery_mildew (1096).JPG\n",
      "Saving transformed image to: /workspaces/Mildew-Detection-in-Cherry-Leaves/inputs/mildew_dataset/cherry-leaves/powdery_mildew/synthetic_83.jpg\n",
      "Processing image number: 84\n",
      "Selected random image for transformation: powdery_mildew (1788).JPG\n",
      "Saving transformed image to: /workspaces/Mildew-Detection-in-Cherry-Leaves/inputs/mildew_dataset/cherry-leaves/powdery_mildew/synthetic_84.jpg\n",
      "Processing image number: 85\n",
      "Selected random image for transformation: powdery_mildew (372).JPG\n",
      "Saving transformed image to: /workspaces/Mildew-Detection-in-Cherry-Leaves/inputs/mildew_dataset/cherry-leaves/powdery_mildew/synthetic_85.jpg\n",
      "Processing image number: 86\n",
      "Selected random image for transformation: powdery_mildew (973).JPG\n",
      "Saving transformed image to: /workspaces/Mildew-Detection-in-Cherry-Leaves/inputs/mildew_dataset/cherry-leaves/powdery_mildew/synthetic_86.jpg\n",
      "Processing image number: 87\n",
      "Selected random image for transformation: powdery_mildew (829).JPG\n",
      "Saving transformed image to: /workspaces/Mildew-Detection-in-Cherry-Leaves/inputs/mildew_dataset/cherry-leaves/powdery_mildew/synthetic_87.jpg\n",
      "Processing image number: 88\n",
      "Selected random image for transformation: powdery_mildew (1821).JPG\n",
      "Saving transformed image to: /workspaces/Mildew-Detection-in-Cherry-Leaves/inputs/mildew_dataset/cherry-leaves/powdery_mildew/synthetic_88.jpg\n",
      "Processing image number: 89\n",
      "Selected random image for transformation: powdery_mildew (1141).JPG\n",
      "Saving transformed image to: /workspaces/Mildew-Detection-in-Cherry-Leaves/inputs/mildew_dataset/cherry-leaves/powdery_mildew/synthetic_89.jpg\n",
      "Processing image number: 90\n",
      "Selected random image for transformation: powdery_mildew (323).JPG\n",
      "Saving transformed image to: /workspaces/Mildew-Detection-in-Cherry-Leaves/inputs/mildew_dataset/cherry-leaves/powdery_mildew/synthetic_90.jpg\n",
      "Processing image number: 91\n",
      "Selected random image for transformation: powdery_mildew (1633).JPG\n",
      "Saving transformed image to: /workspaces/Mildew-Detection-in-Cherry-Leaves/inputs/mildew_dataset/cherry-leaves/powdery_mildew/synthetic_91.jpg\n",
      "Processing image number: 92\n",
      "Selected random image for transformation: powdery_mildew (1391).JPG\n",
      "Saving transformed image to: /workspaces/Mildew-Detection-in-Cherry-Leaves/inputs/mildew_dataset/cherry-leaves/powdery_mildew/synthetic_92.jpg\n",
      "Processing image number: 93\n",
      "Selected random image for transformation: powdery_mildew (808).JPG\n",
      "Saving transformed image to: /workspaces/Mildew-Detection-in-Cherry-Leaves/inputs/mildew_dataset/cherry-leaves/powdery_mildew/synthetic_93.jpg\n",
      "Processing image number: 94\n",
      "Selected random image for transformation: powdery_mildew (1226).JPG\n",
      "Saving transformed image to: /workspaces/Mildew-Detection-in-Cherry-Leaves/inputs/mildew_dataset/cherry-leaves/powdery_mildew/synthetic_94.jpg\n",
      "Processing image number: 95\n",
      "Selected random image for transformation: synthetic_36.jpg\n",
      "Saving transformed image to: /workspaces/Mildew-Detection-in-Cherry-Leaves/inputs/mildew_dataset/cherry-leaves/powdery_mildew/synthetic_95.jpg\n",
      "Processing image number: 96\n",
      "Selected random image for transformation: powdery_mildew (1040).JPG\n",
      "Saving transformed image to: /workspaces/Mildew-Detection-in-Cherry-Leaves/inputs/mildew_dataset/cherry-leaves/powdery_mildew/synthetic_96.jpg\n",
      "Processing image number: 97\n",
      "Selected random image for transformation: powdery_mildew (1266).JPG\n",
      "Saving transformed image to: /workspaces/Mildew-Detection-in-Cherry-Leaves/inputs/mildew_dataset/cherry-leaves/powdery_mildew/synthetic_97.jpg\n",
      "Processing image number: 98\n",
      "Selected random image for transformation: powdery_mildew (1716).JPG\n",
      "Saving transformed image to: /workspaces/Mildew-Detection-in-Cherry-Leaves/inputs/mildew_dataset/cherry-leaves/powdery_mildew/synthetic_98.jpg\n",
      "Processing image number: 99\n",
      "Selected random image for transformation: powdery_mildew (1674).JPG\n",
      "Saving transformed image to: /workspaces/Mildew-Detection-in-Cherry-Leaves/inputs/mildew_dataset/cherry-leaves/powdery_mildew/synthetic_99.jpg\n",
      "Processing image number: 100\n",
      "Selected random image for transformation: powdery_mildew (841).JPG\n",
      "Saving transformed image to: /workspaces/Mildew-Detection-in-Cherry-Leaves/inputs/mildew_dataset/cherry-leaves/powdery_mildew/synthetic_100.jpg\n",
      "Processing image number: 101\n",
      "Selected random image for transformation: powdery_mildew (1237).JPG\n",
      "Saving transformed image to: /workspaces/Mildew-Detection-in-Cherry-Leaves/inputs/mildew_dataset/cherry-leaves/powdery_mildew/synthetic_101.jpg\n",
      "Processing image number: 102\n",
      "Selected random image for transformation: powdery_mildew (1697).JPG\n",
      "Saving transformed image to: /workspaces/Mildew-Detection-in-Cherry-Leaves/inputs/mildew_dataset/cherry-leaves/powdery_mildew/synthetic_102.jpg\n",
      "Processing image number: 103\n",
      "Selected random image for transformation: powdery_mildew (922).JPG\n",
      "Saving transformed image to: /workspaces/Mildew-Detection-in-Cherry-Leaves/inputs/mildew_dataset/cherry-leaves/powdery_mildew/synthetic_103.jpg\n",
      "Processing image number: 104\n",
      "Selected random image for transformation: powdery_mildew (1133).JPG\n",
      "Saving transformed image to: /workspaces/Mildew-Detection-in-Cherry-Leaves/inputs/mildew_dataset/cherry-leaves/powdery_mildew/synthetic_104.jpg\n",
      "Processing image number: 105\n",
      "Selected random image for transformation: powdery_mildew (1832).JPG\n",
      "Saving transformed image to: /workspaces/Mildew-Detection-in-Cherry-Leaves/inputs/mildew_dataset/cherry-leaves/powdery_mildew/synthetic_105.jpg\n",
      "Processing image number: 106\n",
      "Selected random image for transformation: powdery_mildew (1786).JPG\n",
      "Saving transformed image to: /workspaces/Mildew-Detection-in-Cherry-Leaves/inputs/mildew_dataset/cherry-leaves/powdery_mildew/synthetic_106.jpg\n",
      "Processing image number: 107\n",
      "Selected random image for transformation: powdery_mildew (1052).JPG\n",
      "Saving transformed image to: /workspaces/Mildew-Detection-in-Cherry-Leaves/inputs/mildew_dataset/cherry-leaves/powdery_mildew/synthetic_107.jpg\n",
      "Processing image number: 108\n",
      "Selected random image for transformation: powdery_mildew (1860).JPG\n",
      "Saving transformed image to: /workspaces/Mildew-Detection-in-Cherry-Leaves/inputs/mildew_dataset/cherry-leaves/powdery_mildew/synthetic_108.jpg\n",
      "Processing image number: 109\n",
      "Selected random image for transformation: powdery_mildew (758).JPG\n",
      "Saving transformed image to: /workspaces/Mildew-Detection-in-Cherry-Leaves/inputs/mildew_dataset/cherry-leaves/powdery_mildew/synthetic_109.jpg\n",
      "Processing image number: 110\n",
      "Selected random image for transformation: powdery_mildew (695).JPG\n",
      "Saving transformed image to: /workspaces/Mildew-Detection-in-Cherry-Leaves/inputs/mildew_dataset/cherry-leaves/powdery_mildew/synthetic_110.jpg\n",
      "Processing image number: 111\n",
      "Selected random image for transformation: powdery_mildew (1637).JPG\n",
      "Saving transformed image to: /workspaces/Mildew-Detection-in-Cherry-Leaves/inputs/mildew_dataset/cherry-leaves/powdery_mildew/synthetic_111.jpg\n",
      "Processing image number: 112\n",
      "Selected random image for transformation: powdery_mildew (266).JPG\n",
      "Saving transformed image to: /workspaces/Mildew-Detection-in-Cherry-Leaves/inputs/mildew_dataset/cherry-leaves/powdery_mildew/synthetic_112.jpg\n",
      "Processing image number: 113\n",
      "Selected random image for transformation: powdery_mildew (458).JPG\n",
      "Saving transformed image to: /workspaces/Mildew-Detection-in-Cherry-Leaves/inputs/mildew_dataset/cherry-leaves/powdery_mildew/synthetic_113.jpg\n",
      "Processing image number: 114\n",
      "Selected random image for transformation: synthetic_2.jpg\n",
      "Saving transformed image to: /workspaces/Mildew-Detection-in-Cherry-Leaves/inputs/mildew_dataset/cherry-leaves/powdery_mildew/synthetic_114.jpg\n",
      "Processing image number: 115\n",
      "Selected random image for transformation: powdery_mildew (1431).JPG\n",
      "Saving transformed image to: /workspaces/Mildew-Detection-in-Cherry-Leaves/inputs/mildew_dataset/cherry-leaves/powdery_mildew/synthetic_115.jpg\n",
      "Processing image number: 116\n",
      "Selected random image for transformation: powdery_mildew (1165).JPG\n",
      "Saving transformed image to: /workspaces/Mildew-Detection-in-Cherry-Leaves/inputs/mildew_dataset/cherry-leaves/powdery_mildew/synthetic_116.jpg\n",
      "Processing image number: 117\n",
      "Selected random image for transformation: powdery_mildew (769).JPG\n",
      "Saving transformed image to: /workspaces/Mildew-Detection-in-Cherry-Leaves/inputs/mildew_dataset/cherry-leaves/powdery_mildew/synthetic_117.jpg\n",
      "Processing image number: 118\n",
      "Selected random image for transformation: powdery_mildew (1592).JPG\n",
      "Saving transformed image to: /workspaces/Mildew-Detection-in-Cherry-Leaves/inputs/mildew_dataset/cherry-leaves/powdery_mildew/synthetic_118.jpg\n",
      "Processing image number: 119\n",
      "Selected random image for transformation: powdery_mildew (1657).JPG\n",
      "Saving transformed image to: /workspaces/Mildew-Detection-in-Cherry-Leaves/inputs/mildew_dataset/cherry-leaves/powdery_mildew/synthetic_119.jpg\n",
      "Processing image number: 120\n",
      "Selected random image for transformation: powdery_mildew (1301).JPG\n",
      "Saving transformed image to: /workspaces/Mildew-Detection-in-Cherry-Leaves/inputs/mildew_dataset/cherry-leaves/powdery_mildew/synthetic_120.jpg\n",
      "Processing image number: 121\n",
      "Selected random image for transformation: powdery_mildew (1999).JPG\n",
      "Saving transformed image to: /workspaces/Mildew-Detection-in-Cherry-Leaves/inputs/mildew_dataset/cherry-leaves/powdery_mildew/synthetic_121.jpg\n",
      "Processing image number: 122\n",
      "Selected random image for transformation: powdery_mildew (702).JPG\n",
      "Saving transformed image to: /workspaces/Mildew-Detection-in-Cherry-Leaves/inputs/mildew_dataset/cherry-leaves/powdery_mildew/synthetic_122.jpg\n",
      "Processing image number: 123\n",
      "Selected random image for transformation: powdery_mildew (732).JPG\n",
      "Saving transformed image to: /workspaces/Mildew-Detection-in-Cherry-Leaves/inputs/mildew_dataset/cherry-leaves/powdery_mildew/synthetic_123.jpg\n",
      "Processing image number: 124\n",
      "Selected random image for transformation: powdery_mildew (1658).JPG\n",
      "Saving transformed image to: /workspaces/Mildew-Detection-in-Cherry-Leaves/inputs/mildew_dataset/cherry-leaves/powdery_mildew/synthetic_124.jpg\n",
      "Processing image number: 125\n",
      "Selected random image for transformation: powdery_mildew (1421).JPG\n",
      "Saving transformed image to: /workspaces/Mildew-Detection-in-Cherry-Leaves/inputs/mildew_dataset/cherry-leaves/powdery_mildew/synthetic_125.jpg\n",
      "Processing image number: 126\n",
      "Selected random image for transformation: powdery_mildew (885).JPG\n",
      "Saving transformed image to: /workspaces/Mildew-Detection-in-Cherry-Leaves/inputs/mildew_dataset/cherry-leaves/powdery_mildew/synthetic_126.jpg\n",
      "Processing image number: 127\n",
      "Selected random image for transformation: powdery_mildew (1349).JPG\n",
      "Saving transformed image to: /workspaces/Mildew-Detection-in-Cherry-Leaves/inputs/mildew_dataset/cherry-leaves/powdery_mildew/synthetic_127.jpg\n",
      "Processing image number: 128\n",
      "Selected random image for transformation: powdery_mildew (960).JPG\n",
      "Saving transformed image to: /workspaces/Mildew-Detection-in-Cherry-Leaves/inputs/mildew_dataset/cherry-leaves/powdery_mildew/synthetic_128.jpg\n",
      "Processing image number: 129\n",
      "Selected random image for transformation: powdery_mildew (1918).JPG\n",
      "Saving transformed image to: /workspaces/Mildew-Detection-in-Cherry-Leaves/inputs/mildew_dataset/cherry-leaves/powdery_mildew/synthetic_129.jpg\n",
      "Processing image number: 130\n",
      "Selected random image for transformation: powdery_mildew (867).JPG\n",
      "Saving transformed image to: /workspaces/Mildew-Detection-in-Cherry-Leaves/inputs/mildew_dataset/cherry-leaves/powdery_mildew/synthetic_130.jpg\n",
      "Processing image number: 131\n",
      "Selected random image for transformation: powdery_mildew (885).JPG\n",
      "Saving transformed image to: /workspaces/Mildew-Detection-in-Cherry-Leaves/inputs/mildew_dataset/cherry-leaves/powdery_mildew/synthetic_131.jpg\n",
      "Processing image number: 132\n",
      "Selected random image for transformation: powdery_mildew (302).JPG\n",
      "Saving transformed image to: /workspaces/Mildew-Detection-in-Cherry-Leaves/inputs/mildew_dataset/cherry-leaves/powdery_mildew/synthetic_132.jpg\n",
      "Processing image number: 133\n",
      "Selected random image for transformation: powdery_mildew (259).JPG\n",
      "Saving transformed image to: /workspaces/Mildew-Detection-in-Cherry-Leaves/inputs/mildew_dataset/cherry-leaves/powdery_mildew/synthetic_133.jpg\n",
      "Processing image number: 134\n",
      "Selected random image for transformation: powdery_mildew (438).JPG\n",
      "Saving transformed image to: /workspaces/Mildew-Detection-in-Cherry-Leaves/inputs/mildew_dataset/cherry-leaves/powdery_mildew/synthetic_134.jpg\n",
      "Processing image number: 135\n",
      "Selected random image for transformation: powdery_mildew (1906).JPG\n",
      "Saving transformed image to: /workspaces/Mildew-Detection-in-Cherry-Leaves/inputs/mildew_dataset/cherry-leaves/powdery_mildew/synthetic_135.jpg\n",
      "Processing image number: 136\n",
      "Selected random image for transformation: powdery_mildew (1393).JPG\n",
      "Saving transformed image to: /workspaces/Mildew-Detection-in-Cherry-Leaves/inputs/mildew_dataset/cherry-leaves/powdery_mildew/synthetic_136.jpg\n",
      "Processing image number: 137\n",
      "Selected random image for transformation: powdery_mildew (856).JPG\n",
      "Saving transformed image to: /workspaces/Mildew-Detection-in-Cherry-Leaves/inputs/mildew_dataset/cherry-leaves/powdery_mildew/synthetic_137.jpg\n",
      "Processing image number: 138\n",
      "Selected random image for transformation: powdery_mildew (962).JPG\n",
      "Saving transformed image to: /workspaces/Mildew-Detection-in-Cherry-Leaves/inputs/mildew_dataset/cherry-leaves/powdery_mildew/synthetic_138.jpg\n",
      "Processing image number: 139\n",
      "Selected random image for transformation: synthetic_49.jpg\n",
      "Saving transformed image to: /workspaces/Mildew-Detection-in-Cherry-Leaves/inputs/mildew_dataset/cherry-leaves/powdery_mildew/synthetic_139.jpg\n",
      "Processing image number: 140\n",
      "Selected random image for transformation: powdery_mildew (621).JPG\n",
      "Saving transformed image to: /workspaces/Mildew-Detection-in-Cherry-Leaves/inputs/mildew_dataset/cherry-leaves/powdery_mildew/synthetic_140.jpg\n",
      "Processing image number: 141\n",
      "Selected random image for transformation: powdery_mildew (1357).JPG\n",
      "Saving transformed image to: /workspaces/Mildew-Detection-in-Cherry-Leaves/inputs/mildew_dataset/cherry-leaves/powdery_mildew/synthetic_141.jpg\n",
      "Processing image number: 142\n",
      "Selected random image for transformation: powdery_mildew (183).JPG\n",
      "Saving transformed image to: /workspaces/Mildew-Detection-in-Cherry-Leaves/inputs/mildew_dataset/cherry-leaves/powdery_mildew/synthetic_142.jpg\n",
      "Processing image number: 143\n",
      "Selected random image for transformation: powdery_mildew (441).JPG\n",
      "Saving transformed image to: /workspaces/Mildew-Detection-in-Cherry-Leaves/inputs/mildew_dataset/cherry-leaves/powdery_mildew/synthetic_143.jpg\n",
      "Processing image number: 144\n",
      "Selected random image for transformation: powdery_mildew (83).JPG\n",
      "Saving transformed image to: /workspaces/Mildew-Detection-in-Cherry-Leaves/inputs/mildew_dataset/cherry-leaves/powdery_mildew/synthetic_144.jpg\n"
     ]
    }
   ],
   "source": [
    "from PIL import ImageEnhance\n",
    "\n",
    "for i in range(images_to_generate):\n",
    "    random_image = random.choice(os.listdir(folder_to_use))\n",
    "    transformed_image = random_transformation(os.path.join(folder_to_use, random_image))\n",
    "    save_path = f'{folder_to_use}/synthetic_{i}.jpg'\n",
    "    transformed_image.save(save_path)\n",
    "\n",
    "    print(f\"Processing image number: {i}\")\n",
    "    print(f\"Selected random image for transformation: {random_image}\")\n",
    "    print(f\"Saving transformed image to: {save_path}\")\n",
    "\n",
    "\n",
    "\n",
    "\n"
   ]
  },
  {
   "cell_type": "markdown",
   "metadata": {},
   "source": [
    "## 6. Scale down the sample images, to reduce cpu needed."
   ]
  },
  {
   "cell_type": "markdown",
   "metadata": {},
   "source": [
    "In this step, we will resize all images in both 'healthy' and 'mildew' folders to a smaller size. This reduces the computational load for future processing.\n"
   ]
  },
  {
   "cell_type": "markdown",
   "metadata": {},
   "source": [
    "### Code Cell - Import Required Libraries"
   ]
  },
  {
   "cell_type": "code",
   "execution_count": 28,
   "metadata": {},
   "outputs": [],
   "source": [
    "from PIL import Image\n",
    "import os\n",
    "import glob\n"
   ]
  },
  {
   "cell_type": "markdown",
   "metadata": {},
   "source": []
  },
  {
   "cell_type": "markdown",
   "metadata": {},
   "source": [
    "### Code Cell - Define Resizing Function:"
   ]
  },
  {
   "cell_type": "code",
   "execution_count": 37,
   "metadata": {},
   "outputs": [],
   "source": [
    "def resize_images(folder_path, output_size=(50, 50)):\n",
    "    for img_path in glob.glob(folder_path + '/*.jpg'):\n",
    "        img = Image.open(img_path)\n",
    "        img = img.resize(output_size, Image.Resampling.LANCZOS)\n",
    "        img.save(img_path)"
   ]
  },
  {
   "cell_type": "markdown",
   "metadata": {},
   "source": [
    "### Resize images in both folders"
   ]
  },
  {
   "cell_type": "code",
   "execution_count": 38,
   "metadata": {},
   "outputs": [],
   "source": [
    "from PIL import Image, ImageOps\n",
    "\n",
    "resize_images(healthy_folder_path)\n",
    "resize_images(mildew_folder_path)"
   ]
  },
  {
   "cell_type": "markdown",
   "metadata": {},
   "source": [
    "## 7. Splitting Data into Training, Validation, and Test Sets"
   ]
  },
  {
   "cell_type": "markdown",
   "metadata": {},
   "source": [
    "Now, we will divide our images into training, validation, and test sets. This helps in model training, tuning, and evaluation."
   ]
  },
  {
   "cell_type": "markdown",
   "metadata": {},
   "source": [
    "### Code Cell - Import Required Libraries:"
   ]
  },
  {
   "cell_type": "code",
   "execution_count": 48,
   "metadata": {},
   "outputs": [],
   "source": [
    "import os\n",
    "import shutil\n",
    "import random"
   ]
  },
  {
   "cell_type": "markdown",
   "metadata": {},
   "source": [
    "### Code Cell - Define Splitting Function:"
   ]
  },
  {
   "cell_type": "code",
   "execution_count": 49,
   "metadata": {},
   "outputs": [],
   "source": [
    "def split_images_into_sets(my_data_dir, train_set_ratio, validation_set_ratio, test_set_ratio):\n",
    "    if train_set_ratio + validation_set_ratio + test_set_ratio != 1.0:\n",
    "        print(\"Sum of ratios must equal 1.0\")\n",
    "        return\n",
    "\n",
    "    labels = os.listdir(my_data_dir)\n",
    "    for label in labels:\n",
    "\n",
    "        for set_type in ['train', 'validation', 'test']:\n",
    "            os.makedirs(os.path.join(my_data_dir, set_type, label), exist_ok=True)\n",
    "        \n",
    "        files = os.listdir(os.path.join(my_data_dir, label))\n",
    "        random.shuffle(files)\n",
    "\n",
    "        train_set_files_qty = int(len(files) * train_set_ratio)\n",
    "        validation_set_files_qty = int(len(files) * validation_set_ratio)\n",
    "\n",
    "        for i, file in enumerate(files):\n",
    "            src_path = os.path.join(my_data_dir, label, file)\n",
    "            if i < train_set_files_qty:\n",
    "                dest_path = os.path.join(my_data_dir, 'train', label, file)\n",
    "            elif i < train_set_files_qty + validation_set_files_qty:\n",
    "                dest_path = os.path.join(my_data_dir, 'validation', label, file)\n",
    "            else:\n",
    "                dest_path = os.path.join(my_data_dir, 'test', label, file)\n",
    "            \n",
    "            shutil.move(src_path, dest_path)"
   ]
  },
  {
   "cell_type": "markdown",
   "metadata": {},
   "source": [
    "Code Cell - Execute Function:"
   ]
  },
  {
   "cell_type": "code",
   "execution_count": 50,
   "metadata": {},
   "outputs": [],
   "source": [
    "split_images_into_sets(\n",
    "    my_data_dir='/workspaces/Mildew-Detection-in-Cherry-Leaves/inputs/mildew_dataset/cherry-leaves',\n",
    "    train_set_ratio=0.7,\n",
    "    validation_set_ratio=0.1,\n",
    "    test_set_ratio=0.2\n",
    ")\n"
   ]
  },
  {
   "cell_type": "markdown",
   "metadata": {},
   "source": [
    "## 8. Image Labeling for Training"
   ]
  },
  {
   "cell_type": "markdown",
   "metadata": {},
   "source": [
    "Labeling Process Overview\n",
    "In this step, we'll label the cherry leaf images as 'healthy' or 'powdery mildew' based on their directory names. This labeling is crucial for the model to learn and differentiate between these two categories during the training process. The images are already segregated into distinct folders, simplifying this process. We'll ensure each image is associated with the correct label, forming the foundation for our CNN model training."
   ]
  },
  {
   "cell_type": "markdown",
   "metadata": {},
   "source": [
    "### Import libraries"
   ]
  },
  {
   "cell_type": "code",
   "execution_count": 8,
   "metadata": {},
   "outputs": [],
   "source": [
    "from keras.preprocessing.image import ImageDataGenerator\n"
   ]
  },
  {
   "cell_type": "markdown",
   "metadata": {},
   "source": [
    "### Define Parameters:\n",
    "\n"
   ]
  },
  {
   "cell_type": "code",
   "execution_count": 9,
   "metadata": {},
   "outputs": [
    {
     "name": "stdout",
     "output_type": "stream",
     "text": [
      "Current working directory: /workspaces/Mildew-Detection-in-Cherry-Leaves\n"
     ]
    }
   ],
   "source": [
    "import os\n",
    "os.chdir(\"/workspaces/Mildew-Detection-in-Cherry-Leaves\")\n",
    "print(\"Current working directory:\", os.getcwd())\n",
    "train_dir = 'inputs/mildew_dataset/cherry-leaves/train'\n",
    "validation_dir = 'inputs/mildew_dataset/cherry-leaves/validation'\n",
    "test_dir = 'inputs/mildew_dataset/cherry-leaves/test'\n",
    "\n",
    "img_width, img_height = 50, 50  # Adjusted image size\n",
    "batch_size = 20  # Adjusted batch size"
   ]
  },
  {
   "cell_type": "markdown",
   "metadata": {},
   "source": [
    "### Create ImageDataGenerators:"
   ]
  },
  {
   "cell_type": "code",
   "execution_count": 10,
   "metadata": {},
   "outputs": [],
   "source": [
    "train_datagen = ImageDataGenerator(rescale=1./255)\n",
    "validation_datagen = ImageDataGenerator(rescale=1./255)\n",
    "test_datagen = ImageDataGenerator(rescale=1./255)\n",
    "\n"
   ]
  },
  {
   "cell_type": "markdown",
   "metadata": {},
   "source": [
    "### Flow Images from Directories:"
   ]
  },
  {
   "cell_type": "code",
   "execution_count": 11,
   "metadata": {},
   "outputs": [
    {
     "name": "stdout",
     "output_type": "stream",
     "text": [
      "Found 3042 images belonging to 2 classes.\n",
      "Found 434 images belonging to 2 classes.\n",
      "Found 870 images belonging to 2 classes.\n"
     ]
    }
   ],
   "source": [
    "train_generator = train_datagen.flow_from_directory( train_dir, target_size=(img_width, img_height), batch_size=batch_size, class_mode='binary')\n",
    "\n",
    "validation_generator = validation_datagen.flow_from_directory( validation_dir, target_size=(img_width, img_height), batch_size=batch_size, class_mode='binary')\n",
    "\n",
    "test_generator = test_datagen.flow_from_directory( test_dir, target_size=(img_width, img_height), batch_size=batch_size, class_mode='binary')"
   ]
  },
  {
   "cell_type": "code",
   "execution_count": 12,
   "metadata": {},
   "outputs": [
    {
     "name": "stdout",
     "output_type": "stream",
     "text": [
      "Current working directory: /workspaces/Mildew-Detection-in-Cherry-Leaves\n"
     ]
    }
   ],
   "source": [
    "import os\n",
    "\n",
    "os.chdir(\"/workspaces/Mildew-Detection-in-Cherry-Leaves\")\n",
    "print(\"Current working directory:\", os.getcwd())"
   ]
  },
  {
   "cell_type": "code",
   "execution_count": 13,
   "metadata": {},
   "outputs": [
    {
     "name": "stdout",
     "output_type": "stream",
     "text": [
      "Train Set Class Indices: {'healthy': 0, 'powdery_mildew': 1}\n",
      "Validation Set Class Indices: {'healthy': 0, 'powdery_mildew': 1}\n",
      "Test Set Class Indices: {'healthy': 0, 'powdery_mildew': 1}\n",
      "Image batch shape: (20, 50, 50, 3)\n",
      "Label batch shape: (20,)\n"
     ]
    }
   ],
   "source": [
    "# Display class indices\n",
    "print(\"Train Set Class Indices:\", train_generator.class_indices)\n",
    "print(\"Validation Set Class Indices:\", validation_generator.class_indices)\n",
    "print(\"Test Set Class Indices:\", test_generator.class_indices)\n",
    "\n",
    "# Optional: Display some image batches with their labels\n",
    "for image_batch, label_batch in train_generator:\n",
    "    print(\"Image batch shape:\", image_batch.shape)\n",
    "    print(\"Label batch shape:\", label_batch.shape)\n",
    "    break  # Display only the first batch\n"
   ]
  },
  {
   "cell_type": "code",
   "execution_count": null,
   "metadata": {},
   "outputs": [],
   "source": []
  }
 ],
 "metadata": {
  "kernelspec": {
   "display_name": "Python 3 (ipykernel)",
   "language": "python",
   "name": "python3"
  },
  "language_info": {
   "codemirror_mode": {
    "name": "ipython",
    "version": 3
   },
   "file_extension": ".py",
   "mimetype": "text/x-python",
   "name": "python",
   "nbconvert_exporter": "python",
   "pygments_lexer": "ipython3",
   "version": "3.8.12"
  }
 },
 "nbformat": 4,
 "nbformat_minor": 4
}
