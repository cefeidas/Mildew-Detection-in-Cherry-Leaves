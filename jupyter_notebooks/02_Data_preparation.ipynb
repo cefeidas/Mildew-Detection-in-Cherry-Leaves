{
 "cells": [
  {
   "cell_type": "markdown",
   "metadata": {},
   "source": [
    "# **Preparing data to train the models**"
   ]
  },
  {
   "cell_type": "markdown",
   "metadata": {},
   "source": [
    "Objectives: Preprocess the cherry leaves dataset for model training.\n",
    "\n",
    "Inputs: Cherry leaves dataset downloaded from Kaggle.\n",
    "\n",
    "Outputs: Preprocessed dataset ready for model training."
   ]
  },
  {
   "cell_type": "markdown",
   "metadata": {},
   "source": [
    "## Important Disclaimer"
   ]
  },
  {
   "cell_type": "markdown",
   "metadata": {},
   "source": [
    "Please follow the order of the cells in this Jupyter Notebook strictly. Each cell is designed to be executed in sequence to ensure the correct processing of data and functionality of the code. Running the cells out of order or skipping steps may result in errors or unintended consequences. It is highly recommended to execute each cell consecutively for optimal results and to avoid any potential issues."
   ]
  },
  {
   "cell_type": "markdown",
   "metadata": {},
   "source": [
    "# Steps for preparing the data:\n"
   ]
  },
  {
   "cell_type": "markdown",
   "metadata": {},
   "source": [
    "## 1. Install prerequisites"
   ]
  },
  {
   "cell_type": "code",
   "execution_count": 1,
   "metadata": {},
   "outputs": [
    {
     "name": "stdout",
     "output_type": "stream",
     "text": [
      "Requirement already satisfied: zipfile36 in /workspace/.pyenv_mirror/fakeroot/versions/3.9.1/lib/python3.9/site-packages (0.1.3)\n",
      "\u001b[33mWARNING: You are using pip version 20.2.3; however, version 23.3.2 is available.\n",
      "You should consider upgrading via the '/workspace/.pyenv_mirror/fakeroot/versions/3.9.1/bin/python3.9 -m pip install --upgrade pip' command.\u001b[0m\n",
      "Note: you may need to restart the kernel to use updated packages.\n",
      "Collecting os-sys\n",
      "  Using cached os_sys-2.1.4-py3-none-any.whl (15.6 MB)\n",
      "Collecting python-dateutil<2.8,>=2.7\n",
      "  Downloading python_dateutil-2.7.5-py2.py3-none-any.whl (225 kB)\n",
      "\u001b[K     |████████████████████████████████| 225 kB 1.6 MB/s eta 0:00:01\n",
      "\u001b[31mERROR: Could not find a version that satisfies the requirement text-editor (from os-sys) (from versions: none)\u001b[0m\n",
      "\u001b[31mERROR: No matching distribution found for text-editor (from os-sys)\u001b[0m\n",
      "\u001b[33mWARNING: You are using pip version 20.2.3; however, version 23.3.2 is available.\n",
      "You should consider upgrading via the '/workspace/.pyenv_mirror/fakeroot/versions/3.9.1/bin/python3.9 -m pip install --upgrade pip' command.\u001b[0m\n",
      "\u001b[?25hNote: you may need to restart the kernel to use updated packages.\n",
      "Requirement already satisfied: Pillow in /workspace/.pyenv_mirror/fakeroot/versions/3.9.1/lib/python3.9/site-packages (10.1.0)\n",
      "\u001b[33mWARNING: You are using pip version 20.2.3; however, version 23.3.2 is available.\n",
      "You should consider upgrading via the '/workspace/.pyenv_mirror/fakeroot/versions/3.9.1/bin/python3.9 -m pip install --upgrade pip' command.\u001b[0m\n",
      "Note: you may need to restart the kernel to use updated packages.\n",
      "Requirement already satisfied: random2 in /workspace/.pyenv_mirror/fakeroot/versions/3.9.1/lib/python3.9/site-packages (1.0.2)\n",
      "\u001b[33mWARNING: You are using pip version 20.2.3; however, version 23.3.2 is available.\n",
      "You should consider upgrading via the '/workspace/.pyenv_mirror/fakeroot/versions/3.9.1/bin/python3.9 -m pip install --upgrade pip' command.\u001b[0m\n",
      "Note: you may need to restart the kernel to use updated packages.\n",
      "Requirement already satisfied: glob2 in /workspace/.pyenv_mirror/fakeroot/versions/3.9.1/lib/python3.9/site-packages (0.7)\n",
      "\u001b[33mWARNING: You are using pip version 20.2.3; however, version 23.3.2 is available.\n",
      "You should consider upgrading via the '/workspace/.pyenv_mirror/fakeroot/versions/3.9.1/bin/python3.9 -m pip install --upgrade pip' command.\u001b[0m\n",
      "Note: you may need to restart the kernel to use updated packages.\n",
      "Requirement already satisfied: keras in /workspace/.pyenv_mirror/user/current/lib/python3.9/site-packages (2.8.0)\n",
      "\u001b[33mWARNING: You are using pip version 20.2.3; however, version 23.3.2 is available.\n",
      "You should consider upgrading via the '/workspace/.pyenv_mirror/fakeroot/versions/3.9.1/bin/python3.9 -m pip install --upgrade pip' command.\u001b[0m\n",
      "Note: you may need to restart the kernel to use updated packages.\n",
      "prerequisites installed successfully\n"
     ]
    }
   ],
   "source": [
    "%pip install zipfile36\n",
    "%pip install os-sys\n",
    "%pip install Pillow\n",
    "%pip install random2\n",
    "%pip install glob2\n",
    "%pip install keras\n",
    "print(\"prerequisites installed successfully\")"
   ]
  },
  {
   "cell_type": "markdown",
   "metadata": {},
   "source": [
    "**Important Note**: After installing the required packages, you may need to restart the Jupyter Notebook kernel for the changes to take effect. This ensures that the newly installed libraries are properly loaded. You can restart the kernel by selecting \"Kernel\" > \"Restart\" in the Jupyter Notebook menu."
   ]
  },
  {
   "cell_type": "markdown",
   "metadata": {},
   "source": [
    "## 2. Import libraries"
   ]
  },
  {
   "cell_type": "code",
   "execution_count": 2,
   "metadata": {},
   "outputs": [
    {
     "name": "stderr",
     "output_type": "stream",
     "text": [
      "2023-12-20 10:02:45.687369: W tensorflow/stream_executor/platform/default/dso_loader.cc:64] Could not load dynamic library 'libcudart.so.11.0'; dlerror: libcudart.so.11.0: cannot open shared object file: No such file or directory\n",
      "2023-12-20 10:02:45.687405: I tensorflow/stream_executor/cuda/cudart_stub.cc:29] Ignore above cudart dlerror if you do not have a GPU set up on your machine.\n"
     ]
    },
    {
     "ename": "TypeError",
     "evalue": "Descriptors cannot be created directly.\nIf this call came from a _pb2.py file, your generated code is out of date and must be regenerated with protoc >= 3.19.0.\nIf you cannot immediately regenerate your protos, some other possible workarounds are:\n 1. Downgrade the protobuf package to 3.20.x or lower.\n 2. Set PROTOCOL_BUFFERS_PYTHON_IMPLEMENTATION=python (but this will use pure-Python parsing and will be much slower).\n\nMore information: https://developers.google.com/protocol-buffers/docs/news/2022-05-06#python-updates",
     "output_type": "error",
     "traceback": [
      "\u001b[0;31m---------------------------------------------------------------------------\u001b[0m",
      "\u001b[0;31mTypeError\u001b[0m                                 Traceback (most recent call last)",
      "Cell \u001b[0;32mIn[2], line 7\u001b[0m\n\u001b[1;32m      5\u001b[0m \u001b[38;5;28;01mimport\u001b[39;00m \u001b[38;5;21;01mrandom\u001b[39;00m\n\u001b[1;32m      6\u001b[0m \u001b[38;5;28;01mimport\u001b[39;00m \u001b[38;5;21;01mglob\u001b[39;00m\n\u001b[0;32m----> 7\u001b[0m \u001b[38;5;28;01mfrom\u001b[39;00m \u001b[38;5;21;01mkeras\u001b[39;00m\u001b[38;5;21;01m.\u001b[39;00m\u001b[38;5;21;01mpreprocessing\u001b[39;00m\u001b[38;5;21;01m.\u001b[39;00m\u001b[38;5;21;01mimage\u001b[39;00m \u001b[38;5;28;01mimport\u001b[39;00m ImageDataGenerator\n\u001b[1;32m      8\u001b[0m \u001b[38;5;28;01mimport\u001b[39;00m \u001b[38;5;21;01mmatplotlib\u001b[39;00m\u001b[38;5;21;01m.\u001b[39;00m\u001b[38;5;21;01mpyplot\u001b[39;00m \u001b[38;5;28;01mas\u001b[39;00m \u001b[38;5;21;01mplt\u001b[39;00m\n\u001b[1;32m      9\u001b[0m \u001b[38;5;28mprint\u001b[39m(\u001b[38;5;124m\"\u001b[39m\u001b[38;5;124mLibraries imported successfully\u001b[39m\u001b[38;5;124m\"\u001b[39m)\n",
      "File \u001b[0;32m/workspace/.pyenv_mirror/user/current/lib/python3.9/site-packages/keras/__init__.py:21\u001b[0m\n\u001b[1;32m     15\u001b[0m \u001b[38;5;124;03m\"\"\"Implementation of the Keras API, the high-level API of TensorFlow.\u001b[39;00m\n\u001b[1;32m     16\u001b[0m \n\u001b[1;32m     17\u001b[0m \u001b[38;5;124;03mDetailed documentation and user guides are available at\u001b[39;00m\n\u001b[1;32m     18\u001b[0m \u001b[38;5;124;03m[keras.io](https://keras.io).\u001b[39;00m\n\u001b[1;32m     19\u001b[0m \u001b[38;5;124;03m\"\"\"\u001b[39;00m\n\u001b[1;32m     20\u001b[0m \u001b[38;5;66;03m# pylint: disable=unused-import\u001b[39;00m\n\u001b[0;32m---> 21\u001b[0m \u001b[38;5;28;01mfrom\u001b[39;00m \u001b[38;5;21;01mtensorflow\u001b[39;00m\u001b[38;5;21;01m.\u001b[39;00m\u001b[38;5;21;01mpython\u001b[39;00m \u001b[38;5;28;01mimport\u001b[39;00m tf2\n\u001b[1;32m     22\u001b[0m \u001b[38;5;28;01mfrom\u001b[39;00m \u001b[38;5;21;01mkeras\u001b[39;00m \u001b[38;5;28;01mimport\u001b[39;00m distribute\n\u001b[1;32m     24\u001b[0m \u001b[38;5;66;03m# See b/110718070#comment18 for more details about this import.\u001b[39;00m\n",
      "File \u001b[0;32m/workspace/.pyenv_mirror/user/current/lib/python3.9/site-packages/tensorflow/__init__.py:37\u001b[0m\n\u001b[1;32m     34\u001b[0m \u001b[38;5;28;01mimport\u001b[39;00m \u001b[38;5;21;01msys\u001b[39;00m \u001b[38;5;28;01mas\u001b[39;00m \u001b[38;5;21;01m_sys\u001b[39;00m\n\u001b[1;32m     35\u001b[0m \u001b[38;5;28;01mimport\u001b[39;00m \u001b[38;5;21;01mtyping\u001b[39;00m \u001b[38;5;28;01mas\u001b[39;00m \u001b[38;5;21;01m_typing\u001b[39;00m\n\u001b[0;32m---> 37\u001b[0m \u001b[38;5;28;01mfrom\u001b[39;00m \u001b[38;5;21;01mtensorflow\u001b[39;00m\u001b[38;5;21;01m.\u001b[39;00m\u001b[38;5;21;01mpython\u001b[39;00m\u001b[38;5;21;01m.\u001b[39;00m\u001b[38;5;21;01mtools\u001b[39;00m \u001b[38;5;28;01mimport\u001b[39;00m module_util \u001b[38;5;28;01mas\u001b[39;00m _module_util\n\u001b[1;32m     38\u001b[0m \u001b[38;5;28;01mfrom\u001b[39;00m \u001b[38;5;21;01mtensorflow\u001b[39;00m\u001b[38;5;21;01m.\u001b[39;00m\u001b[38;5;21;01mpython\u001b[39;00m\u001b[38;5;21;01m.\u001b[39;00m\u001b[38;5;21;01mutil\u001b[39;00m\u001b[38;5;21;01m.\u001b[39;00m\u001b[38;5;21;01mlazy_loader\u001b[39;00m \u001b[38;5;28;01mimport\u001b[39;00m LazyLoader \u001b[38;5;28;01mas\u001b[39;00m _LazyLoader\n\u001b[1;32m     40\u001b[0m \u001b[38;5;66;03m# Make sure code inside the TensorFlow codebase can use tf2.enabled() at import.\u001b[39;00m\n",
      "File \u001b[0;32m/workspace/.pyenv_mirror/user/current/lib/python3.9/site-packages/tensorflow/python/__init__.py:37\u001b[0m\n\u001b[1;32m     29\u001b[0m \u001b[38;5;66;03m# We aim to keep this file minimal and ideally remove completely.\u001b[39;00m\n\u001b[1;32m     30\u001b[0m \u001b[38;5;66;03m# If you are adding a new file with @tf_export decorators,\u001b[39;00m\n\u001b[1;32m     31\u001b[0m \u001b[38;5;66;03m# import it in modules_with_exports.py instead.\u001b[39;00m\n\u001b[1;32m     32\u001b[0m \n\u001b[1;32m     33\u001b[0m \u001b[38;5;66;03m# go/tf-wildcard-import\u001b[39;00m\n\u001b[1;32m     34\u001b[0m \u001b[38;5;66;03m# pylint: disable=wildcard-import,g-bad-import-order,g-import-not-at-top\u001b[39;00m\n\u001b[1;32m     36\u001b[0m \u001b[38;5;28;01mfrom\u001b[39;00m \u001b[38;5;21;01mtensorflow\u001b[39;00m\u001b[38;5;21;01m.\u001b[39;00m\u001b[38;5;21;01mpython\u001b[39;00m \u001b[38;5;28;01mimport\u001b[39;00m pywrap_tensorflow \u001b[38;5;28;01mas\u001b[39;00m _pywrap_tensorflow\n\u001b[0;32m---> 37\u001b[0m \u001b[38;5;28;01mfrom\u001b[39;00m \u001b[38;5;21;01mtensorflow\u001b[39;00m\u001b[38;5;21;01m.\u001b[39;00m\u001b[38;5;21;01mpython\u001b[39;00m\u001b[38;5;21;01m.\u001b[39;00m\u001b[38;5;21;01meager\u001b[39;00m \u001b[38;5;28;01mimport\u001b[39;00m context\n\u001b[1;32m     39\u001b[0m \u001b[38;5;66;03m# pylint: enable=wildcard-import\u001b[39;00m\n\u001b[1;32m     40\u001b[0m \n\u001b[1;32m     41\u001b[0m \u001b[38;5;66;03m# Bring in subpackages.\u001b[39;00m\n\u001b[1;32m     42\u001b[0m \u001b[38;5;28;01mfrom\u001b[39;00m \u001b[38;5;21;01mtensorflow\u001b[39;00m\u001b[38;5;21;01m.\u001b[39;00m\u001b[38;5;21;01mpython\u001b[39;00m \u001b[38;5;28;01mimport\u001b[39;00m data\n",
      "File \u001b[0;32m/workspace/.pyenv_mirror/user/current/lib/python3.9/site-packages/tensorflow/python/eager/context.py:29\u001b[0m\n\u001b[1;32m     26\u001b[0m \u001b[38;5;28;01mimport\u001b[39;00m \u001b[38;5;21;01mnumpy\u001b[39;00m \u001b[38;5;28;01mas\u001b[39;00m \u001b[38;5;21;01mnp\u001b[39;00m\n\u001b[1;32m     27\u001b[0m \u001b[38;5;28;01mimport\u001b[39;00m \u001b[38;5;21;01msix\u001b[39;00m\n\u001b[0;32m---> 29\u001b[0m \u001b[38;5;28;01mfrom\u001b[39;00m \u001b[38;5;21;01mtensorflow\u001b[39;00m\u001b[38;5;21;01m.\u001b[39;00m\u001b[38;5;21;01mcore\u001b[39;00m\u001b[38;5;21;01m.\u001b[39;00m\u001b[38;5;21;01mframework\u001b[39;00m \u001b[38;5;28;01mimport\u001b[39;00m function_pb2\n\u001b[1;32m     30\u001b[0m \u001b[38;5;28;01mfrom\u001b[39;00m \u001b[38;5;21;01mtensorflow\u001b[39;00m\u001b[38;5;21;01m.\u001b[39;00m\u001b[38;5;21;01mcore\u001b[39;00m\u001b[38;5;21;01m.\u001b[39;00m\u001b[38;5;21;01mprotobuf\u001b[39;00m \u001b[38;5;28;01mimport\u001b[39;00m config_pb2\n\u001b[1;32m     31\u001b[0m \u001b[38;5;28;01mfrom\u001b[39;00m \u001b[38;5;21;01mtensorflow\u001b[39;00m\u001b[38;5;21;01m.\u001b[39;00m\u001b[38;5;21;01mcore\u001b[39;00m\u001b[38;5;21;01m.\u001b[39;00m\u001b[38;5;21;01mprotobuf\u001b[39;00m \u001b[38;5;28;01mimport\u001b[39;00m coordination_config_pb2\n",
      "File \u001b[0;32m/workspace/.pyenv_mirror/user/current/lib/python3.9/site-packages/tensorflow/core/framework/function_pb2.py:16\u001b[0m\n\u001b[1;32m     11\u001b[0m \u001b[38;5;66;03m# @@protoc_insertion_point(imports)\u001b[39;00m\n\u001b[1;32m     13\u001b[0m _sym_db \u001b[38;5;241m=\u001b[39m _symbol_database\u001b[38;5;241m.\u001b[39mDefault()\n\u001b[0;32m---> 16\u001b[0m \u001b[38;5;28;01mfrom\u001b[39;00m \u001b[38;5;21;01mtensorflow\u001b[39;00m\u001b[38;5;21;01m.\u001b[39;00m\u001b[38;5;21;01mcore\u001b[39;00m\u001b[38;5;21;01m.\u001b[39;00m\u001b[38;5;21;01mframework\u001b[39;00m \u001b[38;5;28;01mimport\u001b[39;00m attr_value_pb2 \u001b[38;5;28;01mas\u001b[39;00m tensorflow_dot_core_dot_framework_dot_attr__value__pb2\n\u001b[1;32m     17\u001b[0m \u001b[38;5;28;01mfrom\u001b[39;00m \u001b[38;5;21;01mtensorflow\u001b[39;00m\u001b[38;5;21;01m.\u001b[39;00m\u001b[38;5;21;01mcore\u001b[39;00m\u001b[38;5;21;01m.\u001b[39;00m\u001b[38;5;21;01mframework\u001b[39;00m \u001b[38;5;28;01mimport\u001b[39;00m node_def_pb2 \u001b[38;5;28;01mas\u001b[39;00m tensorflow_dot_core_dot_framework_dot_node__def__pb2\n\u001b[1;32m     18\u001b[0m \u001b[38;5;28;01mfrom\u001b[39;00m \u001b[38;5;21;01mtensorflow\u001b[39;00m\u001b[38;5;21;01m.\u001b[39;00m\u001b[38;5;21;01mcore\u001b[39;00m\u001b[38;5;21;01m.\u001b[39;00m\u001b[38;5;21;01mframework\u001b[39;00m \u001b[38;5;28;01mimport\u001b[39;00m op_def_pb2 \u001b[38;5;28;01mas\u001b[39;00m tensorflow_dot_core_dot_framework_dot_op__def__pb2\n",
      "File \u001b[0;32m/workspace/.pyenv_mirror/user/current/lib/python3.9/site-packages/tensorflow/core/framework/attr_value_pb2.py:16\u001b[0m\n\u001b[1;32m     11\u001b[0m \u001b[38;5;66;03m# @@protoc_insertion_point(imports)\u001b[39;00m\n\u001b[1;32m     13\u001b[0m _sym_db \u001b[38;5;241m=\u001b[39m _symbol_database\u001b[38;5;241m.\u001b[39mDefault()\n\u001b[0;32m---> 16\u001b[0m \u001b[38;5;28;01mfrom\u001b[39;00m \u001b[38;5;21;01mtensorflow\u001b[39;00m\u001b[38;5;21;01m.\u001b[39;00m\u001b[38;5;21;01mcore\u001b[39;00m\u001b[38;5;21;01m.\u001b[39;00m\u001b[38;5;21;01mframework\u001b[39;00m \u001b[38;5;28;01mimport\u001b[39;00m tensor_pb2 \u001b[38;5;28;01mas\u001b[39;00m tensorflow_dot_core_dot_framework_dot_tensor__pb2\n\u001b[1;32m     17\u001b[0m \u001b[38;5;28;01mfrom\u001b[39;00m \u001b[38;5;21;01mtensorflow\u001b[39;00m\u001b[38;5;21;01m.\u001b[39;00m\u001b[38;5;21;01mcore\u001b[39;00m\u001b[38;5;21;01m.\u001b[39;00m\u001b[38;5;21;01mframework\u001b[39;00m \u001b[38;5;28;01mimport\u001b[39;00m tensor_shape_pb2 \u001b[38;5;28;01mas\u001b[39;00m tensorflow_dot_core_dot_framework_dot_tensor__shape__pb2\n\u001b[1;32m     18\u001b[0m \u001b[38;5;28;01mfrom\u001b[39;00m \u001b[38;5;21;01mtensorflow\u001b[39;00m\u001b[38;5;21;01m.\u001b[39;00m\u001b[38;5;21;01mcore\u001b[39;00m\u001b[38;5;21;01m.\u001b[39;00m\u001b[38;5;21;01mframework\u001b[39;00m \u001b[38;5;28;01mimport\u001b[39;00m types_pb2 \u001b[38;5;28;01mas\u001b[39;00m tensorflow_dot_core_dot_framework_dot_types__pb2\n",
      "File \u001b[0;32m/workspace/.pyenv_mirror/user/current/lib/python3.9/site-packages/tensorflow/core/framework/tensor_pb2.py:16\u001b[0m\n\u001b[1;32m     11\u001b[0m \u001b[38;5;66;03m# @@protoc_insertion_point(imports)\u001b[39;00m\n\u001b[1;32m     13\u001b[0m _sym_db \u001b[38;5;241m=\u001b[39m _symbol_database\u001b[38;5;241m.\u001b[39mDefault()\n\u001b[0;32m---> 16\u001b[0m \u001b[38;5;28;01mfrom\u001b[39;00m \u001b[38;5;21;01mtensorflow\u001b[39;00m\u001b[38;5;21;01m.\u001b[39;00m\u001b[38;5;21;01mcore\u001b[39;00m\u001b[38;5;21;01m.\u001b[39;00m\u001b[38;5;21;01mframework\u001b[39;00m \u001b[38;5;28;01mimport\u001b[39;00m resource_handle_pb2 \u001b[38;5;28;01mas\u001b[39;00m tensorflow_dot_core_dot_framework_dot_resource__handle__pb2\n\u001b[1;32m     17\u001b[0m \u001b[38;5;28;01mfrom\u001b[39;00m \u001b[38;5;21;01mtensorflow\u001b[39;00m\u001b[38;5;21;01m.\u001b[39;00m\u001b[38;5;21;01mcore\u001b[39;00m\u001b[38;5;21;01m.\u001b[39;00m\u001b[38;5;21;01mframework\u001b[39;00m \u001b[38;5;28;01mimport\u001b[39;00m tensor_shape_pb2 \u001b[38;5;28;01mas\u001b[39;00m tensorflow_dot_core_dot_framework_dot_tensor__shape__pb2\n\u001b[1;32m     18\u001b[0m \u001b[38;5;28;01mfrom\u001b[39;00m \u001b[38;5;21;01mtensorflow\u001b[39;00m\u001b[38;5;21;01m.\u001b[39;00m\u001b[38;5;21;01mcore\u001b[39;00m\u001b[38;5;21;01m.\u001b[39;00m\u001b[38;5;21;01mframework\u001b[39;00m \u001b[38;5;28;01mimport\u001b[39;00m types_pb2 \u001b[38;5;28;01mas\u001b[39;00m tensorflow_dot_core_dot_framework_dot_types__pb2\n",
      "File \u001b[0;32m/workspace/.pyenv_mirror/user/current/lib/python3.9/site-packages/tensorflow/core/framework/resource_handle_pb2.py:16\u001b[0m\n\u001b[1;32m     11\u001b[0m \u001b[38;5;66;03m# @@protoc_insertion_point(imports)\u001b[39;00m\n\u001b[1;32m     13\u001b[0m _sym_db \u001b[38;5;241m=\u001b[39m _symbol_database\u001b[38;5;241m.\u001b[39mDefault()\n\u001b[0;32m---> 16\u001b[0m \u001b[38;5;28;01mfrom\u001b[39;00m \u001b[38;5;21;01mtensorflow\u001b[39;00m\u001b[38;5;21;01m.\u001b[39;00m\u001b[38;5;21;01mcore\u001b[39;00m\u001b[38;5;21;01m.\u001b[39;00m\u001b[38;5;21;01mframework\u001b[39;00m \u001b[38;5;28;01mimport\u001b[39;00m tensor_shape_pb2 \u001b[38;5;28;01mas\u001b[39;00m tensorflow_dot_core_dot_framework_dot_tensor__shape__pb2\n\u001b[1;32m     17\u001b[0m \u001b[38;5;28;01mfrom\u001b[39;00m \u001b[38;5;21;01mtensorflow\u001b[39;00m\u001b[38;5;21;01m.\u001b[39;00m\u001b[38;5;21;01mcore\u001b[39;00m\u001b[38;5;21;01m.\u001b[39;00m\u001b[38;5;21;01mframework\u001b[39;00m \u001b[38;5;28;01mimport\u001b[39;00m types_pb2 \u001b[38;5;28;01mas\u001b[39;00m tensorflow_dot_core_dot_framework_dot_types__pb2\n\u001b[1;32m     20\u001b[0m DESCRIPTOR \u001b[38;5;241m=\u001b[39m _descriptor\u001b[38;5;241m.\u001b[39mFileDescriptor(\n\u001b[1;32m     21\u001b[0m   name\u001b[38;5;241m=\u001b[39m\u001b[38;5;124m'\u001b[39m\u001b[38;5;124mtensorflow/core/framework/resource_handle.proto\u001b[39m\u001b[38;5;124m'\u001b[39m,\n\u001b[1;32m     22\u001b[0m   package\u001b[38;5;241m=\u001b[39m\u001b[38;5;124m'\u001b[39m\u001b[38;5;124mtensorflow\u001b[39m\u001b[38;5;124m'\u001b[39m,\n\u001b[0;32m   (...)\u001b[0m\n\u001b[1;32m     26\u001b[0m   ,\n\u001b[1;32m     27\u001b[0m   dependencies\u001b[38;5;241m=\u001b[39m[tensorflow_dot_core_dot_framework_dot_tensor__shape__pb2\u001b[38;5;241m.\u001b[39mDESCRIPTOR,tensorflow_dot_core_dot_framework_dot_types__pb2\u001b[38;5;241m.\u001b[39mDESCRIPTOR,])\n",
      "File \u001b[0;32m/workspace/.pyenv_mirror/user/current/lib/python3.9/site-packages/tensorflow/core/framework/tensor_shape_pb2.py:36\u001b[0m\n\u001b[1;32m     13\u001b[0m _sym_db \u001b[38;5;241m=\u001b[39m _symbol_database\u001b[38;5;241m.\u001b[39mDefault()\n\u001b[1;32m     18\u001b[0m DESCRIPTOR \u001b[38;5;241m=\u001b[39m _descriptor\u001b[38;5;241m.\u001b[39mFileDescriptor(\n\u001b[1;32m     19\u001b[0m   name\u001b[38;5;241m=\u001b[39m\u001b[38;5;124m'\u001b[39m\u001b[38;5;124mtensorflow/core/framework/tensor_shape.proto\u001b[39m\u001b[38;5;124m'\u001b[39m,\n\u001b[1;32m     20\u001b[0m   package\u001b[38;5;241m=\u001b[39m\u001b[38;5;124m'\u001b[39m\u001b[38;5;124mtensorflow\u001b[39m\u001b[38;5;124m'\u001b[39m,\n\u001b[0;32m   (...)\u001b[0m\n\u001b[1;32m     23\u001b[0m   serialized_pb\u001b[38;5;241m=\u001b[39m_b(\u001b[38;5;124m'\u001b[39m\u001b[38;5;130;01m\\n\u001b[39;00m\u001b[38;5;124m,tensorflow/core/framework/tensor_shape.proto\u001b[39m\u001b[38;5;130;01m\\x12\u001b[39;00m\u001b[38;5;130;01m\\n\u001b[39;00m\u001b[38;5;124mtensorflow\u001b[39m\u001b[38;5;130;01m\\\"\u001b[39;00m\u001b[38;5;124mz\u001b[39m\u001b[38;5;130;01m\\n\u001b[39;00m\u001b[38;5;130;01m\\x10\u001b[39;00m\u001b[38;5;124mTensorShapeProto\u001b[39m\u001b[38;5;130;01m\\x12\u001b[39;00m\u001b[38;5;124m-\u001b[39m\u001b[38;5;130;01m\\n\u001b[39;00m\u001b[38;5;130;01m\\x03\u001b[39;00m\u001b[38;5;130;01m\\x64\u001b[39;00m\u001b[38;5;124mim\u001b[39m\u001b[38;5;130;01m\\x18\u001b[39;00m\u001b[38;5;130;01m\\x02\u001b[39;00m\u001b[38;5;124m \u001b[39m\u001b[38;5;130;01m\\x03\u001b[39;00m\u001b[38;5;124m(\u001b[39m\u001b[38;5;130;01m\\x0b\u001b[39;00m\u001b[38;5;130;01m\\x32\u001b[39;00m\u001b[38;5;124m .tensorflow.TensorShapeProto.Dim\u001b[39m\u001b[38;5;130;01m\\x12\u001b[39;00m\u001b[38;5;130;01m\\x14\u001b[39;00m\u001b[38;5;130;01m\\n\u001b[39;00m\u001b[38;5;130;01m\\x0c\u001b[39;00m\u001b[38;5;124munknown_rank\u001b[39m\u001b[38;5;130;01m\\x18\u001b[39;00m\u001b[38;5;130;01m\\x03\u001b[39;00m\u001b[38;5;124m \u001b[39m\u001b[38;5;130;01m\\x01\u001b[39;00m\u001b[38;5;124m(\u001b[39m\u001b[38;5;130;01m\\x08\u001b[39;00m\u001b[38;5;130;01m\\x1a\u001b[39;00m\u001b[38;5;124m!\u001b[39m\u001b[38;5;130;01m\\n\u001b[39;00m\u001b[38;5;130;01m\\x03\u001b[39;00m\u001b[38;5;130;01m\\x44\u001b[39;00m\u001b[38;5;124mim\u001b[39m\u001b[38;5;130;01m\\x12\u001b[39;00m\u001b[38;5;130;01m\\x0c\u001b[39;00m\u001b[38;5;130;01m\\n\u001b[39;00m\u001b[38;5;130;01m\\x04\u001b[39;00m\u001b[38;5;124msize\u001b[39m\u001b[38;5;130;01m\\x18\u001b[39;00m\u001b[38;5;130;01m\\x01\u001b[39;00m\u001b[38;5;124m \u001b[39m\u001b[38;5;130;01m\\x01\u001b[39;00m\u001b[38;5;124m(\u001b[39m\u001b[38;5;130;01m\\x03\u001b[39;00m\u001b[38;5;130;01m\\x12\u001b[39;00m\u001b[38;5;130;01m\\x0c\u001b[39;00m\u001b[38;5;130;01m\\n\u001b[39;00m\u001b[38;5;130;01m\\x04\u001b[39;00m\u001b[38;5;124mname\u001b[39m\u001b[38;5;130;01m\\x18\u001b[39;00m\u001b[38;5;130;01m\\x02\u001b[39;00m\u001b[38;5;124m \u001b[39m\u001b[38;5;130;01m\\x01\u001b[39;00m\u001b[38;5;124m(\u001b[39m\u001b[38;5;130;01m\\t\u001b[39;00m\u001b[38;5;124mB\u001b[39m\u001b[38;5;130;01m\\x87\u001b[39;00m\u001b[38;5;130;01m\\x01\u001b[39;00m\u001b[38;5;130;01m\\n\u001b[39;00m\u001b[38;5;130;01m\\x18\u001b[39;00m\u001b[38;5;124morg.tensorflow.frameworkB\u001b[39m\u001b[38;5;130;01m\\x11\u001b[39;00m\u001b[38;5;124mTensorShapeProtosP\u001b[39m\u001b[38;5;130;01m\\x01\u001b[39;00m\u001b[38;5;124mZSgithub.com/tensorflow/tensorflow/tensorflow/go/core/framework/tensor_shape_go_proto\u001b[39m\u001b[38;5;130;01m\\xf8\u001b[39;00m\u001b[38;5;130;01m\\x01\u001b[39;00m\u001b[38;5;130;01m\\x01\u001b[39;00m\u001b[38;5;130;01m\\x62\u001b[39;00m\u001b[38;5;130;01m\\x06\u001b[39;00m\u001b[38;5;124mproto3\u001b[39m\u001b[38;5;124m'\u001b[39m)\n\u001b[1;32m     24\u001b[0m )\n\u001b[1;32m     29\u001b[0m _TENSORSHAPEPROTO_DIM \u001b[38;5;241m=\u001b[39m _descriptor\u001b[38;5;241m.\u001b[39mDescriptor(\n\u001b[1;32m     30\u001b[0m   name\u001b[38;5;241m=\u001b[39m\u001b[38;5;124m'\u001b[39m\u001b[38;5;124mDim\u001b[39m\u001b[38;5;124m'\u001b[39m,\n\u001b[1;32m     31\u001b[0m   full_name\u001b[38;5;241m=\u001b[39m\u001b[38;5;124m'\u001b[39m\u001b[38;5;124mtensorflow.TensorShapeProto.Dim\u001b[39m\u001b[38;5;124m'\u001b[39m,\n\u001b[1;32m     32\u001b[0m   filename\u001b[38;5;241m=\u001b[39m\u001b[38;5;28;01mNone\u001b[39;00m,\n\u001b[1;32m     33\u001b[0m   file\u001b[38;5;241m=\u001b[39mDESCRIPTOR,\n\u001b[1;32m     34\u001b[0m   containing_type\u001b[38;5;241m=\u001b[39m\u001b[38;5;28;01mNone\u001b[39;00m,\n\u001b[1;32m     35\u001b[0m   fields\u001b[38;5;241m=\u001b[39m[\n\u001b[0;32m---> 36\u001b[0m     \u001b[43m_descriptor\u001b[49m\u001b[38;5;241;43m.\u001b[39;49m\u001b[43mFieldDescriptor\u001b[49m\u001b[43m(\u001b[49m\n\u001b[1;32m     37\u001b[0m \u001b[43m      \u001b[49m\u001b[43mname\u001b[49m\u001b[38;5;241;43m=\u001b[39;49m\u001b[38;5;124;43m'\u001b[39;49m\u001b[38;5;124;43msize\u001b[39;49m\u001b[38;5;124;43m'\u001b[39;49m\u001b[43m,\u001b[49m\u001b[43m \u001b[49m\u001b[43mfull_name\u001b[49m\u001b[38;5;241;43m=\u001b[39;49m\u001b[38;5;124;43m'\u001b[39;49m\u001b[38;5;124;43mtensorflow.TensorShapeProto.Dim.size\u001b[39;49m\u001b[38;5;124;43m'\u001b[39;49m\u001b[43m,\u001b[49m\u001b[43m \u001b[49m\u001b[43mindex\u001b[49m\u001b[38;5;241;43m=\u001b[39;49m\u001b[38;5;241;43m0\u001b[39;49m\u001b[43m,\u001b[49m\n\u001b[1;32m     38\u001b[0m \u001b[43m      \u001b[49m\u001b[43mnumber\u001b[49m\u001b[38;5;241;43m=\u001b[39;49m\u001b[38;5;241;43m1\u001b[39;49m\u001b[43m,\u001b[49m\u001b[43m \u001b[49m\u001b[38;5;28;43mtype\u001b[39;49m\u001b[38;5;241;43m=\u001b[39;49m\u001b[38;5;241;43m3\u001b[39;49m\u001b[43m,\u001b[49m\u001b[43m \u001b[49m\u001b[43mcpp_type\u001b[49m\u001b[38;5;241;43m=\u001b[39;49m\u001b[38;5;241;43m2\u001b[39;49m\u001b[43m,\u001b[49m\u001b[43m \u001b[49m\u001b[43mlabel\u001b[49m\u001b[38;5;241;43m=\u001b[39;49m\u001b[38;5;241;43m1\u001b[39;49m\u001b[43m,\u001b[49m\n\u001b[1;32m     39\u001b[0m \u001b[43m      \u001b[49m\u001b[43mhas_default_value\u001b[49m\u001b[38;5;241;43m=\u001b[39;49m\u001b[38;5;28;43;01mFalse\u001b[39;49;00m\u001b[43m,\u001b[49m\u001b[43m \u001b[49m\u001b[43mdefault_value\u001b[49m\u001b[38;5;241;43m=\u001b[39;49m\u001b[38;5;241;43m0\u001b[39;49m\u001b[43m,\u001b[49m\n\u001b[1;32m     40\u001b[0m \u001b[43m      \u001b[49m\u001b[43mmessage_type\u001b[49m\u001b[38;5;241;43m=\u001b[39;49m\u001b[38;5;28;43;01mNone\u001b[39;49;00m\u001b[43m,\u001b[49m\u001b[43m \u001b[49m\u001b[43menum_type\u001b[49m\u001b[38;5;241;43m=\u001b[39;49m\u001b[38;5;28;43;01mNone\u001b[39;49;00m\u001b[43m,\u001b[49m\u001b[43m \u001b[49m\u001b[43mcontaining_type\u001b[49m\u001b[38;5;241;43m=\u001b[39;49m\u001b[38;5;28;43;01mNone\u001b[39;49;00m\u001b[43m,\u001b[49m\n\u001b[1;32m     41\u001b[0m \u001b[43m      \u001b[49m\u001b[43mis_extension\u001b[49m\u001b[38;5;241;43m=\u001b[39;49m\u001b[38;5;28;43;01mFalse\u001b[39;49;00m\u001b[43m,\u001b[49m\u001b[43m \u001b[49m\u001b[43mextension_scope\u001b[49m\u001b[38;5;241;43m=\u001b[39;49m\u001b[38;5;28;43;01mNone\u001b[39;49;00m\u001b[43m,\u001b[49m\n\u001b[1;32m     42\u001b[0m \u001b[43m      \u001b[49m\u001b[43mserialized_options\u001b[49m\u001b[38;5;241;43m=\u001b[39;49m\u001b[38;5;28;43;01mNone\u001b[39;49;00m\u001b[43m,\u001b[49m\u001b[43m \u001b[49m\u001b[43mfile\u001b[49m\u001b[38;5;241;43m=\u001b[39;49m\u001b[43mDESCRIPTOR\u001b[49m\u001b[43m)\u001b[49m,\n\u001b[1;32m     43\u001b[0m     _descriptor\u001b[38;5;241m.\u001b[39mFieldDescriptor(\n\u001b[1;32m     44\u001b[0m       name\u001b[38;5;241m=\u001b[39m\u001b[38;5;124m'\u001b[39m\u001b[38;5;124mname\u001b[39m\u001b[38;5;124m'\u001b[39m, full_name\u001b[38;5;241m=\u001b[39m\u001b[38;5;124m'\u001b[39m\u001b[38;5;124mtensorflow.TensorShapeProto.Dim.name\u001b[39m\u001b[38;5;124m'\u001b[39m, index\u001b[38;5;241m=\u001b[39m\u001b[38;5;241m1\u001b[39m,\n\u001b[1;32m     45\u001b[0m       number\u001b[38;5;241m=\u001b[39m\u001b[38;5;241m2\u001b[39m, \u001b[38;5;28mtype\u001b[39m\u001b[38;5;241m=\u001b[39m\u001b[38;5;241m9\u001b[39m, cpp_type\u001b[38;5;241m=\u001b[39m\u001b[38;5;241m9\u001b[39m, label\u001b[38;5;241m=\u001b[39m\u001b[38;5;241m1\u001b[39m,\n\u001b[1;32m     46\u001b[0m       has_default_value\u001b[38;5;241m=\u001b[39m\u001b[38;5;28;01mFalse\u001b[39;00m, default_value\u001b[38;5;241m=\u001b[39m_b(\u001b[38;5;124m\"\u001b[39m\u001b[38;5;124m\"\u001b[39m)\u001b[38;5;241m.\u001b[39mdecode(\u001b[38;5;124m'\u001b[39m\u001b[38;5;124mutf-8\u001b[39m\u001b[38;5;124m'\u001b[39m),\n\u001b[1;32m     47\u001b[0m       message_type\u001b[38;5;241m=\u001b[39m\u001b[38;5;28;01mNone\u001b[39;00m, enum_type\u001b[38;5;241m=\u001b[39m\u001b[38;5;28;01mNone\u001b[39;00m, containing_type\u001b[38;5;241m=\u001b[39m\u001b[38;5;28;01mNone\u001b[39;00m,\n\u001b[1;32m     48\u001b[0m       is_extension\u001b[38;5;241m=\u001b[39m\u001b[38;5;28;01mFalse\u001b[39;00m, extension_scope\u001b[38;5;241m=\u001b[39m\u001b[38;5;28;01mNone\u001b[39;00m,\n\u001b[1;32m     49\u001b[0m       serialized_options\u001b[38;5;241m=\u001b[39m\u001b[38;5;28;01mNone\u001b[39;00m, file\u001b[38;5;241m=\u001b[39mDESCRIPTOR),\n\u001b[1;32m     50\u001b[0m   ],\n\u001b[1;32m     51\u001b[0m   extensions\u001b[38;5;241m=\u001b[39m[\n\u001b[1;32m     52\u001b[0m   ],\n\u001b[1;32m     53\u001b[0m   nested_types\u001b[38;5;241m=\u001b[39m[],\n\u001b[1;32m     54\u001b[0m   enum_types\u001b[38;5;241m=\u001b[39m[\n\u001b[1;32m     55\u001b[0m   ],\n\u001b[1;32m     56\u001b[0m   serialized_options\u001b[38;5;241m=\u001b[39m\u001b[38;5;28;01mNone\u001b[39;00m,\n\u001b[1;32m     57\u001b[0m   is_extendable\u001b[38;5;241m=\u001b[39m\u001b[38;5;28;01mFalse\u001b[39;00m,\n\u001b[1;32m     58\u001b[0m   syntax\u001b[38;5;241m=\u001b[39m\u001b[38;5;124m'\u001b[39m\u001b[38;5;124mproto3\u001b[39m\u001b[38;5;124m'\u001b[39m,\n\u001b[1;32m     59\u001b[0m   extension_ranges\u001b[38;5;241m=\u001b[39m[],\n\u001b[1;32m     60\u001b[0m   oneofs\u001b[38;5;241m=\u001b[39m[\n\u001b[1;32m     61\u001b[0m   ],\n\u001b[1;32m     62\u001b[0m   serialized_start\u001b[38;5;241m=\u001b[39m\u001b[38;5;241m149\u001b[39m,\n\u001b[1;32m     63\u001b[0m   serialized_end\u001b[38;5;241m=\u001b[39m\u001b[38;5;241m182\u001b[39m,\n\u001b[1;32m     64\u001b[0m )\n\u001b[1;32m     66\u001b[0m _TENSORSHAPEPROTO \u001b[38;5;241m=\u001b[39m _descriptor\u001b[38;5;241m.\u001b[39mDescriptor(\n\u001b[1;32m     67\u001b[0m   name\u001b[38;5;241m=\u001b[39m\u001b[38;5;124m'\u001b[39m\u001b[38;5;124mTensorShapeProto\u001b[39m\u001b[38;5;124m'\u001b[39m,\n\u001b[1;32m     68\u001b[0m   full_name\u001b[38;5;241m=\u001b[39m\u001b[38;5;124m'\u001b[39m\u001b[38;5;124mtensorflow.TensorShapeProto\u001b[39m\u001b[38;5;124m'\u001b[39m,\n\u001b[0;32m   (...)\u001b[0m\n\u001b[1;32m    100\u001b[0m   serialized_end\u001b[38;5;241m=\u001b[39m\u001b[38;5;241m182\u001b[39m,\n\u001b[1;32m    101\u001b[0m )\n\u001b[1;32m    103\u001b[0m _TENSORSHAPEPROTO_DIM\u001b[38;5;241m.\u001b[39mcontaining_type \u001b[38;5;241m=\u001b[39m _TENSORSHAPEPROTO\n",
      "File \u001b[0;32m/workspace/.pyenv_mirror/user/current/lib/python3.9/site-packages/google/protobuf/descriptor.py:553\u001b[0m, in \u001b[0;36mFieldDescriptor.__new__\u001b[0;34m(cls, name, full_name, index, number, type, cpp_type, label, default_value, message_type, enum_type, containing_type, is_extension, extension_scope, options, serialized_options, has_default_value, containing_oneof, json_name, file, create_key)\u001b[0m\n\u001b[1;32m    547\u001b[0m \u001b[38;5;28;01mdef\u001b[39;00m \u001b[38;5;21m__new__\u001b[39m(\u001b[38;5;28mcls\u001b[39m, name, full_name, index, number, \u001b[38;5;28mtype\u001b[39m, cpp_type, label,\n\u001b[1;32m    548\u001b[0m             default_value, message_type, enum_type, containing_type,\n\u001b[1;32m    549\u001b[0m             is_extension, extension_scope, options\u001b[38;5;241m=\u001b[39m\u001b[38;5;28;01mNone\u001b[39;00m,\n\u001b[1;32m    550\u001b[0m             serialized_options\u001b[38;5;241m=\u001b[39m\u001b[38;5;28;01mNone\u001b[39;00m,\n\u001b[1;32m    551\u001b[0m             has_default_value\u001b[38;5;241m=\u001b[39m\u001b[38;5;28;01mTrue\u001b[39;00m, containing_oneof\u001b[38;5;241m=\u001b[39m\u001b[38;5;28;01mNone\u001b[39;00m, json_name\u001b[38;5;241m=\u001b[39m\u001b[38;5;28;01mNone\u001b[39;00m,\n\u001b[1;32m    552\u001b[0m             file\u001b[38;5;241m=\u001b[39m\u001b[38;5;28;01mNone\u001b[39;00m, create_key\u001b[38;5;241m=\u001b[39m\u001b[38;5;28;01mNone\u001b[39;00m):  \u001b[38;5;66;03m# pylint: disable=redefined-builtin\u001b[39;00m\n\u001b[0;32m--> 553\u001b[0m   \u001b[43m_message\u001b[49m\u001b[38;5;241;43m.\u001b[39;49m\u001b[43mMessage\u001b[49m\u001b[38;5;241;43m.\u001b[39;49m\u001b[43m_CheckCalledFromGeneratedFile\u001b[49m\u001b[43m(\u001b[49m\u001b[43m)\u001b[49m\n\u001b[1;32m    554\u001b[0m   \u001b[38;5;28;01mif\u001b[39;00m is_extension:\n\u001b[1;32m    555\u001b[0m     \u001b[38;5;28;01mreturn\u001b[39;00m _message\u001b[38;5;241m.\u001b[39mdefault_pool\u001b[38;5;241m.\u001b[39mFindExtensionByName(full_name)\n",
      "\u001b[0;31mTypeError\u001b[0m: Descriptors cannot be created directly.\nIf this call came from a _pb2.py file, your generated code is out of date and must be regenerated with protoc >= 3.19.0.\nIf you cannot immediately regenerate your protos, some other possible workarounds are:\n 1. Downgrade the protobuf package to 3.20.x or lower.\n 2. Set PROTOCOL_BUFFERS_PYTHON_IMPLEMENTATION=python (but this will use pure-Python parsing and will be much slower).\n\nMore information: https://developers.google.com/protocol-buffers/docs/news/2022-05-06#python-updates"
     ]
    }
   ],
   "source": [
    "import zipfile\n",
    "import os\n",
    "import shutil\n",
    "from PIL import Image, ImageOps, ImageEnhance\n",
    "import random\n",
    "import glob\n",
    "from keras.preprocessing.image import ImageDataGenerator\n",
    "import matplotlib.pyplot as plt\n",
    "print(\"Libraries imported successfully\")"
   ]
  },
  {
   "cell_type": "markdown",
   "metadata": {},
   "source": [
    "## 3. Unzip files"
   ]
  },
  {
   "cell_type": "markdown",
   "metadata": {},
   "source": [
    "In this step, we are extracting the cherry leaves dataset from a compressed .zip file. This action makes the dataset accessible for further processing. It involves opening the .zip file and extracting its contents into a designated directory, followed by removing the .zip file to clean up our workspace.\r\n"
   ]
  },
  {
   "cell_type": "code",
   "execution_count": 3,
   "metadata": {},
   "outputs": [
    {
     "name": "stdout",
     "output_type": "stream",
     "text": [
      "Working directory changed to '/workspaces/Mildew-Detection-in-Cherry-Leaves'\n"
     ]
    }
   ],
   "source": [
    "os.chdir(\"..\")\n",
    "print(\"Working directory changed to '/workspaces/Mildew-Detection-in-Cherry-Leaves'\")"
   ]
  },
  {
   "cell_type": "code",
   "execution_count": 4,
   "metadata": {},
   "outputs": [],
   "source": [
    "DestinationFolder = \"inputs/mildew_dataset\"\n",
    "with zipfile.ZipFile(DestinationFolder + '/cherry-leaves.zip', 'r') as zip_ref:\n",
    "    zip_ref.extractall(DestinationFolder)\n",
    "\n",
    "os.remove(DestinationFolder + '/cherry-leaves.zip')"
   ]
  },
  {
   "cell_type": "markdown",
   "metadata": {},
   "source": [
    "## 4. Merge and Group Images by Category"
   ]
  },
  {
   "cell_type": "markdown",
   "metadata": {},
   "source": [
    "This part of the process involves reorganizing the dataset structure. Initially, the dataset was divided into 'train' and 'test' folders. We're consolidating these images into a single location, separating them into 'healthy' and 'powdery_mildew' categories. This reorganization sets the stage for our next steps, where we will process these images and then redistribute them into new 'training', 'validation', and 'test' sets, aligning with a different standard for model training and evaluation.\r\n"
   ]
  },
  {
   "cell_type": "markdown",
   "metadata": {},
   "source": [
    "### Define the functions"
   ]
  },
  {
   "cell_type": "code",
   "execution_count": 5,
   "metadata": {},
   "outputs": [],
   "source": [
    "def merge_and_group_images(source_folders, destination_folders):\n",
    "    for _, dest in destination_folders.items():\n",
    "        if not os.path.exists(dest):\n",
    "            os.makedirs(dest)\n",
    "\n",
    "    for folder in source_folders:\n",
    "        for category in ['healthy', 'powdery_mildew']:\n",
    "            source_path = folder + '/' + category\n",
    "            files = os.listdir(source_path)\n",
    "            for file in files:\n",
    "                shutil.move(source_path + '/' + file, destination_folders[category])\n",
    "            os.rmdir(source_path)\n",
    "\n",
    "def remove_initial_directories(directories):\n",
    "    for directory in directories:\n",
    "        shutil.rmtree(directory)\n",
    "\n",
    "\n",
    "def rename_images_in_folder(folder_path, new_name_prefix):\n",
    "    files = os.listdir(folder_path)\n",
    "    for i, file in enumerate(files):\n",
    "        os.rename(os.path.join(folder_path, file), os.path.join(folder_path, f\"{new_name_prefix}_{i}.jpg\"))\n",
    "\n",
    "def standardize_image_names(folder_path, prefix):\n",
    "    for count, filename in enumerate(os.listdir(folder_path), start=1):\n",
    "        dst = f\"{prefix}_{count}.jpg\"\n",
    "        src = f\"{folder_path}/{filename}\"\n",
    "        dst = f\"{folder_path}/{dst}\"\n",
    "\n",
    "        # Rename the file\n",
    "        os.rename(src, dst)"
   ]
  },
  {
   "cell_type": "markdown",
   "metadata": {},
   "source": [
    "### Define source folders"
   ]
  },
  {
   "cell_type": "code",
   "execution_count": 6,
   "metadata": {},
   "outputs": [],
   "source": [
    "source_folders = [\n",
    "    \"inputs/mildew_dataset/cherry-leaves/test\",\n",
    "    \"inputs/mildew_dataset/cherry-leaves/train\"\n",
    "]"
   ]
  },
  {
   "cell_type": "markdown",
   "metadata": {},
   "source": [
    "### Define destination folders"
   ]
  },
  {
   "cell_type": "code",
   "execution_count": 7,
   "metadata": {},
   "outputs": [],
   "source": [
    "destination_folders = {\n",
    "    \"healthy\": \"inputs/mildew_dataset/cherry-leaves/healthy\",\n",
    "    \"powdery_mildew\": \"inputs/mildew_dataset/cherry-leaves/powdery_mildew\"\n",
    "}"
   ]
  },
  {
   "cell_type": "markdown",
   "metadata": {},
   "source": [
    "### Define the directories to be removed"
   ]
  },
  {
   "cell_type": "code",
   "execution_count": 8,
   "metadata": {},
   "outputs": [],
   "source": [
    "directories_to_remove = [\n",
    "    \"inputs/mildew_dataset/cherry-leaves/test\",\n",
    "    \"inputs/mildew_dataset/cherry-leaves/train\"\n",
    "]"
   ]
  },
  {
   "cell_type": "markdown",
   "metadata": {},
   "source": [
    "### Define the directories to standardize"
   ]
  },
  {
   "cell_type": "code",
   "execution_count": 9,
   "metadata": {},
   "outputs": [],
   "source": [
    "healthy_folder_path = 'inputs/mildew_dataset/cherry-leaves/healthy'\n",
    "mildew_folder_path = 'inputs/mildew_dataset/cherry-leaves/powdery_mildew'"
   ]
  },
  {
   "cell_type": "markdown",
   "metadata": {},
   "source": [
    "### Execute the function"
   ]
  },
  {
   "cell_type": "code",
   "execution_count": 10,
   "metadata": {},
   "outputs": [
    {
     "name": "stdout",
     "output_type": "stream",
     "text": [
      "Current directory: /workspace/Mildew-Detection-in-Cherry-Leaves\n",
      "All images have been successfully merged and grouped by category into their respective destination folders.\n"
     ]
    }
   ],
   "source": [
    "current_dir = os.getcwd()\n",
    "print(\"Current directory:\", current_dir)\n",
    "rename_images_in_folder(\"inputs/mildew_dataset/cherry-leaves/train/healthy\", \"train_healthy\")\n",
    "rename_images_in_folder(\"inputs/mildew_dataset/cherry-leaves/train/powdery_mildew\", \"train_mildew\")\n",
    "merge_and_group_images(source_folders, destination_folders)\n",
    "remove_initial_directories(directories_to_remove)\n",
    "standardize_image_names(healthy_folder_path, 'healthy')\n",
    "standardize_image_names(mildew_folder_path, 'mildew')\n",
    "print(\"All images have been successfully merged and grouped by category into their respective destination folders.\")"
   ]
  },
  {
   "cell_type": "markdown",
   "metadata": {},
   "source": [
    "## 5. Equalizing Image Numbers to Avoid Bias"
   ]
  },
  {
   "cell_type": "markdown",
   "metadata": {},
   "source": [
    "In this step, we've ensured an equal number of images for both 'healthy' and 'powdery mildew' categories. This is crucial for preventing bias in our model's training, as an imbalanced dataset could lead to skewed predictions. Our goal is to provide the CNN with a fair representation of both categories, enhancing its ability to accurately classify cherry leaves."
   ]
  },
  {
   "cell_type": "markdown",
   "metadata": {},
   "source": [
    "### Count Images in Each Folder:"
   ]
  },
  {
   "cell_type": "code",
   "execution_count": 12,
   "metadata": {},
   "outputs": [
    {
     "name": "stdout",
     "output_type": "stream",
     "text": [
      "2986\n",
      "2793\n"
     ]
    }
   ],
   "source": [
    "healthy_images_count = len(os.listdir('inputs/mildew_dataset/cherry-leaves/healthy'))\n",
    "mildew_images_count = len(os.listdir('inputs/mildew_dataset/cherry-leaves/powdery_mildew'))\n",
    "print(healthy_images_count)\n",
    "print(mildew_images_count)"
   ]
  },
  {
   "cell_type": "markdown",
   "metadata": {},
   "source": [
    "### Determine the Difference and Set Image Generation Count:"
   ]
  },
  {
   "cell_type": "code",
   "execution_count": 13,
   "metadata": {},
   "outputs": [
    {
     "name": "stdout",
     "output_type": "stream",
     "text": [
      "193\n"
     ]
    }
   ],
   "source": [
    "images_to_generate = abs(healthy_images_count - mildew_images_count)\n",
    "folder_to_use = 'inputs/mildew_dataset/cherry-leaves/powdery_mildew' if healthy_images_count > mildew_images_count else '/workspaces/Mildew-Detection-in-Cherry-Leaves/inputs/mildew_dataset/cherry-leaves/healthy'\n",
    "print(images_to_generate)"
   ]
  },
  {
   "cell_type": "markdown",
   "metadata": {},
   "source": [
    "### Define Image Transformation Functions:"
   ]
  },
  {
   "cell_type": "code",
   "execution_count": 14,
   "metadata": {},
   "outputs": [],
   "source": [
    "from PIL import Image, ImageOps\n",
    "\n",
    "def random_transformation(image_path):\n",
    "    image = Image.open(image_path)\n",
    "    choice = random.randint(1, 3)\n",
    "    if choice == 1:\n",
    "        # Mirror\n",
    "        return ImageOps.mirror(image)\n",
    "    elif choice == 2:\n",
    "        # Adjust brightness\n",
    "        return ImageEnhance.Brightness(image).enhance(random.uniform(0.5, 1.5))\n",
    "    else:\n",
    "        # Rotate\n",
    "        return image.rotate(random.choice([90, 180, 270]))"
   ]
  },
  {
   "cell_type": "markdown",
   "metadata": {},
   "source": [
    "### Generate and Save Transformed Images:"
   ]
  },
  {
   "cell_type": "code",
   "execution_count": 15,
   "metadata": {},
   "outputs": [
    {
     "name": "stdout",
     "output_type": "stream",
     "text": [
      "Processing image number: 0\n",
      "Selected random image for transformation: mildew_1770.jpg\n",
      "Saving transformed image to: inputs/mildew_dataset/cherry-leaves/powdery_mildew/synthetic_0.jpg\n",
      "Processing image number: 1\n",
      "Selected random image for transformation: mildew_1757.jpg\n",
      "Saving transformed image to: inputs/mildew_dataset/cherry-leaves/powdery_mildew/synthetic_1.jpg\n",
      "Processing image number: 2\n",
      "Selected random image for transformation: mildew_2439.jpg\n",
      "Saving transformed image to: inputs/mildew_dataset/cherry-leaves/powdery_mildew/synthetic_2.jpg\n",
      "Processing image number: 3\n",
      "Selected random image for transformation: mildew_1697.jpg\n",
      "Saving transformed image to: inputs/mildew_dataset/cherry-leaves/powdery_mildew/synthetic_3.jpg\n",
      "Processing image number: 4\n",
      "Selected random image for transformation: mildew_911.jpg\n",
      "Saving transformed image to: inputs/mildew_dataset/cherry-leaves/powdery_mildew/synthetic_4.jpg\n",
      "Processing image number: 5\n",
      "Selected random image for transformation: mildew_1778.jpg\n",
      "Saving transformed image to: inputs/mildew_dataset/cherry-leaves/powdery_mildew/synthetic_5.jpg\n",
      "Processing image number: 6\n",
      "Selected random image for transformation: mildew_1621.jpg\n",
      "Saving transformed image to: inputs/mildew_dataset/cherry-leaves/powdery_mildew/synthetic_6.jpg\n",
      "Processing image number: 7\n",
      "Selected random image for transformation: mildew_1802.jpg\n",
      "Saving transformed image to: inputs/mildew_dataset/cherry-leaves/powdery_mildew/synthetic_7.jpg\n",
      "Processing image number: 8\n",
      "Selected random image for transformation: mildew_2446.jpg\n",
      "Saving transformed image to: inputs/mildew_dataset/cherry-leaves/powdery_mildew/synthetic_8.jpg\n",
      "Processing image number: 9\n",
      "Selected random image for transformation: mildew_189.jpg\n",
      "Saving transformed image to: inputs/mildew_dataset/cherry-leaves/powdery_mildew/synthetic_9.jpg\n",
      "Processing image number: 10\n",
      "Selected random image for transformation: mildew_492.jpg\n",
      "Saving transformed image to: inputs/mildew_dataset/cherry-leaves/powdery_mildew/synthetic_10.jpg\n",
      "Processing image number: 11\n",
      "Selected random image for transformation: mildew_734.jpg\n",
      "Saving transformed image to: inputs/mildew_dataset/cherry-leaves/powdery_mildew/synthetic_11.jpg\n",
      "Processing image number: 12\n",
      "Selected random image for transformation: mildew_2702.jpg\n",
      "Saving transformed image to: inputs/mildew_dataset/cherry-leaves/powdery_mildew/synthetic_12.jpg\n",
      "Processing image number: 13\n",
      "Selected random image for transformation: mildew_320.jpg\n",
      "Saving transformed image to: inputs/mildew_dataset/cherry-leaves/powdery_mildew/synthetic_13.jpg\n",
      "Processing image number: 14\n",
      "Selected random image for transformation: mildew_2743.jpg\n",
      "Saving transformed image to: inputs/mildew_dataset/cherry-leaves/powdery_mildew/synthetic_14.jpg\n",
      "Processing image number: 15\n",
      "Selected random image for transformation: mildew_258.jpg\n",
      "Saving transformed image to: inputs/mildew_dataset/cherry-leaves/powdery_mildew/synthetic_15.jpg\n",
      "Processing image number: 16\n",
      "Selected random image for transformation: mildew_2004.jpg\n",
      "Saving transformed image to: inputs/mildew_dataset/cherry-leaves/powdery_mildew/synthetic_16.jpg\n",
      "Processing image number: 17\n",
      "Selected random image for transformation: mildew_2309.jpg\n",
      "Saving transformed image to: inputs/mildew_dataset/cherry-leaves/powdery_mildew/synthetic_17.jpg\n",
      "Processing image number: 18\n",
      "Selected random image for transformation: mildew_2500.jpg\n",
      "Saving transformed image to: inputs/mildew_dataset/cherry-leaves/powdery_mildew/synthetic_18.jpg\n",
      "Processing image number: 19\n",
      "Selected random image for transformation: mildew_2107.jpg\n",
      "Saving transformed image to: inputs/mildew_dataset/cherry-leaves/powdery_mildew/synthetic_19.jpg\n",
      "Processing image number: 20\n",
      "Selected random image for transformation: mildew_493.jpg\n",
      "Saving transformed image to: inputs/mildew_dataset/cherry-leaves/powdery_mildew/synthetic_20.jpg\n",
      "Processing image number: 21\n",
      "Selected random image for transformation: mildew_772.jpg\n",
      "Saving transformed image to: inputs/mildew_dataset/cherry-leaves/powdery_mildew/synthetic_21.jpg\n",
      "Processing image number: 22\n",
      "Selected random image for transformation: mildew_2252.jpg\n",
      "Saving transformed image to: inputs/mildew_dataset/cherry-leaves/powdery_mildew/synthetic_22.jpg\n",
      "Processing image number: 23\n",
      "Selected random image for transformation: mildew_2129.jpg\n",
      "Saving transformed image to: inputs/mildew_dataset/cherry-leaves/powdery_mildew/synthetic_23.jpg\n",
      "Processing image number: 24\n",
      "Selected random image for transformation: mildew_99.jpg\n",
      "Saving transformed image to: inputs/mildew_dataset/cherry-leaves/powdery_mildew/synthetic_24.jpg\n",
      "Processing image number: 25\n",
      "Selected random image for transformation: mildew_1086.jpg\n",
      "Saving transformed image to: inputs/mildew_dataset/cherry-leaves/powdery_mildew/synthetic_25.jpg\n",
      "Processing image number: 26\n",
      "Selected random image for transformation: mildew_177.jpg\n",
      "Saving transformed image to: inputs/mildew_dataset/cherry-leaves/powdery_mildew/synthetic_26.jpg\n",
      "Processing image number: 27\n",
      "Selected random image for transformation: mildew_2194.jpg\n",
      "Saving transformed image to: inputs/mildew_dataset/cherry-leaves/powdery_mildew/synthetic_27.jpg\n",
      "Processing image number: 28\n",
      "Selected random image for transformation: mildew_1845.jpg\n",
      "Saving transformed image to: inputs/mildew_dataset/cherry-leaves/powdery_mildew/synthetic_28.jpg\n",
      "Processing image number: 29\n",
      "Selected random image for transformation: mildew_567.jpg\n",
      "Saving transformed image to: inputs/mildew_dataset/cherry-leaves/powdery_mildew/synthetic_29.jpg\n",
      "Processing image number: 30\n",
      "Selected random image for transformation: mildew_2757.jpg\n",
      "Saving transformed image to: inputs/mildew_dataset/cherry-leaves/powdery_mildew/synthetic_30.jpg\n",
      "Processing image number: 31\n",
      "Selected random image for transformation: mildew_2403.jpg\n",
      "Saving transformed image to: inputs/mildew_dataset/cherry-leaves/powdery_mildew/synthetic_31.jpg\n",
      "Processing image number: 32\n",
      "Selected random image for transformation: mildew_26.jpg\n",
      "Saving transformed image to: inputs/mildew_dataset/cherry-leaves/powdery_mildew/synthetic_32.jpg\n",
      "Processing image number: 33\n",
      "Selected random image for transformation: mildew_520.jpg\n",
      "Saving transformed image to: inputs/mildew_dataset/cherry-leaves/powdery_mildew/synthetic_33.jpg\n",
      "Processing image number: 34\n",
      "Selected random image for transformation: mildew_2517.jpg\n",
      "Saving transformed image to: inputs/mildew_dataset/cherry-leaves/powdery_mildew/synthetic_34.jpg\n",
      "Processing image number: 35\n",
      "Selected random image for transformation: mildew_2586.jpg\n",
      "Saving transformed image to: inputs/mildew_dataset/cherry-leaves/powdery_mildew/synthetic_35.jpg\n",
      "Processing image number: 36\n",
      "Selected random image for transformation: mildew_1874.jpg\n",
      "Saving transformed image to: inputs/mildew_dataset/cherry-leaves/powdery_mildew/synthetic_36.jpg\n",
      "Processing image number: 37\n",
      "Selected random image for transformation: mildew_843.jpg\n",
      "Saving transformed image to: inputs/mildew_dataset/cherry-leaves/powdery_mildew/synthetic_37.jpg\n",
      "Processing image number: 38\n",
      "Selected random image for transformation: mildew_2194.jpg\n",
      "Saving transformed image to: inputs/mildew_dataset/cherry-leaves/powdery_mildew/synthetic_38.jpg\n",
      "Processing image number: 39\n",
      "Selected random image for transformation: mildew_1275.jpg\n",
      "Saving transformed image to: inputs/mildew_dataset/cherry-leaves/powdery_mildew/synthetic_39.jpg\n",
      "Processing image number: 40\n",
      "Selected random image for transformation: mildew_2771.jpg\n",
      "Saving transformed image to: inputs/mildew_dataset/cherry-leaves/powdery_mildew/synthetic_40.jpg\n",
      "Processing image number: 41\n",
      "Selected random image for transformation: mildew_146.jpg\n",
      "Saving transformed image to: inputs/mildew_dataset/cherry-leaves/powdery_mildew/synthetic_41.jpg\n",
      "Processing image number: 42\n",
      "Selected random image for transformation: mildew_657.jpg\n",
      "Saving transformed image to: inputs/mildew_dataset/cherry-leaves/powdery_mildew/synthetic_42.jpg\n",
      "Processing image number: 43\n",
      "Selected random image for transformation: mildew_137.jpg\n",
      "Saving transformed image to: inputs/mildew_dataset/cherry-leaves/powdery_mildew/synthetic_43.jpg\n",
      "Processing image number: 44\n",
      "Selected random image for transformation: mildew_2028.jpg\n",
      "Saving transformed image to: inputs/mildew_dataset/cherry-leaves/powdery_mildew/synthetic_44.jpg\n",
      "Processing image number: 45\n",
      "Selected random image for transformation: mildew_1902.jpg\n",
      "Saving transformed image to: inputs/mildew_dataset/cherry-leaves/powdery_mildew/synthetic_45.jpg\n",
      "Processing image number: 46\n",
      "Selected random image for transformation: mildew_2126.jpg\n",
      "Saving transformed image to: inputs/mildew_dataset/cherry-leaves/powdery_mildew/synthetic_46.jpg\n",
      "Processing image number: 47\n",
      "Selected random image for transformation: mildew_778.jpg\n",
      "Saving transformed image to: inputs/mildew_dataset/cherry-leaves/powdery_mildew/synthetic_47.jpg\n",
      "Processing image number: 48\n",
      "Selected random image for transformation: mildew_2597.jpg\n",
      "Saving transformed image to: inputs/mildew_dataset/cherry-leaves/powdery_mildew/synthetic_48.jpg\n",
      "Processing image number: 49\n",
      "Selected random image for transformation: mildew_712.jpg\n",
      "Saving transformed image to: inputs/mildew_dataset/cherry-leaves/powdery_mildew/synthetic_49.jpg\n",
      "Processing image number: 50\n",
      "Selected random image for transformation: mildew_1732.jpg\n",
      "Saving transformed image to: inputs/mildew_dataset/cherry-leaves/powdery_mildew/synthetic_50.jpg\n",
      "Processing image number: 51\n",
      "Selected random image for transformation: mildew_1556.jpg\n",
      "Saving transformed image to: inputs/mildew_dataset/cherry-leaves/powdery_mildew/synthetic_51.jpg\n",
      "Processing image number: 52\n",
      "Selected random image for transformation: mildew_2148.jpg\n",
      "Saving transformed image to: inputs/mildew_dataset/cherry-leaves/powdery_mildew/synthetic_52.jpg\n",
      "Processing image number: 53\n",
      "Selected random image for transformation: mildew_803.jpg\n",
      "Saving transformed image to: inputs/mildew_dataset/cherry-leaves/powdery_mildew/synthetic_53.jpg\n",
      "Processing image number: 54\n",
      "Selected random image for transformation: mildew_2097.jpg\n",
      "Saving transformed image to: inputs/mildew_dataset/cherry-leaves/powdery_mildew/synthetic_54.jpg\n",
      "Processing image number: 55\n",
      "Selected random image for transformation: mildew_1588.jpg\n",
      "Saving transformed image to: inputs/mildew_dataset/cherry-leaves/powdery_mildew/synthetic_55.jpg\n",
      "Processing image number: 56\n",
      "Selected random image for transformation: synthetic_5.jpg\n",
      "Saving transformed image to: inputs/mildew_dataset/cherry-leaves/powdery_mildew/synthetic_56.jpg\n",
      "Processing image number: 57\n",
      "Selected random image for transformation: mildew_2103.jpg\n",
      "Saving transformed image to: inputs/mildew_dataset/cherry-leaves/powdery_mildew/synthetic_57.jpg\n",
      "Processing image number: 58\n",
      "Selected random image for transformation: mildew_2556.jpg\n",
      "Saving transformed image to: inputs/mildew_dataset/cherry-leaves/powdery_mildew/synthetic_58.jpg\n",
      "Processing image number: 59\n",
      "Selected random image for transformation: mildew_1539.jpg\n",
      "Saving transformed image to: inputs/mildew_dataset/cherry-leaves/powdery_mildew/synthetic_59.jpg\n",
      "Processing image number: 60\n",
      "Selected random image for transformation: mildew_51.jpg\n",
      "Saving transformed image to: inputs/mildew_dataset/cherry-leaves/powdery_mildew/synthetic_60.jpg\n",
      "Processing image number: 61\n",
      "Selected random image for transformation: mildew_2427.jpg\n",
      "Saving transformed image to: inputs/mildew_dataset/cherry-leaves/powdery_mildew/synthetic_61.jpg\n",
      "Processing image number: 62\n",
      "Selected random image for transformation: mildew_924.jpg\n",
      "Saving transformed image to: inputs/mildew_dataset/cherry-leaves/powdery_mildew/synthetic_62.jpg\n",
      "Processing image number: 63\n",
      "Selected random image for transformation: mildew_2782.jpg\n",
      "Saving transformed image to: inputs/mildew_dataset/cherry-leaves/powdery_mildew/synthetic_63.jpg\n",
      "Processing image number: 64\n",
      "Selected random image for transformation: mildew_1227.jpg\n",
      "Saving transformed image to: inputs/mildew_dataset/cherry-leaves/powdery_mildew/synthetic_64.jpg\n",
      "Processing image number: 65\n",
      "Selected random image for transformation: mildew_634.jpg\n",
      "Saving transformed image to: inputs/mildew_dataset/cherry-leaves/powdery_mildew/synthetic_65.jpg\n",
      "Processing image number: 66\n",
      "Selected random image for transformation: mildew_1407.jpg\n",
      "Saving transformed image to: inputs/mildew_dataset/cherry-leaves/powdery_mildew/synthetic_66.jpg\n",
      "Processing image number: 67\n",
      "Selected random image for transformation: mildew_898.jpg\n",
      "Saving transformed image to: inputs/mildew_dataset/cherry-leaves/powdery_mildew/synthetic_67.jpg\n",
      "Processing image number: 68\n",
      "Selected random image for transformation: mildew_2339.jpg\n",
      "Saving transformed image to: inputs/mildew_dataset/cherry-leaves/powdery_mildew/synthetic_68.jpg\n",
      "Processing image number: 69\n",
      "Selected random image for transformation: mildew_220.jpg\n",
      "Saving transformed image to: inputs/mildew_dataset/cherry-leaves/powdery_mildew/synthetic_69.jpg\n",
      "Processing image number: 70\n",
      "Selected random image for transformation: mildew_598.jpg\n",
      "Saving transformed image to: inputs/mildew_dataset/cherry-leaves/powdery_mildew/synthetic_70.jpg\n",
      "Processing image number: 71\n",
      "Selected random image for transformation: mildew_141.jpg\n",
      "Saving transformed image to: inputs/mildew_dataset/cherry-leaves/powdery_mildew/synthetic_71.jpg\n",
      "Processing image number: 72\n",
      "Selected random image for transformation: mildew_875.jpg\n",
      "Saving transformed image to: inputs/mildew_dataset/cherry-leaves/powdery_mildew/synthetic_72.jpg\n",
      "Processing image number: 73\n",
      "Selected random image for transformation: mildew_2467.jpg\n",
      "Saving transformed image to: inputs/mildew_dataset/cherry-leaves/powdery_mildew/synthetic_73.jpg\n",
      "Processing image number: 74\n",
      "Selected random image for transformation: mildew_1667.jpg\n",
      "Saving transformed image to: inputs/mildew_dataset/cherry-leaves/powdery_mildew/synthetic_74.jpg\n",
      "Processing image number: 75\n",
      "Selected random image for transformation: mildew_660.jpg\n",
      "Saving transformed image to: inputs/mildew_dataset/cherry-leaves/powdery_mildew/synthetic_75.jpg\n",
      "Processing image number: 76\n",
      "Selected random image for transformation: mildew_2546.jpg\n",
      "Saving transformed image to: inputs/mildew_dataset/cherry-leaves/powdery_mildew/synthetic_76.jpg\n",
      "Processing image number: 77\n",
      "Selected random image for transformation: mildew_1700.jpg\n",
      "Saving transformed image to: inputs/mildew_dataset/cherry-leaves/powdery_mildew/synthetic_77.jpg\n",
      "Processing image number: 78\n",
      "Selected random image for transformation: mildew_1497.jpg\n",
      "Saving transformed image to: inputs/mildew_dataset/cherry-leaves/powdery_mildew/synthetic_78.jpg\n",
      "Processing image number: 79\n",
      "Selected random image for transformation: mildew_714.jpg\n",
      "Saving transformed image to: inputs/mildew_dataset/cherry-leaves/powdery_mildew/synthetic_79.jpg\n",
      "Processing image number: 80\n",
      "Selected random image for transformation: mildew_891.jpg\n",
      "Saving transformed image to: inputs/mildew_dataset/cherry-leaves/powdery_mildew/synthetic_80.jpg\n",
      "Processing image number: 81\n",
      "Selected random image for transformation: mildew_1871.jpg\n",
      "Saving transformed image to: inputs/mildew_dataset/cherry-leaves/powdery_mildew/synthetic_81.jpg\n",
      "Processing image number: 82\n",
      "Selected random image for transformation: mildew_1066.jpg\n",
      "Saving transformed image to: inputs/mildew_dataset/cherry-leaves/powdery_mildew/synthetic_82.jpg\n",
      "Processing image number: 83\n",
      "Selected random image for transformation: mildew_2205.jpg\n",
      "Saving transformed image to: inputs/mildew_dataset/cherry-leaves/powdery_mildew/synthetic_83.jpg\n",
      "Processing image number: 84\n",
      "Selected random image for transformation: mildew_368.jpg\n",
      "Saving transformed image to: inputs/mildew_dataset/cherry-leaves/powdery_mildew/synthetic_84.jpg\n",
      "Processing image number: 85\n",
      "Selected random image for transformation: mildew_1664.jpg\n",
      "Saving transformed image to: inputs/mildew_dataset/cherry-leaves/powdery_mildew/synthetic_85.jpg\n",
      "Processing image number: 86\n",
      "Selected random image for transformation: mildew_1748.jpg\n",
      "Saving transformed image to: inputs/mildew_dataset/cherry-leaves/powdery_mildew/synthetic_86.jpg\n",
      "Processing image number: 87\n",
      "Selected random image for transformation: mildew_818.jpg\n",
      "Saving transformed image to: inputs/mildew_dataset/cherry-leaves/powdery_mildew/synthetic_87.jpg\n",
      "Processing image number: 88\n",
      "Selected random image for transformation: mildew_2036.jpg\n",
      "Saving transformed image to: inputs/mildew_dataset/cherry-leaves/powdery_mildew/synthetic_88.jpg\n",
      "Processing image number: 89\n",
      "Selected random image for transformation: mildew_804.jpg\n",
      "Saving transformed image to: inputs/mildew_dataset/cherry-leaves/powdery_mildew/synthetic_89.jpg\n",
      "Processing image number: 90\n",
      "Selected random image for transformation: mildew_809.jpg\n",
      "Saving transformed image to: inputs/mildew_dataset/cherry-leaves/powdery_mildew/synthetic_90.jpg\n",
      "Processing image number: 91\n",
      "Selected random image for transformation: mildew_2156.jpg\n",
      "Saving transformed image to: inputs/mildew_dataset/cherry-leaves/powdery_mildew/synthetic_91.jpg\n",
      "Processing image number: 92\n",
      "Selected random image for transformation: mildew_1533.jpg\n",
      "Saving transformed image to: inputs/mildew_dataset/cherry-leaves/powdery_mildew/synthetic_92.jpg\n",
      "Processing image number: 93\n",
      "Selected random image for transformation: mildew_2454.jpg\n",
      "Saving transformed image to: inputs/mildew_dataset/cherry-leaves/powdery_mildew/synthetic_93.jpg\n",
      "Processing image number: 94\n",
      "Selected random image for transformation: mildew_591.jpg\n",
      "Saving transformed image to: inputs/mildew_dataset/cherry-leaves/powdery_mildew/synthetic_94.jpg\n",
      "Processing image number: 95\n",
      "Selected random image for transformation: mildew_2288.jpg\n",
      "Saving transformed image to: inputs/mildew_dataset/cherry-leaves/powdery_mildew/synthetic_95.jpg\n",
      "Processing image number: 96\n",
      "Selected random image for transformation: mildew_2136.jpg\n",
      "Saving transformed image to: inputs/mildew_dataset/cherry-leaves/powdery_mildew/synthetic_96.jpg\n",
      "Processing image number: 97\n",
      "Selected random image for transformation: mildew_930.jpg\n",
      "Saving transformed image to: inputs/mildew_dataset/cherry-leaves/powdery_mildew/synthetic_97.jpg\n",
      "Processing image number: 98\n",
      "Selected random image for transformation: mildew_1072.jpg\n",
      "Saving transformed image to: inputs/mildew_dataset/cherry-leaves/powdery_mildew/synthetic_98.jpg\n",
      "Processing image number: 99\n",
      "Selected random image for transformation: mildew_1617.jpg\n",
      "Saving transformed image to: inputs/mildew_dataset/cherry-leaves/powdery_mildew/synthetic_99.jpg\n",
      "Processing image number: 100\n",
      "Selected random image for transformation: mildew_1265.jpg\n",
      "Saving transformed image to: inputs/mildew_dataset/cherry-leaves/powdery_mildew/synthetic_100.jpg\n",
      "Processing image number: 101\n",
      "Selected random image for transformation: mildew_1188.jpg\n",
      "Saving transformed image to: inputs/mildew_dataset/cherry-leaves/powdery_mildew/synthetic_101.jpg\n",
      "Processing image number: 102\n",
      "Selected random image for transformation: mildew_1765.jpg\n",
      "Saving transformed image to: inputs/mildew_dataset/cherry-leaves/powdery_mildew/synthetic_102.jpg\n",
      "Processing image number: 103\n",
      "Selected random image for transformation: mildew_1217.jpg\n",
      "Saving transformed image to: inputs/mildew_dataset/cherry-leaves/powdery_mildew/synthetic_103.jpg\n",
      "Processing image number: 104\n",
      "Selected random image for transformation: mildew_1659.jpg\n",
      "Saving transformed image to: inputs/mildew_dataset/cherry-leaves/powdery_mildew/synthetic_104.jpg\n",
      "Processing image number: 105\n",
      "Selected random image for transformation: mildew_1830.jpg\n",
      "Saving transformed image to: inputs/mildew_dataset/cherry-leaves/powdery_mildew/synthetic_105.jpg\n",
      "Processing image number: 106\n",
      "Selected random image for transformation: mildew_154.jpg\n",
      "Saving transformed image to: inputs/mildew_dataset/cherry-leaves/powdery_mildew/synthetic_106.jpg\n",
      "Processing image number: 107\n",
      "Selected random image for transformation: mildew_2345.jpg\n",
      "Saving transformed image to: inputs/mildew_dataset/cherry-leaves/powdery_mildew/synthetic_107.jpg\n",
      "Processing image number: 108\n",
      "Selected random image for transformation: mildew_907.jpg\n",
      "Saving transformed image to: inputs/mildew_dataset/cherry-leaves/powdery_mildew/synthetic_108.jpg\n",
      "Processing image number: 109\n",
      "Selected random image for transformation: mildew_1179.jpg\n",
      "Saving transformed image to: inputs/mildew_dataset/cherry-leaves/powdery_mildew/synthetic_109.jpg\n",
      "Processing image number: 110\n",
      "Selected random image for transformation: mildew_1707.jpg\n",
      "Saving transformed image to: inputs/mildew_dataset/cherry-leaves/powdery_mildew/synthetic_110.jpg\n",
      "Processing image number: 111\n",
      "Selected random image for transformation: mildew_2722.jpg\n",
      "Saving transformed image to: inputs/mildew_dataset/cherry-leaves/powdery_mildew/synthetic_111.jpg\n",
      "Processing image number: 112\n",
      "Selected random image for transformation: mildew_1346.jpg\n",
      "Saving transformed image to: inputs/mildew_dataset/cherry-leaves/powdery_mildew/synthetic_112.jpg\n",
      "Processing image number: 113\n",
      "Selected random image for transformation: mildew_57.jpg\n",
      "Saving transformed image to: inputs/mildew_dataset/cherry-leaves/powdery_mildew/synthetic_113.jpg\n",
      "Processing image number: 114\n",
      "Selected random image for transformation: mildew_1806.jpg\n",
      "Saving transformed image to: inputs/mildew_dataset/cherry-leaves/powdery_mildew/synthetic_114.jpg\n",
      "Processing image number: 115\n",
      "Selected random image for transformation: mildew_1213.jpg\n",
      "Saving transformed image to: inputs/mildew_dataset/cherry-leaves/powdery_mildew/synthetic_115.jpg\n",
      "Processing image number: 116\n",
      "Selected random image for transformation: mildew_48.jpg\n",
      "Saving transformed image to: inputs/mildew_dataset/cherry-leaves/powdery_mildew/synthetic_116.jpg\n",
      "Processing image number: 117\n",
      "Selected random image for transformation: synthetic_85.jpg\n",
      "Saving transformed image to: inputs/mildew_dataset/cherry-leaves/powdery_mildew/synthetic_117.jpg\n",
      "Processing image number: 118\n",
      "Selected random image for transformation: mildew_1730.jpg\n",
      "Saving transformed image to: inputs/mildew_dataset/cherry-leaves/powdery_mildew/synthetic_118.jpg\n",
      "Processing image number: 119\n",
      "Selected random image for transformation: mildew_486.jpg\n",
      "Saving transformed image to: inputs/mildew_dataset/cherry-leaves/powdery_mildew/synthetic_119.jpg\n",
      "Processing image number: 120\n",
      "Selected random image for transformation: mildew_2208.jpg\n",
      "Saving transformed image to: inputs/mildew_dataset/cherry-leaves/powdery_mildew/synthetic_120.jpg\n",
      "Processing image number: 121\n",
      "Selected random image for transformation: synthetic_82.jpg\n",
      "Saving transformed image to: inputs/mildew_dataset/cherry-leaves/powdery_mildew/synthetic_121.jpg\n",
      "Processing image number: 122\n",
      "Selected random image for transformation: mildew_113.jpg\n",
      "Saving transformed image to: inputs/mildew_dataset/cherry-leaves/powdery_mildew/synthetic_122.jpg\n",
      "Processing image number: 123\n",
      "Selected random image for transformation: mildew_2009.jpg\n",
      "Saving transformed image to: inputs/mildew_dataset/cherry-leaves/powdery_mildew/synthetic_123.jpg\n",
      "Processing image number: 124\n",
      "Selected random image for transformation: mildew_1393.jpg\n",
      "Saving transformed image to: inputs/mildew_dataset/cherry-leaves/powdery_mildew/synthetic_124.jpg\n",
      "Processing image number: 125\n",
      "Selected random image for transformation: mildew_531.jpg\n",
      "Saving transformed image to: inputs/mildew_dataset/cherry-leaves/powdery_mildew/synthetic_125.jpg\n",
      "Processing image number: 126\n",
      "Selected random image for transformation: mildew_90.jpg\n",
      "Saving transformed image to: inputs/mildew_dataset/cherry-leaves/powdery_mildew/synthetic_126.jpg\n",
      "Processing image number: 127\n",
      "Selected random image for transformation: mildew_2576.jpg\n",
      "Saving transformed image to: inputs/mildew_dataset/cherry-leaves/powdery_mildew/synthetic_127.jpg\n",
      "Processing image number: 128\n",
      "Selected random image for transformation: synthetic_47.jpg\n",
      "Saving transformed image to: inputs/mildew_dataset/cherry-leaves/powdery_mildew/synthetic_128.jpg\n",
      "Processing image number: 129\n",
      "Selected random image for transformation: synthetic_119.jpg\n",
      "Saving transformed image to: inputs/mildew_dataset/cherry-leaves/powdery_mildew/synthetic_129.jpg\n",
      "Processing image number: 130\n",
      "Selected random image for transformation: mildew_1792.jpg\n",
      "Saving transformed image to: inputs/mildew_dataset/cherry-leaves/powdery_mildew/synthetic_130.jpg\n",
      "Processing image number: 131\n",
      "Selected random image for transformation: mildew_1394.jpg\n",
      "Saving transformed image to: inputs/mildew_dataset/cherry-leaves/powdery_mildew/synthetic_131.jpg\n",
      "Processing image number: 132\n",
      "Selected random image for transformation: mildew_899.jpg\n",
      "Saving transformed image to: inputs/mildew_dataset/cherry-leaves/powdery_mildew/synthetic_132.jpg\n",
      "Processing image number: 133\n",
      "Selected random image for transformation: mildew_329.jpg\n",
      "Saving transformed image to: inputs/mildew_dataset/cherry-leaves/powdery_mildew/synthetic_133.jpg\n",
      "Processing image number: 134\n",
      "Selected random image for transformation: mildew_1652.jpg\n",
      "Saving transformed image to: inputs/mildew_dataset/cherry-leaves/powdery_mildew/synthetic_134.jpg\n",
      "Processing image number: 135\n",
      "Selected random image for transformation: mildew_2252.jpg\n",
      "Saving transformed image to: inputs/mildew_dataset/cherry-leaves/powdery_mildew/synthetic_135.jpg\n",
      "Processing image number: 136\n",
      "Selected random image for transformation: mildew_743.jpg\n",
      "Saving transformed image to: inputs/mildew_dataset/cherry-leaves/powdery_mildew/synthetic_136.jpg\n",
      "Processing image number: 137\n",
      "Selected random image for transformation: mildew_2642.jpg\n",
      "Saving transformed image to: inputs/mildew_dataset/cherry-leaves/powdery_mildew/synthetic_137.jpg\n",
      "Processing image number: 138\n",
      "Selected random image for transformation: synthetic_74.jpg\n",
      "Saving transformed image to: inputs/mildew_dataset/cherry-leaves/powdery_mildew/synthetic_138.jpg\n",
      "Processing image number: 139\n",
      "Selected random image for transformation: mildew_1612.jpg\n",
      "Saving transformed image to: inputs/mildew_dataset/cherry-leaves/powdery_mildew/synthetic_139.jpg\n",
      "Processing image number: 140\n",
      "Selected random image for transformation: mildew_560.jpg\n",
      "Saving transformed image to: inputs/mildew_dataset/cherry-leaves/powdery_mildew/synthetic_140.jpg\n",
      "Processing image number: 141\n",
      "Selected random image for transformation: mildew_805.jpg\n",
      "Saving transformed image to: inputs/mildew_dataset/cherry-leaves/powdery_mildew/synthetic_141.jpg\n",
      "Processing image number: 142\n",
      "Selected random image for transformation: mildew_2592.jpg\n",
      "Saving transformed image to: inputs/mildew_dataset/cherry-leaves/powdery_mildew/synthetic_142.jpg\n",
      "Processing image number: 143\n",
      "Selected random image for transformation: mildew_377.jpg\n",
      "Saving transformed image to: inputs/mildew_dataset/cherry-leaves/powdery_mildew/synthetic_143.jpg\n",
      "Processing image number: 144\n",
      "Selected random image for transformation: mildew_1319.jpg\n",
      "Saving transformed image to: inputs/mildew_dataset/cherry-leaves/powdery_mildew/synthetic_144.jpg\n",
      "Processing image number: 145\n",
      "Selected random image for transformation: mildew_1948.jpg\n",
      "Saving transformed image to: inputs/mildew_dataset/cherry-leaves/powdery_mildew/synthetic_145.jpg\n",
      "Processing image number: 146\n",
      "Selected random image for transformation: mildew_2720.jpg\n",
      "Saving transformed image to: inputs/mildew_dataset/cherry-leaves/powdery_mildew/synthetic_146.jpg\n",
      "Processing image number: 147\n",
      "Selected random image for transformation: mildew_1442.jpg\n",
      "Saving transformed image to: inputs/mildew_dataset/cherry-leaves/powdery_mildew/synthetic_147.jpg\n",
      "Processing image number: 148\n",
      "Selected random image for transformation: mildew_1596.jpg\n",
      "Saving transformed image to: inputs/mildew_dataset/cherry-leaves/powdery_mildew/synthetic_148.jpg\n",
      "Processing image number: 149\n",
      "Selected random image for transformation: mildew_2296.jpg\n",
      "Saving transformed image to: inputs/mildew_dataset/cherry-leaves/powdery_mildew/synthetic_149.jpg\n",
      "Processing image number: 150\n",
      "Selected random image for transformation: mildew_2134.jpg\n",
      "Saving transformed image to: inputs/mildew_dataset/cherry-leaves/powdery_mildew/synthetic_150.jpg\n",
      "Processing image number: 151\n",
      "Selected random image for transformation: mildew_2459.jpg\n",
      "Saving transformed image to: inputs/mildew_dataset/cherry-leaves/powdery_mildew/synthetic_151.jpg\n",
      "Processing image number: 152\n",
      "Selected random image for transformation: mildew_1576.jpg\n",
      "Saving transformed image to: inputs/mildew_dataset/cherry-leaves/powdery_mildew/synthetic_152.jpg\n",
      "Processing image number: 153\n",
      "Selected random image for transformation: mildew_1062.jpg\n",
      "Saving transformed image to: inputs/mildew_dataset/cherry-leaves/powdery_mildew/synthetic_153.jpg\n",
      "Processing image number: 154\n",
      "Selected random image for transformation: mildew_1551.jpg\n",
      "Saving transformed image to: inputs/mildew_dataset/cherry-leaves/powdery_mildew/synthetic_154.jpg\n",
      "Processing image number: 155\n",
      "Selected random image for transformation: mildew_979.jpg\n",
      "Saving transformed image to: inputs/mildew_dataset/cherry-leaves/powdery_mildew/synthetic_155.jpg\n",
      "Processing image number: 156\n",
      "Selected random image for transformation: mildew_1721.jpg\n",
      "Saving transformed image to: inputs/mildew_dataset/cherry-leaves/powdery_mildew/synthetic_156.jpg\n",
      "Processing image number: 157\n",
      "Selected random image for transformation: mildew_1751.jpg\n",
      "Saving transformed image to: inputs/mildew_dataset/cherry-leaves/powdery_mildew/synthetic_157.jpg\n",
      "Processing image number: 158\n",
      "Selected random image for transformation: synthetic_71.jpg\n",
      "Saving transformed image to: inputs/mildew_dataset/cherry-leaves/powdery_mildew/synthetic_158.jpg\n",
      "Processing image number: 159\n",
      "Selected random image for transformation: mildew_1094.jpg\n",
      "Saving transformed image to: inputs/mildew_dataset/cherry-leaves/powdery_mildew/synthetic_159.jpg\n",
      "Processing image number: 160\n",
      "Selected random image for transformation: mildew_1068.jpg\n",
      "Saving transformed image to: inputs/mildew_dataset/cherry-leaves/powdery_mildew/synthetic_160.jpg\n",
      "Processing image number: 161\n",
      "Selected random image for transformation: mildew_700.jpg\n",
      "Saving transformed image to: inputs/mildew_dataset/cherry-leaves/powdery_mildew/synthetic_161.jpg\n",
      "Processing image number: 162\n",
      "Selected random image for transformation: mildew_1388.jpg\n",
      "Saving transformed image to: inputs/mildew_dataset/cherry-leaves/powdery_mildew/synthetic_162.jpg\n",
      "Processing image number: 163\n",
      "Selected random image for transformation: mildew_2658.jpg\n",
      "Saving transformed image to: inputs/mildew_dataset/cherry-leaves/powdery_mildew/synthetic_163.jpg\n",
      "Processing image number: 164\n",
      "Selected random image for transformation: mildew_1530.jpg\n",
      "Saving transformed image to: inputs/mildew_dataset/cherry-leaves/powdery_mildew/synthetic_164.jpg\n",
      "Processing image number: 165\n",
      "Selected random image for transformation: mildew_2451.jpg\n",
      "Saving transformed image to: inputs/mildew_dataset/cherry-leaves/powdery_mildew/synthetic_165.jpg\n",
      "Processing image number: 166\n",
      "Selected random image for transformation: mildew_134.jpg\n",
      "Saving transformed image to: inputs/mildew_dataset/cherry-leaves/powdery_mildew/synthetic_166.jpg\n",
      "Processing image number: 167\n",
      "Selected random image for transformation: mildew_2146.jpg\n",
      "Saving transformed image to: inputs/mildew_dataset/cherry-leaves/powdery_mildew/synthetic_167.jpg\n",
      "Processing image number: 168\n",
      "Selected random image for transformation: mildew_2554.jpg\n",
      "Saving transformed image to: inputs/mildew_dataset/cherry-leaves/powdery_mildew/synthetic_168.jpg\n",
      "Processing image number: 169\n",
      "Selected random image for transformation: mildew_1423.jpg\n",
      "Saving transformed image to: inputs/mildew_dataset/cherry-leaves/powdery_mildew/synthetic_169.jpg\n",
      "Processing image number: 170\n",
      "Selected random image for transformation: mildew_603.jpg\n",
      "Saving transformed image to: inputs/mildew_dataset/cherry-leaves/powdery_mildew/synthetic_170.jpg\n",
      "Processing image number: 171\n",
      "Selected random image for transformation: mildew_313.jpg\n",
      "Saving transformed image to: inputs/mildew_dataset/cherry-leaves/powdery_mildew/synthetic_171.jpg\n",
      "Processing image number: 172\n",
      "Selected random image for transformation: mildew_1841.jpg\n",
      "Saving transformed image to: inputs/mildew_dataset/cherry-leaves/powdery_mildew/synthetic_172.jpg\n",
      "Processing image number: 173\n",
      "Selected random image for transformation: mildew_1028.jpg\n",
      "Saving transformed image to: inputs/mildew_dataset/cherry-leaves/powdery_mildew/synthetic_173.jpg\n",
      "Processing image number: 174\n",
      "Selected random image for transformation: mildew_2034.jpg\n",
      "Saving transformed image to: inputs/mildew_dataset/cherry-leaves/powdery_mildew/synthetic_174.jpg\n",
      "Processing image number: 175\n",
      "Selected random image for transformation: mildew_2400.jpg\n",
      "Saving transformed image to: inputs/mildew_dataset/cherry-leaves/powdery_mildew/synthetic_175.jpg\n",
      "Processing image number: 176\n",
      "Selected random image for transformation: mildew_1524.jpg\n",
      "Saving transformed image to: inputs/mildew_dataset/cherry-leaves/powdery_mildew/synthetic_176.jpg\n",
      "Processing image number: 177\n",
      "Selected random image for transformation: mildew_1313.jpg\n",
      "Saving transformed image to: inputs/mildew_dataset/cherry-leaves/powdery_mildew/synthetic_177.jpg\n",
      "Processing image number: 178\n",
      "Selected random image for transformation: mildew_1892.jpg\n",
      "Saving transformed image to: inputs/mildew_dataset/cherry-leaves/powdery_mildew/synthetic_178.jpg\n",
      "Processing image number: 179\n",
      "Selected random image for transformation: mildew_2506.jpg\n",
      "Saving transformed image to: inputs/mildew_dataset/cherry-leaves/powdery_mildew/synthetic_179.jpg\n",
      "Processing image number: 180\n",
      "Selected random image for transformation: mildew_1843.jpg\n",
      "Saving transformed image to: inputs/mildew_dataset/cherry-leaves/powdery_mildew/synthetic_180.jpg\n",
      "Processing image number: 181\n",
      "Selected random image for transformation: mildew_2445.jpg\n",
      "Saving transformed image to: inputs/mildew_dataset/cherry-leaves/powdery_mildew/synthetic_181.jpg\n",
      "Processing image number: 182\n",
      "Selected random image for transformation: mildew_1999.jpg\n",
      "Saving transformed image to: inputs/mildew_dataset/cherry-leaves/powdery_mildew/synthetic_182.jpg\n",
      "Processing image number: 183\n",
      "Selected random image for transformation: synthetic_162.jpg\n",
      "Saving transformed image to: inputs/mildew_dataset/cherry-leaves/powdery_mildew/synthetic_183.jpg\n",
      "Processing image number: 184\n",
      "Selected random image for transformation: mildew_332.jpg\n",
      "Saving transformed image to: inputs/mildew_dataset/cherry-leaves/powdery_mildew/synthetic_184.jpg\n",
      "Processing image number: 185\n",
      "Selected random image for transformation: mildew_1379.jpg\n",
      "Saving transformed image to: inputs/mildew_dataset/cherry-leaves/powdery_mildew/synthetic_185.jpg\n",
      "Processing image number: 186\n",
      "Selected random image for transformation: mildew_656.jpg\n",
      "Saving transformed image to: inputs/mildew_dataset/cherry-leaves/powdery_mildew/synthetic_186.jpg\n",
      "Processing image number: 187\n",
      "Selected random image for transformation: mildew_501.jpg\n",
      "Saving transformed image to: inputs/mildew_dataset/cherry-leaves/powdery_mildew/synthetic_187.jpg\n",
      "Processing image number: 188\n",
      "Selected random image for transformation: mildew_2631.jpg\n",
      "Saving transformed image to: inputs/mildew_dataset/cherry-leaves/powdery_mildew/synthetic_188.jpg\n",
      "Processing image number: 189\n",
      "Selected random image for transformation: mildew_1994.jpg\n",
      "Saving transformed image to: inputs/mildew_dataset/cherry-leaves/powdery_mildew/synthetic_189.jpg\n",
      "Processing image number: 190\n",
      "Selected random image for transformation: synthetic_101.jpg\n",
      "Saving transformed image to: inputs/mildew_dataset/cherry-leaves/powdery_mildew/synthetic_190.jpg\n",
      "Processing image number: 191\n",
      "Selected random image for transformation: mildew_963.jpg\n",
      "Saving transformed image to: inputs/mildew_dataset/cherry-leaves/powdery_mildew/synthetic_191.jpg\n",
      "Processing image number: 192\n",
      "Selected random image for transformation: mildew_1096.jpg\n",
      "Saving transformed image to: inputs/mildew_dataset/cherry-leaves/powdery_mildew/synthetic_192.jpg\n"
     ]
    }
   ],
   "source": [
    "from PIL import ImageEnhance\n",
    "\n",
    "for i in range(images_to_generate):\n",
    "    random_image = random.choice(os.listdir(folder_to_use))\n",
    "    transformed_image = random_transformation(os.path.join(folder_to_use, random_image))\n",
    "    save_path = f'{folder_to_use}/synthetic_{i}.jpg'\n",
    "    transformed_image.save(save_path)\n",
    "\n",
    "    print(f\"Processing image number: {i}\")\n",
    "    print(f\"Selected random image for transformation: {random_image}\")\n",
    "    print(f\"Saving transformed image to: {save_path}\")"
   ]
  },
  {
   "cell_type": "markdown",
   "metadata": {},
   "source": [
    "### Counting the updated number of files"
   ]
  },
  {
   "cell_type": "code",
   "execution_count": 16,
   "metadata": {},
   "outputs": [
    {
     "name": "stdout",
     "output_type": "stream",
     "text": [
      "2986\n",
      "2986\n"
     ]
    }
   ],
   "source": [
    "healthy_images_count = len(os.listdir('inputs/mildew_dataset/cherry-leaves/healthy'))\n",
    "mildew_images_count = len(os.listdir('inputs/mildew_dataset/cherry-leaves/powdery_mildew'))\n",
    "print(healthy_images_count)\n",
    "print(mildew_images_count)"
   ]
  },
  {
   "cell_type": "markdown",
   "metadata": {},
   "source": [
    "## 6. Scale down the sample images, to reduce cpu needed."
   ]
  },
  {
   "cell_type": "markdown",
   "metadata": {},
   "source": [
    "In this step, we will resize all images in both 'healthy' and 'mildew' folders to a smaller size. This reduces the computational load for future processing."
   ]
  },
  {
   "cell_type": "markdown",
   "metadata": {},
   "source": [
    "### Code Cell - Define Resizing Function:"
   ]
  },
  {
   "cell_type": "code",
   "execution_count": 17,
   "metadata": {},
   "outputs": [],
   "source": [
    "def resize_images(folder_path, output_size=(50, 50)):\n",
    "    for img_path in glob.glob(folder_path + '/*.jpg'):\n",
    "        img = Image.open(img_path)\n",
    "        img = img.resize(output_size, Image.Resampling.LANCZOS)\n",
    "        img.save(img_path)"
   ]
  },
  {
   "cell_type": "markdown",
   "metadata": {},
   "source": [
    "### Resize images in both folders"
   ]
  },
  {
   "cell_type": "code",
   "execution_count": 20,
   "metadata": {},
   "outputs": [],
   "source": [
    "healthy_folder_path = 'inputs/mildew_dataset/cherry-leaves/healthy'\n",
    "mildew_folder_path = 'inputs/mildew_dataset/cherry-leaves/powdery_mildew'\n",
    "resize_images(healthy_folder_path)\n",
    "resize_images(mildew_folder_path)"
   ]
  },
  {
   "cell_type": "markdown",
   "metadata": {},
   "source": [
    "### Checking the new size of the images."
   ]
  },
  {
   "cell_type": "code",
   "execution_count": 21,
   "metadata": {},
   "outputs": [
    {
     "name": "stdout",
     "output_type": "stream",
     "text": [
      "Selected Image: healthy_360.jpg\n",
      "Dimensions: 50x50\n",
      "Selected Image: mildew_2227.jpg\n",
      "Dimensions: 50x50\n"
     ]
    }
   ],
   "source": [
    "def check_random_image_dimensions(folder_path):\n",
    "    images = os.listdir(folder_path)\n",
    "    random_image = random.choice(images)\n",
    "    img_path = os.path.join(folder_path, random_image)\n",
    "    with Image.open(img_path) as img:\n",
    "        width, height = img.size\n",
    "        print(f\"Selected Image: {random_image}\")\n",
    "        print(f\"Dimensions: {width}x{height}\")\n",
    "\n",
    "check_random_image_dimensions(healthy_folder_path)\n",
    "check_random_image_dimensions(mildew_folder_path)"
   ]
  },
  {
   "cell_type": "markdown",
   "metadata": {},
   "source": [
    "## 7. Splitting Data into Training, Validation, and Test Sets"
   ]
  },
  {
   "cell_type": "markdown",
   "metadata": {},
   "source": [
    "Now, we will divide our images into training, validation, and test sets. This helps in model training, tuning, and evaluation."
   ]
  },
  {
   "cell_type": "markdown",
   "metadata": {},
   "source": [
    "### Code Cell - Define Splitting Function:"
   ]
  },
  {
   "cell_type": "code",
   "execution_count": 22,
   "metadata": {},
   "outputs": [],
   "source": [
    "def split_images_into_sets(my_data_dir, train_set_ratio, validation_set_ratio, test_set_ratio):\n",
    "    if train_set_ratio + validation_set_ratio + test_set_ratio != 1.0:\n",
    "        print(\"Sum of ratios must equal 1.0\")\n",
    "        return\n",
    "\n",
    "    labels = os.listdir(my_data_dir)\n",
    "    for label in labels:\n",
    "\n",
    "        for set_type in ['train', 'validation', 'test']:\n",
    "            os.makedirs(os.path.join(my_data_dir, set_type, label), exist_ok=True)\n",
    "        \n",
    "        files = os.listdir(os.path.join(my_data_dir, label))\n",
    "        random.shuffle(files)\n",
    "\n",
    "        train_set_files_qty = int(len(files) * train_set_ratio)\n",
    "        validation_set_files_qty = int(len(files) * validation_set_ratio)\n",
    "\n",
    "        for i, file in enumerate(files):\n",
    "            src_path = os.path.join(my_data_dir, label, file)\n",
    "            if i < train_set_files_qty:\n",
    "                dest_path = os.path.join(my_data_dir, 'train', label, file)\n",
    "            elif i < train_set_files_qty + validation_set_files_qty:\n",
    "                dest_path = os.path.join(my_data_dir, 'validation', label, file)\n",
    "            else:\n",
    "                dest_path = os.path.join(my_data_dir, 'test', label, file)\n",
    "            \n",
    "            shutil.move(src_path, dest_path)"
   ]
  },
  {
   "cell_type": "markdown",
   "metadata": {},
   "source": [
    "### Define Function to erase the original folders"
   ]
  },
  {
   "cell_type": "code",
   "execution_count": 23,
   "metadata": {},
   "outputs": [],
   "source": [
    "def remove_folder(path):\n",
    "    if os.path.exists(path):\n",
    "        shutil.rmtree(path)\n",
    "        print(f\"erased folder: {path}\")\n",
    "    else:\n",
    "        print(f\"this directory does not exist: {path}\")"
   ]
  },
  {
   "cell_type": "markdown",
   "metadata": {},
   "source": [
    "### Define the path to the folders to erase"
   ]
  },
  {
   "cell_type": "code",
   "execution_count": 24,
   "metadata": {},
   "outputs": [],
   "source": [
    "healthy_folder = \"inputs/mildew_dataset/cherry-leaves/healthy\"\n",
    "mildew_folder = \"inputs/mildew_dataset/cherry-leaves/powdery_mildew\""
   ]
  },
  {
   "cell_type": "markdown",
   "metadata": {},
   "source": [
    "### Code Cell - Execute Functions:"
   ]
  },
  {
   "cell_type": "code",
   "execution_count": 25,
   "metadata": {},
   "outputs": [],
   "source": [
    "split_images_into_sets(\n",
    "    my_data_dir='inputs/mildew_dataset/cherry-leaves',\n",
    "    train_set_ratio=0.7,\n",
    "    validation_set_ratio=0.1,\n",
    "    test_set_ratio=0.2\n",
    ")"
   ]
  },
  {
   "cell_type": "code",
   "execution_count": 26,
   "metadata": {},
   "outputs": [
    {
     "name": "stdout",
     "output_type": "stream",
     "text": [
      "erased folder: inputs/mildew_dataset/cherry-leaves/healthy\n",
      "erased folder: inputs/mildew_dataset/cherry-leaves/powdery_mildew\n"
     ]
    }
   ],
   "source": [
    "remove_folder(healthy_folder)\n",
    "remove_folder(mildew_folder)"
   ]
  },
  {
   "cell_type": "markdown",
   "metadata": {},
   "source": [
    "## 8. Image Labeling for Training"
   ]
  },
  {
   "cell_type": "markdown",
   "metadata": {},
   "source": [
    "Labeling Process Overview\n",
    "In this step, we'll label the cherry leaf images as 'healthy' or 'powdery mildew' based on their directory names. This labeling is crucial for the model to learn and differentiate between these two categories during the training process. The images are already segregated into distinct folders, simplifying this process. We'll ensure each image is associated with the correct label, forming the foundation for our CNN model training."
   ]
  },
  {
   "cell_type": "markdown",
   "metadata": {},
   "source": [
    "### Define Parameters:"
   ]
  },
  {
   "cell_type": "code",
   "execution_count": 27,
   "metadata": {},
   "outputs": [],
   "source": [
    "train_dir = 'inputs/mildew_dataset/cherry-leaves/train'\n",
    "validation_dir = 'inputs/mildew_dataset/cherry-leaves/validation'\n",
    "test_dir = 'inputs/mildew_dataset/cherry-leaves/test'\n",
    "\n",
    "img_width, img_height = 50, 50  # Adjusted image size\n",
    "batch_size = 20  # Adjusted batch size"
   ]
  },
  {
   "cell_type": "markdown",
   "metadata": {},
   "source": [
    "### Create ImageDataGenerators:"
   ]
  },
  {
   "cell_type": "code",
   "execution_count": 28,
   "metadata": {},
   "outputs": [
    {
     "ename": "NameError",
     "evalue": "name 'ImageDataGenerator' is not defined",
     "output_type": "error",
     "traceback": [
      "\u001b[0;31m---------------------------------------------------------------------------\u001b[0m",
      "\u001b[0;31mNameError\u001b[0m                                 Traceback (most recent call last)",
      "Cell \u001b[0;32mIn[28], line 1\u001b[0m\n\u001b[0;32m----> 1\u001b[0m train_datagen \u001b[38;5;241m=\u001b[39m \u001b[43mImageDataGenerator\u001b[49m(rescale\u001b[38;5;241m=\u001b[39m\u001b[38;5;241m1.\u001b[39m\u001b[38;5;241m/\u001b[39m\u001b[38;5;241m255\u001b[39m)\n\u001b[1;32m      2\u001b[0m validation_datagen \u001b[38;5;241m=\u001b[39m ImageDataGenerator(rescale\u001b[38;5;241m=\u001b[39m\u001b[38;5;241m1.\u001b[39m\u001b[38;5;241m/\u001b[39m\u001b[38;5;241m255\u001b[39m)\n\u001b[1;32m      3\u001b[0m test_datagen \u001b[38;5;241m=\u001b[39m ImageDataGenerator(rescale\u001b[38;5;241m=\u001b[39m\u001b[38;5;241m1.\u001b[39m\u001b[38;5;241m/\u001b[39m\u001b[38;5;241m255\u001b[39m)\n",
      "\u001b[0;31mNameError\u001b[0m: name 'ImageDataGenerator' is not defined"
     ]
    }
   ],
   "source": [
    "train_datagen = ImageDataGenerator(rescale=1./255)\n",
    "validation_datagen = ImageDataGenerator(rescale=1./255)\n",
    "test_datagen = ImageDataGenerator(rescale=1./255)"
   ]
  },
  {
   "cell_type": "markdown",
   "metadata": {},
   "source": [
    "### Flow Images from Directories:"
   ]
  },
  {
   "cell_type": "code",
   "execution_count": null,
   "metadata": {},
   "outputs": [],
   "source": [
    "train_generator = train_datagen.flow_from_directory( train_dir, target_size=(img_width, img_height), batch_size=batch_size, class_mode='binary')\n",
    "\n",
    "validation_generator = validation_datagen.flow_from_directory( validation_dir, target_size=(img_width, img_height), batch_size=batch_size, class_mode='binary')\n",
    "\n",
    "test_generator = test_datagen.flow_from_directory( test_dir, target_size=(img_width, img_height), batch_size=batch_size, class_mode='binary')"
   ]
  },
  {
   "cell_type": "code",
   "execution_count": null,
   "metadata": {},
   "outputs": [],
   "source": [
    "# Display class indices\n",
    "print(\"Train Set Class Indices:\", train_generator.class_indices)\n",
    "print(\"Validation Set Class Indices:\", validation_generator.class_indices)\n",
    "print(\"Test Set Class Indices:\", test_generator.class_indices)\n",
    "\n",
    "# Optional: Display some image batches with their labels\n",
    "for image_batch, label_batch in train_generator:\n",
    "    print(\"Image batch shape:\", image_batch.shape)\n",
    "    print(\"Label batch shape:\", label_batch.shape)\n",
    "    break  # Display only the first batch"
   ]
  },
  {
   "cell_type": "markdown",
   "metadata": {},
   "source": [
    "### Check the labels are correct"
   ]
  },
  {
   "cell_type": "code",
   "execution_count": null,
   "metadata": {},
   "outputs": [],
   "source": [
    "# Obtén un lote de imágenes y etiquetas del generador\n",
    "images, labels = next(train_generator)\n",
    "\n",
    "# Muestra las primeras 5 imágenes y etiquetas\n",
    "for i in range(5):\n",
    "    plt.imshow(images[i])\n",
    "    plt.title(labels[i])\n",
    "    plt.show()"
   ]
  },
  {
   "cell_type": "markdown",
   "metadata": {},
   "source": [
    "Due to system limitations, we have chosen to use a lower image resolution (50x50 pixels) for efficient processing and model training. This adjustment ensures smoother operation within the constraints of our computational resources.\n",
    "\n",
    "Furthermore, to streamline the training process for the Convolutional Neural Network (CNN), we have transformed the image labels into a binary format. In this schema, images labeled as 'powdery_mildew' are assigned the value '1', and those labeled as 'healthy' are assigned '0'. This binary labeling simplifies the classification task for the CNN, enabling more effective and straightforward model training."
   ]
  }
 ],
 "metadata": {
  "kernelspec": {
   "display_name": "Python 3 (ipykernel)",
   "language": "python",
   "name": "python3"
  },
  "language_info": {
   "codemirror_mode": {
    "name": "ipython",
    "version": 3
   },
   "file_extension": ".py",
   "mimetype": "text/x-python",
   "name": "python",
   "nbconvert_exporter": "python",
   "pygments_lexer": "ipython3",
   "version": "3.9.1"
  }
 },
 "nbformat": 4,
 "nbformat_minor": 4
}
