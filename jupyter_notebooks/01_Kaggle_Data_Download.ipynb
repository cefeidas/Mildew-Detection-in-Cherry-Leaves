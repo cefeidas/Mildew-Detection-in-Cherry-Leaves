{
 "cells": [
  {
   "cell_type": "markdown",
   "metadata": {},
   "source": [
    "# **Downloading Cherry Leaves Dataset from Kaggle**"
   ]
  },
  {
   "cell_type": "markdown",
   "metadata": {},
   "source": [
    "Objectives: Download the cherry leaves dataset from Kaggle.\n",
    "Inputs: Kaggle account and kaggle.json file with API credentials.\n",
    "Outputs: Downloaded dataset."
   ]
  },
  {
   "cell_type": "markdown",
   "metadata": {},
   "source": [
    "# Instructions for Downloading kaggle.json:\n"
   ]
  },
  {
   "cell_type": "markdown",
   "metadata": {},
   "source": [
    "## Change the working directory"
   ]
  },
  {
   "cell_type": "code",
   "execution_count": 15,
   "metadata": {},
   "outputs": [
    {
     "data": {
      "text/plain": [
       "'/workspaces/Mildew-Detection-in-Cherry-Leaves'"
      ]
     },
     "execution_count": 15,
     "metadata": {},
     "output_type": "execute_result"
    }
   ],
   "source": [
    "current_dir = os.getcwd()\n",
    "current_dir"
   ]
  },
  {
   "cell_type": "code",
   "execution_count": 16,
   "metadata": {},
   "outputs": [
    {
     "name": "stdout",
     "output_type": "stream",
     "text": [
      "You set a new current directory\n"
     ]
    }
   ],
   "source": [
    "os.chdir('/workspaces/Mildew-Detection-in-Cherry-Leaves')\n",
    "print(\"You set a new current directory\")"
   ]
  },
  {
   "cell_type": "code",
   "execution_count": 17,
   "metadata": {},
   "outputs": [
    {
     "data": {
      "text/plain": [
       "'/workspaces/Mildew-Detection-in-Cherry-Leaves'"
      ]
     },
     "execution_count": 17,
     "metadata": {},
     "output_type": "execute_result"
    }
   ],
   "source": [
    "current_dir = os.getcwd()\n",
    "current_dir"
   ]
  },
  {
   "cell_type": "markdown",
   "metadata": {},
   "source": [
    "## Install Kaggle"
   ]
  },
  {
   "cell_type": "code",
   "execution_count": 18,
   "metadata": {},
   "outputs": [
    {
     "name": "stdout",
     "output_type": "stream",
     "text": [
      "Requirement already satisfied: numpy==1.19.2 in /home/codeany/.local/lib/python3.8/site-packages (from -r /workspaces/Mildew-Detection-in-Cherry-Leaves/requirements.txt (line 1)) (1.19.2)\n",
      "Requirement already satisfied: pandas==1.1.2 in /home/codeany/.local/lib/python3.8/site-packages (from -r /workspaces/Mildew-Detection-in-Cherry-Leaves/requirements.txt (line 2)) (1.1.2)\n",
      "Requirement already satisfied: matplotlib==3.3.1 in /home/codeany/.local/lib/python3.8/site-packages (from -r /workspaces/Mildew-Detection-in-Cherry-Leaves/requirements.txt (line 3)) (3.3.1)\n",
      "Requirement already satisfied: seaborn==0.11.0 in /home/codeany/.local/lib/python3.8/site-packages (from -r /workspaces/Mildew-Detection-in-Cherry-Leaves/requirements.txt (line 4)) (0.11.0)\n",
      "Requirement already satisfied: plotly==4.12.0 in /home/codeany/.local/lib/python3.8/site-packages (from -r /workspaces/Mildew-Detection-in-Cherry-Leaves/requirements.txt (line 5)) (4.12.0)\n",
      "Requirement already satisfied: streamlit==0.85.0 in /home/codeany/.local/lib/python3.8/site-packages (from -r /workspaces/Mildew-Detection-in-Cherry-Leaves/requirements.txt (line 7)) (0.85.0)\n",
      "Requirement already satisfied: scikit-learn==0.24.2 in /home/codeany/.local/lib/python3.8/site-packages (from -r /workspaces/Mildew-Detection-in-Cherry-Leaves/requirements.txt (line 9)) (0.24.2)\n",
      "Requirement already satisfied: tensorflow-cpu==2.6.0 in /home/codeany/.local/lib/python3.8/site-packages (from -r /workspaces/Mildew-Detection-in-Cherry-Leaves/requirements.txt (line 10)) (2.6.0)\n",
      "Requirement already satisfied: keras==2.6.0 in /home/codeany/.local/lib/python3.8/site-packages (from -r /workspaces/Mildew-Detection-in-Cherry-Leaves/requirements.txt (line 11)) (2.6.0)\n",
      "Requirement already satisfied: protobuf==3.20 in /home/codeany/.local/lib/python3.8/site-packages (from -r /workspaces/Mildew-Detection-in-Cherry-Leaves/requirements.txt (line 12)) (3.20.0)\n",
      "Requirement already satisfied: altair<5 in /home/codeany/.local/lib/python3.8/site-packages (from -r /workspaces/Mildew-Detection-in-Cherry-Leaves/requirements.txt (line 13)) (4.2.2)\n",
      "Requirement already satisfied: python-dateutil>=2.7.3 in /home/codeany/.pyenv/versions/3.8.12/lib/python3.8/site-packages (from pandas==1.1.2->-r /workspaces/Mildew-Detection-in-Cherry-Leaves/requirements.txt (line 2)) (2.8.2)\n",
      "Requirement already satisfied: pytz>=2017.2 in /home/codeany/.pyenv/versions/3.8.12/lib/python3.8/site-packages (from pandas==1.1.2->-r /workspaces/Mildew-Detection-in-Cherry-Leaves/requirements.txt (line 2)) (2023.3.post1)\n",
      "Requirement already satisfied: certifi>=2020.06.20 in /home/codeany/.pyenv/versions/3.8.12/lib/python3.8/site-packages (from matplotlib==3.3.1->-r /workspaces/Mildew-Detection-in-Cherry-Leaves/requirements.txt (line 3)) (2023.7.22)\n",
      "Requirement already satisfied: cycler>=0.10 in /home/codeany/.local/lib/python3.8/site-packages (from matplotlib==3.3.1->-r /workspaces/Mildew-Detection-in-Cherry-Leaves/requirements.txt (line 3)) (0.12.1)\n",
      "Requirement already satisfied: kiwisolver>=1.0.1 in /home/codeany/.local/lib/python3.8/site-packages (from matplotlib==3.3.1->-r /workspaces/Mildew-Detection-in-Cherry-Leaves/requirements.txt (line 3)) (1.4.5)\n",
      "Requirement already satisfied: pillow>=6.2.0 in /home/codeany/.local/lib/python3.8/site-packages (from matplotlib==3.3.1->-r /workspaces/Mildew-Detection-in-Cherry-Leaves/requirements.txt (line 3)) (10.1.0)\n",
      "Requirement already satisfied: pyparsing!=2.0.4,!=2.1.2,!=2.1.6,>=2.0.3 in /home/codeany/.local/lib/python3.8/site-packages (from matplotlib==3.3.1->-r /workspaces/Mildew-Detection-in-Cherry-Leaves/requirements.txt (line 3)) (3.1.1)\n",
      "Requirement already satisfied: scipy>=1.0 in /home/codeany/.local/lib/python3.8/site-packages (from seaborn==0.11.0->-r /workspaces/Mildew-Detection-in-Cherry-Leaves/requirements.txt (line 4)) (1.9.3)\n",
      "Requirement already satisfied: retrying>=1.3.3 in /home/codeany/.local/lib/python3.8/site-packages (from plotly==4.12.0->-r /workspaces/Mildew-Detection-in-Cherry-Leaves/requirements.txt (line 5)) (1.3.4)\n",
      "Requirement already satisfied: six in /home/codeany/.local/lib/python3.8/site-packages (from plotly==4.12.0->-r /workspaces/Mildew-Detection-in-Cherry-Leaves/requirements.txt (line 5)) (1.15.0)\n",
      "Requirement already satisfied: astor in /home/codeany/.local/lib/python3.8/site-packages (from streamlit==0.85.0->-r /workspaces/Mildew-Detection-in-Cherry-Leaves/requirements.txt (line 7)) (0.8.1)\n",
      "Requirement already satisfied: attrs in /home/codeany/.pyenv/versions/3.8.12/lib/python3.8/site-packages (from streamlit==0.85.0->-r /workspaces/Mildew-Detection-in-Cherry-Leaves/requirements.txt (line 7)) (23.1.0)\n",
      "Requirement already satisfied: base58 in /home/codeany/.local/lib/python3.8/site-packages (from streamlit==0.85.0->-r /workspaces/Mildew-Detection-in-Cherry-Leaves/requirements.txt (line 7)) (2.1.1)\n",
      "Requirement already satisfied: blinker in /home/codeany/.local/lib/python3.8/site-packages (from streamlit==0.85.0->-r /workspaces/Mildew-Detection-in-Cherry-Leaves/requirements.txt (line 7)) (1.7.0)\n",
      "Requirement already satisfied: cachetools>=4.0 in /home/codeany/.local/lib/python3.8/site-packages (from streamlit==0.85.0->-r /workspaces/Mildew-Detection-in-Cherry-Leaves/requirements.txt (line 7)) (5.3.2)\n",
      "Requirement already satisfied: click<8.0,>=7.0 in /home/codeany/.local/lib/python3.8/site-packages (from streamlit==0.85.0->-r /workspaces/Mildew-Detection-in-Cherry-Leaves/requirements.txt (line 7)) (7.1.2)\n",
      "Requirement already satisfied: packaging in /home/codeany/.pyenv/versions/3.8.12/lib/python3.8/site-packages (from streamlit==0.85.0->-r /workspaces/Mildew-Detection-in-Cherry-Leaves/requirements.txt (line 7)) (23.2)\n",
      "Requirement already satisfied: pyarrow in /home/codeany/.local/lib/python3.8/site-packages (from streamlit==0.85.0->-r /workspaces/Mildew-Detection-in-Cherry-Leaves/requirements.txt (line 7)) (14.0.0)\n",
      "Requirement already satisfied: pydeck>=0.1.dev5 in /home/codeany/.local/lib/python3.8/site-packages (from streamlit==0.85.0->-r /workspaces/Mildew-Detection-in-Cherry-Leaves/requirements.txt (line 7)) (0.8.1b0)\n",
      "Requirement already satisfied: requests in /home/codeany/.pyenv/versions/3.8.12/lib/python3.8/site-packages (from streamlit==0.85.0->-r /workspaces/Mildew-Detection-in-Cherry-Leaves/requirements.txt (line 7)) (2.31.0)\n",
      "Requirement already satisfied: toml in /home/codeany/.local/lib/python3.8/site-packages (from streamlit==0.85.0->-r /workspaces/Mildew-Detection-in-Cherry-Leaves/requirements.txt (line 7)) (0.10.2)\n",
      "Requirement already satisfied: tornado>=5.0 in /home/codeany/.pyenv/versions/3.8.12/lib/python3.8/site-packages (from streamlit==0.85.0->-r /workspaces/Mildew-Detection-in-Cherry-Leaves/requirements.txt (line 7)) (6.3.3)\n",
      "Requirement already satisfied: tzlocal in /home/codeany/.local/lib/python3.8/site-packages (from streamlit==0.85.0->-r /workspaces/Mildew-Detection-in-Cherry-Leaves/requirements.txt (line 7)) (5.2)\n",
      "Requirement already satisfied: validators in /home/codeany/.local/lib/python3.8/site-packages (from streamlit==0.85.0->-r /workspaces/Mildew-Detection-in-Cherry-Leaves/requirements.txt (line 7)) (0.22.0)\n",
      "Requirement already satisfied: gitpython in /home/codeany/.pyenv/versions/3.8.12/lib/python3.8/site-packages (from streamlit==0.85.0->-r /workspaces/Mildew-Detection-in-Cherry-Leaves/requirements.txt (line 7)) (3.1.40)\n",
      "Requirement already satisfied: watchdog in /home/codeany/.local/lib/python3.8/site-packages (from streamlit==0.85.0->-r /workspaces/Mildew-Detection-in-Cherry-Leaves/requirements.txt (line 7)) (3.0.0)\n",
      "Requirement already satisfied: joblib>=0.11 in /home/codeany/.local/lib/python3.8/site-packages (from scikit-learn==0.24.2->-r /workspaces/Mildew-Detection-in-Cherry-Leaves/requirements.txt (line 9)) (1.3.2)\n",
      "Requirement already satisfied: threadpoolctl>=2.0.0 in /home/codeany/.local/lib/python3.8/site-packages (from scikit-learn==0.24.2->-r /workspaces/Mildew-Detection-in-Cherry-Leaves/requirements.txt (line 9)) (3.2.0)\n",
      "Requirement already satisfied: absl-py~=0.10 in /home/codeany/.local/lib/python3.8/site-packages (from tensorflow-cpu==2.6.0->-r /workspaces/Mildew-Detection-in-Cherry-Leaves/requirements.txt (line 10)) (0.15.0)\n",
      "Requirement already satisfied: astunparse~=1.6.3 in /home/codeany/.local/lib/python3.8/site-packages (from tensorflow-cpu==2.6.0->-r /workspaces/Mildew-Detection-in-Cherry-Leaves/requirements.txt (line 10)) (1.6.3)\n",
      "Requirement already satisfied: clang~=5.0 in /home/codeany/.local/lib/python3.8/site-packages (from tensorflow-cpu==2.6.0->-r /workspaces/Mildew-Detection-in-Cherry-Leaves/requirements.txt (line 10)) (5.0)\n",
      "Requirement already satisfied: flatbuffers~=1.12.0 in /home/codeany/.local/lib/python3.8/site-packages (from tensorflow-cpu==2.6.0->-r /workspaces/Mildew-Detection-in-Cherry-Leaves/requirements.txt (line 10)) (1.12)\n",
      "Requirement already satisfied: google-pasta~=0.2 in /home/codeany/.local/lib/python3.8/site-packages (from tensorflow-cpu==2.6.0->-r /workspaces/Mildew-Detection-in-Cherry-Leaves/requirements.txt (line 10)) (0.2.0)\n",
      "Requirement already satisfied: h5py~=3.1.0 in /home/codeany/.local/lib/python3.8/site-packages (from tensorflow-cpu==2.6.0->-r /workspaces/Mildew-Detection-in-Cherry-Leaves/requirements.txt (line 10)) (3.1.0)\n",
      "Requirement already satisfied: keras-preprocessing~=1.1.2 in /home/codeany/.local/lib/python3.8/site-packages (from tensorflow-cpu==2.6.0->-r /workspaces/Mildew-Detection-in-Cherry-Leaves/requirements.txt (line 10)) (1.1.2)\n",
      "Requirement already satisfied: opt-einsum~=3.3.0 in /home/codeany/.local/lib/python3.8/site-packages (from tensorflow-cpu==2.6.0->-r /workspaces/Mildew-Detection-in-Cherry-Leaves/requirements.txt (line 10)) (3.3.0)\n",
      "Requirement already satisfied: termcolor~=1.1.0 in /home/codeany/.local/lib/python3.8/site-packages (from tensorflow-cpu==2.6.0->-r /workspaces/Mildew-Detection-in-Cherry-Leaves/requirements.txt (line 10)) (1.1.0)\n",
      "Requirement already satisfied: typing-extensions~=3.7.4 in /home/codeany/.local/lib/python3.8/site-packages (from tensorflow-cpu==2.6.0->-r /workspaces/Mildew-Detection-in-Cherry-Leaves/requirements.txt (line 10)) (3.7.4.3)\n",
      "Requirement already satisfied: wheel~=0.35 in /home/codeany/.pyenv/versions/3.8.12/lib/python3.8/site-packages (from tensorflow-cpu==2.6.0->-r /workspaces/Mildew-Detection-in-Cherry-Leaves/requirements.txt (line 10)) (0.41.3)\n",
      "Requirement already satisfied: wrapt~=1.12.1 in /home/codeany/.local/lib/python3.8/site-packages (from tensorflow-cpu==2.6.0->-r /workspaces/Mildew-Detection-in-Cherry-Leaves/requirements.txt (line 10)) (1.12.1)\n",
      "Requirement already satisfied: gast==0.4.0 in /home/codeany/.local/lib/python3.8/site-packages (from tensorflow-cpu==2.6.0->-r /workspaces/Mildew-Detection-in-Cherry-Leaves/requirements.txt (line 10)) (0.4.0)\n",
      "Requirement already satisfied: tensorboard~=2.6 in /home/codeany/.local/lib/python3.8/site-packages (from tensorflow-cpu==2.6.0->-r /workspaces/Mildew-Detection-in-Cherry-Leaves/requirements.txt (line 10)) (2.13.0)\n",
      "Requirement already satisfied: tensorflow-estimator~=2.6 in /home/codeany/.local/lib/python3.8/site-packages (from tensorflow-cpu==2.6.0->-r /workspaces/Mildew-Detection-in-Cherry-Leaves/requirements.txt (line 10)) (2.13.0)\n",
      "Requirement already satisfied: grpcio<2.0,>=1.37.0 in /home/codeany/.local/lib/python3.8/site-packages (from tensorflow-cpu==2.6.0->-r /workspaces/Mildew-Detection-in-Cherry-Leaves/requirements.txt (line 10)) (1.59.2)\n",
      "Requirement already satisfied: entrypoints in /home/codeany/.local/lib/python3.8/site-packages (from altair<5->-r /workspaces/Mildew-Detection-in-Cherry-Leaves/requirements.txt (line 13)) (0.4)\n",
      "Requirement already satisfied: jinja2 in /home/codeany/.pyenv/versions/3.8.12/lib/python3.8/site-packages (from altair<5->-r /workspaces/Mildew-Detection-in-Cherry-Leaves/requirements.txt (line 13)) (3.1.2)\n",
      "Requirement already satisfied: jsonschema>=3.0 in /home/codeany/.pyenv/versions/3.8.12/lib/python3.8/site-packages (from altair<5->-r /workspaces/Mildew-Detection-in-Cherry-Leaves/requirements.txt (line 13)) (4.19.2)\n",
      "Requirement already satisfied: toolz in /home/codeany/.local/lib/python3.8/site-packages (from altair<5->-r /workspaces/Mildew-Detection-in-Cherry-Leaves/requirements.txt (line 13)) (0.12.0)\n",
      "Requirement already satisfied: importlib-resources>=1.4.0 in /home/codeany/.pyenv/versions/3.8.12/lib/python3.8/site-packages (from jsonschema>=3.0->altair<5->-r /workspaces/Mildew-Detection-in-Cherry-Leaves/requirements.txt (line 13)) (6.1.1)\n",
      "Requirement already satisfied: jsonschema-specifications>=2023.03.6 in /home/codeany/.pyenv/versions/3.8.12/lib/python3.8/site-packages (from jsonschema>=3.0->altair<5->-r /workspaces/Mildew-Detection-in-Cherry-Leaves/requirements.txt (line 13)) (2023.7.1)\n",
      "Requirement already satisfied: pkgutil-resolve-name>=1.3.10 in /home/codeany/.pyenv/versions/3.8.12/lib/python3.8/site-packages (from jsonschema>=3.0->altair<5->-r /workspaces/Mildew-Detection-in-Cherry-Leaves/requirements.txt (line 13)) (1.3.10)\n",
      "Requirement already satisfied: referencing>=0.28.4 in /home/codeany/.pyenv/versions/3.8.12/lib/python3.8/site-packages (from jsonschema>=3.0->altair<5->-r /workspaces/Mildew-Detection-in-Cherry-Leaves/requirements.txt (line 13)) (0.30.2)\n",
      "Requirement already satisfied: rpds-py>=0.7.1 in /home/codeany/.pyenv/versions/3.8.12/lib/python3.8/site-packages (from jsonschema>=3.0->altair<5->-r /workspaces/Mildew-Detection-in-Cherry-Leaves/requirements.txt (line 13)) (0.12.0)\n",
      "Requirement already satisfied: MarkupSafe>=2.0 in /home/codeany/.pyenv/versions/3.8.12/lib/python3.8/site-packages (from jinja2->altair<5->-r /workspaces/Mildew-Detection-in-Cherry-Leaves/requirements.txt (line 13)) (2.1.3)\n",
      "Requirement already satisfied: google-auth<3,>=1.6.3 in /home/codeany/.local/lib/python3.8/site-packages (from tensorboard~=2.6->tensorflow-cpu==2.6.0->-r /workspaces/Mildew-Detection-in-Cherry-Leaves/requirements.txt (line 10)) (2.23.4)\n",
      "Requirement already satisfied: google-auth-oauthlib<1.1,>=0.5 in /home/codeany/.local/lib/python3.8/site-packages (from tensorboard~=2.6->tensorflow-cpu==2.6.0->-r /workspaces/Mildew-Detection-in-Cherry-Leaves/requirements.txt (line 10)) (1.0.0)\n",
      "Requirement already satisfied: markdown>=2.6.8 in /home/codeany/.local/lib/python3.8/site-packages (from tensorboard~=2.6->tensorflow-cpu==2.6.0->-r /workspaces/Mildew-Detection-in-Cherry-Leaves/requirements.txt (line 10)) (3.5.1)\n",
      "Requirement already satisfied: setuptools>=41.0.0 in /home/codeany/.pyenv/versions/3.8.12/lib/python3.8/site-packages (from tensorboard~=2.6->tensorflow-cpu==2.6.0->-r /workspaces/Mildew-Detection-in-Cherry-Leaves/requirements.txt (line 10)) (68.2.2)\n",
      "Requirement already satisfied: tensorboard-data-server<0.8.0,>=0.7.0 in /home/codeany/.local/lib/python3.8/site-packages (from tensorboard~=2.6->tensorflow-cpu==2.6.0->-r /workspaces/Mildew-Detection-in-Cherry-Leaves/requirements.txt (line 10)) (0.7.2)\n",
      "Requirement already satisfied: werkzeug>=1.0.1 in /home/codeany/.local/lib/python3.8/site-packages (from tensorboard~=2.6->tensorflow-cpu==2.6.0->-r /workspaces/Mildew-Detection-in-Cherry-Leaves/requirements.txt (line 10)) (3.0.1)\n",
      "Requirement already satisfied: charset-normalizer<4,>=2 in /home/codeany/.pyenv/versions/3.8.12/lib/python3.8/site-packages (from requests->streamlit==0.85.0->-r /workspaces/Mildew-Detection-in-Cherry-Leaves/requirements.txt (line 7)) (3.3.2)\n",
      "Requirement already satisfied: idna<4,>=2.5 in /home/codeany/.pyenv/versions/3.8.12/lib/python3.8/site-packages (from requests->streamlit==0.85.0->-r /workspaces/Mildew-Detection-in-Cherry-Leaves/requirements.txt (line 7)) (3.4)\n",
      "Requirement already satisfied: urllib3<3,>=1.21.1 in /home/codeany/.pyenv/versions/3.8.12/lib/python3.8/site-packages (from requests->streamlit==0.85.0->-r /workspaces/Mildew-Detection-in-Cherry-Leaves/requirements.txt (line 7)) (2.0.7)\n",
      "Requirement already satisfied: gitdb<5,>=4.0.1 in /home/codeany/.pyenv/versions/3.8.12/lib/python3.8/site-packages (from gitpython->streamlit==0.85.0->-r /workspaces/Mildew-Detection-in-Cherry-Leaves/requirements.txt (line 7)) (4.0.11)\n",
      "Requirement already satisfied: backports.zoneinfo in /home/codeany/.local/lib/python3.8/site-packages (from tzlocal->streamlit==0.85.0->-r /workspaces/Mildew-Detection-in-Cherry-Leaves/requirements.txt (line 7)) (0.2.1)\n",
      "Requirement already satisfied: smmap<6,>=3.0.1 in /home/codeany/.pyenv/versions/3.8.12/lib/python3.8/site-packages (from gitdb<5,>=4.0.1->gitpython->streamlit==0.85.0->-r /workspaces/Mildew-Detection-in-Cherry-Leaves/requirements.txt (line 7)) (5.0.1)\n",
      "Requirement already satisfied: pyasn1-modules>=0.2.1 in /home/codeany/.local/lib/python3.8/site-packages (from google-auth<3,>=1.6.3->tensorboard~=2.6->tensorflow-cpu==2.6.0->-r /workspaces/Mildew-Detection-in-Cherry-Leaves/requirements.txt (line 10)) (0.3.0)\n",
      "Requirement already satisfied: rsa<5,>=3.1.4 in /home/codeany/.local/lib/python3.8/site-packages (from google-auth<3,>=1.6.3->tensorboard~=2.6->tensorflow-cpu==2.6.0->-r /workspaces/Mildew-Detection-in-Cherry-Leaves/requirements.txt (line 10)) (4.9)\n",
      "Requirement already satisfied: requests-oauthlib>=0.7.0 in /home/codeany/.local/lib/python3.8/site-packages (from google-auth-oauthlib<1.1,>=0.5->tensorboard~=2.6->tensorflow-cpu==2.6.0->-r /workspaces/Mildew-Detection-in-Cherry-Leaves/requirements.txt (line 10)) (1.3.1)\n",
      "Requirement already satisfied: zipp>=3.1.0 in /home/codeany/.pyenv/versions/3.8.12/lib/python3.8/site-packages (from importlib-resources>=1.4.0->jsonschema>=3.0->altair<5->-r /workspaces/Mildew-Detection-in-Cherry-Leaves/requirements.txt (line 13)) (3.17.0)\n",
      "Requirement already satisfied: importlib-metadata>=4.4 in /home/codeany/.pyenv/versions/3.8.12/lib/python3.8/site-packages (from markdown>=2.6.8->tensorboard~=2.6->tensorflow-cpu==2.6.0->-r /workspaces/Mildew-Detection-in-Cherry-Leaves/requirements.txt (line 10)) (6.8.0)\n",
      "Requirement already satisfied: pyasn1<0.6.0,>=0.4.6 in /home/codeany/.local/lib/python3.8/site-packages (from pyasn1-modules>=0.2.1->google-auth<3,>=1.6.3->tensorboard~=2.6->tensorflow-cpu==2.6.0->-r /workspaces/Mildew-Detection-in-Cherry-Leaves/requirements.txt (line 10)) (0.5.0)\n",
      "Requirement already satisfied: oauthlib>=3.0.0 in /home/codeany/.local/lib/python3.8/site-packages (from requests-oauthlib>=0.7.0->google-auth-oauthlib<1.1,>=0.5->tensorboard~=2.6->tensorflow-cpu==2.6.0->-r /workspaces/Mildew-Detection-in-Cherry-Leaves/requirements.txt (line 10)) (3.2.2)\n",
      "Note: you may need to restart the kernel to use updated packages.\n",
      "Requirement already satisfied: kaggle==1.5.12 in /home/codeany/.local/lib/python3.8/site-packages (1.5.12)\n",
      "Requirement already satisfied: six>=1.10 in /home/codeany/.local/lib/python3.8/site-packages (from kaggle==1.5.12) (1.15.0)\n",
      "Requirement already satisfied: certifi in /home/codeany/.pyenv/versions/3.8.12/lib/python3.8/site-packages (from kaggle==1.5.12) (2023.7.22)\n",
      "Requirement already satisfied: python-dateutil in /home/codeany/.pyenv/versions/3.8.12/lib/python3.8/site-packages (from kaggle==1.5.12) (2.8.2)\n",
      "Requirement already satisfied: requests in /home/codeany/.pyenv/versions/3.8.12/lib/python3.8/site-packages (from kaggle==1.5.12) (2.31.0)\n",
      "Requirement already satisfied: tqdm in /home/codeany/.local/lib/python3.8/site-packages (from kaggle==1.5.12) (4.66.1)\n",
      "Requirement already satisfied: python-slugify in /home/codeany/.local/lib/python3.8/site-packages (from kaggle==1.5.12) (8.0.1)\n",
      "Requirement already satisfied: urllib3 in /home/codeany/.pyenv/versions/3.8.12/lib/python3.8/site-packages (from kaggle==1.5.12) (2.0.7)\n",
      "Requirement already satisfied: text-unidecode>=1.3 in /home/codeany/.local/lib/python3.8/site-packages (from python-slugify->kaggle==1.5.12) (1.3)\n",
      "Requirement already satisfied: charset-normalizer<4,>=2 in /home/codeany/.pyenv/versions/3.8.12/lib/python3.8/site-packages (from requests->kaggle==1.5.12) (3.3.2)\n",
      "Requirement already satisfied: idna<4,>=2.5 in /home/codeany/.pyenv/versions/3.8.12/lib/python3.8/site-packages (from requests->kaggle==1.5.12) (3.4)\n",
      "Note: you may need to restart the kernel to use updated packages.\n"
     ]
    }
   ],
   "source": [
    "%pip install -r /workspaces/Mildew-Detection-in-Cherry-Leaves/requirements.txt\n",
    "%pip install kaggle==1.5.12"
   ]
  },
  {
   "cell_type": "code",
   "execution_count": 19,
   "metadata": {},
   "outputs": [],
   "source": [
    "os.environ['KAGGLE_CONFIG_DIR'] = os.getcwd()\n",
    "! chmod 600 kaggle.json"
   ]
  },
  {
   "cell_type": "markdown",
   "metadata": {},
   "source": [
    "## Import libraries"
   ]
  },
  {
   "cell_type": "code",
   "execution_count": 20,
   "metadata": {},
   "outputs": [],
   "source": [
    "import os\n",
    "import zipfile"
   ]
  },
  {
   "cell_type": "markdown",
   "metadata": {},
   "source": [
    "## Download the dataset"
   ]
  },
  {
   "cell_type": "code",
   "execution_count": 21,
   "metadata": {},
   "outputs": [
    {
     "name": "stdout",
     "output_type": "stream",
     "text": [
      "usage: kaggle datasets download [-h] [-f FILE_NAME] [-p PATH] [-w] [--unzip]\n",
      "                                [-o] [-q]\n",
      "                                [dataset]\n",
      "kaggle datasets download: error: argument -d/--dataset: expected one argument\n"
     ]
    }
   ],
   "source": [
    "KaggleDatasetPath = \"\"\n",
    "DestinationFolder = \"inputs/mildew_dataset\"   \n",
    "! kaggle datasets download -d {KaggleDatasetPath} -p {DestinationFolder}"
   ]
  },
  {
   "cell_type": "markdown",
   "metadata": {},
   "source": [
    "Unzip the downloaded file, and delete the zip file."
   ]
  },
  {
   "cell_type": "code",
   "execution_count": 22,
   "metadata": {},
   "outputs": [
    {
     "ename": "FileNotFoundError",
     "evalue": "[Errno 2] No such file or directory: 'inputs/mildew_dataset/mildew-leaf-classification.zip'",
     "output_type": "error",
     "traceback": [
      "\u001b[0;31m---------------------------------------------------------------------------\u001b[0m",
      "\u001b[0;31mFileNotFoundError\u001b[0m                         Traceback (most recent call last)",
      "Cell \u001b[0;32mIn[22], line 2\u001b[0m\n\u001b[1;32m      1\u001b[0m \u001b[38;5;28;01mimport\u001b[39;00m \u001b[38;5;21;01mzipfile\u001b[39;00m\n\u001b[0;32m----> 2\u001b[0m \u001b[38;5;28;01mwith\u001b[39;00m \u001b[43mzipfile\u001b[49m\u001b[38;5;241;43m.\u001b[39;49m\u001b[43mZipFile\u001b[49m\u001b[43m(\u001b[49m\u001b[43mDestinationFolder\u001b[49m\u001b[43m \u001b[49m\u001b[38;5;241;43m+\u001b[39;49m\u001b[43m \u001b[49m\u001b[38;5;124;43m'\u001b[39;49m\u001b[38;5;124;43m/mildew-leaf-classification.zip\u001b[39;49m\u001b[38;5;124;43m'\u001b[39;49m\u001b[43m,\u001b[49m\u001b[43m \u001b[49m\u001b[38;5;124;43m'\u001b[39;49m\u001b[38;5;124;43mr\u001b[39;49m\u001b[38;5;124;43m'\u001b[39;49m\u001b[43m)\u001b[49m \u001b[38;5;28;01mas\u001b[39;00m zip_ref:\n\u001b[1;32m      3\u001b[0m     zip_ref\u001b[38;5;241m.\u001b[39mextractall(DestinationFolder)\n\u001b[1;32m      5\u001b[0m os\u001b[38;5;241m.\u001b[39mremove(DestinationFolder \u001b[38;5;241m+\u001b[39m \u001b[38;5;124m'\u001b[39m\u001b[38;5;124m/mildew-leaf-classification.zip\u001b[39m\u001b[38;5;124m'\u001b[39m)\n",
      "File \u001b[0;32m~/.pyenv/versions/3.8.12/lib/python3.8/zipfile.py:1251\u001b[0m, in \u001b[0;36mZipFile.__init__\u001b[0;34m(self, file, mode, compression, allowZip64, compresslevel, strict_timestamps)\u001b[0m\n\u001b[1;32m   1249\u001b[0m \u001b[38;5;28;01mwhile\u001b[39;00m \u001b[38;5;28;01mTrue\u001b[39;00m:\n\u001b[1;32m   1250\u001b[0m     \u001b[38;5;28;01mtry\u001b[39;00m:\n\u001b[0;32m-> 1251\u001b[0m         \u001b[38;5;28mself\u001b[39m\u001b[38;5;241m.\u001b[39mfp \u001b[38;5;241m=\u001b[39m \u001b[43mio\u001b[49m\u001b[38;5;241;43m.\u001b[39;49m\u001b[43mopen\u001b[49m\u001b[43m(\u001b[49m\u001b[43mfile\u001b[49m\u001b[43m,\u001b[49m\u001b[43m \u001b[49m\u001b[43mfilemode\u001b[49m\u001b[43m)\u001b[49m\n\u001b[1;32m   1252\u001b[0m     \u001b[38;5;28;01mexcept\u001b[39;00m \u001b[38;5;167;01mOSError\u001b[39;00m:\n\u001b[1;32m   1253\u001b[0m         \u001b[38;5;28;01mif\u001b[39;00m filemode \u001b[38;5;129;01min\u001b[39;00m modeDict:\n",
      "\u001b[0;31mFileNotFoundError\u001b[0m: [Errno 2] No such file or directory: 'inputs/mildew_dataset/mildew-leaf-classification.zip'"
     ]
    }
   ],
   "source": [
    "import zipfile\n",
    "with zipfile.ZipFile(DestinationFolder + '/mildew-leaf-classification.zip', 'r') as zip_ref:\n",
    "    zip_ref.extractall(DestinationFolder)\n",
    "\n",
    "os.remove(DestinationFolder + '/mildew-leaf-classification.zip')"
   ]
  },
  {
   "cell_type": "code",
   "execution_count": null,
   "metadata": {},
   "outputs": [],
   "source": []
  }
 ],
 "metadata": {
  "kernelspec": {
   "display_name": "Python 3 (ipykernel)",
   "language": "python",
   "name": "python3"
  },
  "language_info": {
   "codemirror_mode": {
    "name": "ipython",
    "version": 3
   },
   "file_extension": ".py",
   "mimetype": "text/x-python",
   "name": "python",
   "nbconvert_exporter": "python",
   "pygments_lexer": "ipython3",
   "version": "3.8.12"
  }
 },
 "nbformat": 4,
 "nbformat_minor": 4
}
