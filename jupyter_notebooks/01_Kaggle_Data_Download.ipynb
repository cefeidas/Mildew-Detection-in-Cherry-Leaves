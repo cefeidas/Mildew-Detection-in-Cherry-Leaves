{
 "cells": [
  {
   "cell_type": "markdown",
   "metadata": {},
   "source": [
    "# **Downloading Cherry Leaves Dataset from Kaggle**"
   ]
  },
  {
   "cell_type": "markdown",
   "metadata": {},
   "source": [
    "This Jupyter Notebook is dedicated to downloading the Cherry Leaves dataset from Kaggle. The process involves setting up the Kaggle API, changing the working directory, and ensuring the dataset is correctly downloaded to our local environment. \n",
    "\n",
    "Key steps include:\n",
    "1. Importing necessary libraries.\n",
    "2. Changing the working directory to the project folder.\n",
    "3. Installing Kaggle and setting up API credentials.\n",
    "4. Downloading the dataset from Kaggle."
   ]
  },
  {
   "cell_type": "markdown",
   "metadata": {},
   "source": [
    "Objectives: Download the cherry leaves dataset from Kaggle.\n",
    "Inputs: Kaggle account and kaggle.json file with API credentials.\n",
    "Outputs: Downloaded dataset."
   ]
  },
  {
   "cell_type": "markdown",
   "metadata": {},
   "source": [
    "# Instructions for Downloading kaggle.json:\n"
   ]
  },
  {
   "cell_type": "markdown",
   "metadata": {},
   "source": [
    "## Import libraries"
   ]
  },
  {
   "cell_type": "code",
   "execution_count": 1,
   "metadata": {},
   "outputs": [
    {
     "name": "stdout",
     "output_type": "stream",
     "text": [
      "Libraries imported successfully.\n"
     ]
    }
   ],
   "source": [
    "import os\n",
    "print(\"Libraries imported successfully.\")"
   ]
  },
  {
   "cell_type": "markdown",
   "metadata": {},
   "source": [
    "## Change the working directory"
   ]
  },
  {
   "cell_type": "code",
   "execution_count": 2,
   "metadata": {},
   "outputs": [
    {
     "name": "stdout",
     "output_type": "stream",
     "text": [
      "Current directory before change: /workspace/Mildew-Detection-in-Cherry-Leaves/jupyter_notebooks\n"
     ]
    }
   ],
   "source": [
    "current_dir = os.getcwd()\n",
    "print(f\"Current directory before change: {current_dir}\")"
   ]
  },
  {
   "cell_type": "code",
   "execution_count": 3,
   "metadata": {},
   "outputs": [
    {
     "name": "stdout",
     "output_type": "stream",
     "text": [
      "Working directory changed to '/workspaces/Mildew-Detection-in-Cherry-Leaves'\n"
     ]
    }
   ],
   "source": [
    "os.chdir(\"..\")\n",
    "current_dir = os.getcwd()\n",
    "print(\"Working directory changed to '/workspaces/Mildew-Detection-in-Cherry-Leaves'\")"
   ]
  },
  {
   "cell_type": "markdown",
   "metadata": {},
   "source": [
    "## Install Kaggle"
   ]
  },
  {
   "cell_type": "markdown",
   "metadata": {},
   "source": [
    "### Objectives:\r\n",
    "Install Kaggle library version 1.5.12 and set up the Kaggle configuration directory.y."
   ]
  },
  {
   "cell_type": "markdown",
   "metadata": {},
   "source": [
    "### Instructions:\r\n",
    "1. Install Kaggle library version 1.5.12.\r\n",
    "2. Set the Kaggle configuration directory."
   ]
  },
  {
   "cell_type": "markdown",
   "metadata": {},
   "source": [
    "### Install Kaggle library"
   ]
  },
  {
   "cell_type": "code",
   "execution_count": 4,
   "metadata": {},
   "outputs": [
    {
     "name": "stdout",
     "output_type": "stream",
     "text": [
      "Requirement already satisfied: kaggle==1.5.12 in /workspace/.pyenv_mirror/fakeroot/versions/3.9.1/lib/python3.9/site-packages (1.5.12)\n",
      "Requirement already satisfied: python-slugify in /workspace/.pyenv_mirror/fakeroot/versions/3.9.1/lib/python3.9/site-packages (from kaggle==1.5.12) (8.0.1)\n",
      "Requirement already satisfied: requests in /workspace/.pyenv_mirror/user/current/lib/python3.9/site-packages (from kaggle==1.5.12) (2.31.0)\n",
      "Requirement already satisfied: certifi in /workspace/.pyenv_mirror/user/current/lib/python3.9/site-packages (from kaggle==1.5.12) (2023.11.17)\n",
      "Requirement already satisfied: urllib3 in /workspace/.pyenv_mirror/user/current/lib/python3.9/site-packages (from kaggle==1.5.12) (2.1.0)\n",
      "Requirement already satisfied: tqdm in /workspace/.pyenv_mirror/fakeroot/versions/3.9.1/lib/python3.9/site-packages (from kaggle==1.5.12) (4.66.1)\n",
      "Requirement already satisfied: six>=1.10 in /workspace/.pyenv_mirror/user/current/lib/python3.9/site-packages (from kaggle==1.5.12) (1.16.0)\n",
      "Requirement already satisfied: python-dateutil in /workspace/.pyenv_mirror/user/current/lib/python3.9/site-packages (from kaggle==1.5.12) (2.8.2)\n",
      "Requirement already satisfied: text-unidecode>=1.3 in /workspace/.pyenv_mirror/fakeroot/versions/3.9.1/lib/python3.9/site-packages (from python-slugify->kaggle==1.5.12) (1.3)\n",
      "Requirement already satisfied: idna<4,>=2.5 in /workspace/.pyenv_mirror/user/current/lib/python3.9/site-packages (from requests->kaggle==1.5.12) (3.6)\n",
      "Requirement already satisfied: charset-normalizer<4,>=2 in /workspace/.pyenv_mirror/user/current/lib/python3.9/site-packages (from requests->kaggle==1.5.12) (3.3.2)\n",
      "\u001b[33mWARNING: You are using pip version 20.2.3; however, version 23.3.2 is available.\n",
      "You should consider upgrading via the '/workspace/.pyenv_mirror/fakeroot/versions/3.9.1/bin/python3.9 -m pip install --upgrade pip' command.\u001b[0m\n",
      "Note: you may need to restart the kernel to use updated packages.\n",
      "Kaggle library installed successfully.\n"
     ]
    }
   ],
   "source": [
    "%pip install kaggle==1.5.12\n",
    "print(\"Kaggle library installed successfully.\")"
   ]
  },
  {
   "cell_type": "markdown",
   "metadata": {},
   "source": [
    "### Set environment variable for Kaggle"
   ]
  },
  {
   "cell_type": "code",
   "execution_count": 5,
   "metadata": {},
   "outputs": [
    {
     "name": "stdout",
     "output_type": "stream",
     "text": [
      "Kaggle configuration and file permissions set successfully.\n"
     ]
    }
   ],
   "source": [
    "os.environ['KAGGLE_CONFIG_DIR'] = os.getcwd()\n",
    "! chmod 600 kaggle.json\n",
    "print(\"Kaggle configuration and file permissions set successfully.\")"
   ]
  },
  {
   "cell_type": "markdown",
   "metadata": {},
   "source": [
    "## Download the dataset"
   ]
  },
  {
   "cell_type": "code",
   "execution_count": 6,
   "metadata": {},
   "outputs": [
    {
     "name": "stdout",
     "output_type": "stream",
     "text": [
      "Downloading cherry-leaves.zip to inputs/mildew_dataset\n",
      " 89%|█████████████████████████████████▋    | 67.0M/75.7M [00:00<00:00, 92.9MB/s]\n",
      "100%|██████████████████████████████████████| 75.7M/75.7M [00:00<00:00, 95.8MB/s]\n",
      "Dataset downloaded successfully.\n"
     ]
    }
   ],
   "source": [
    "KaggleDatasetPath = \"ahmadhabibhasanzein/cherry-leaves\"\n",
    "DestinationFolder = \"inputs/mildew_dataset\"   \n",
    "try:\n",
    "    ! kaggle datasets download -d {KaggleDatasetPath} -p {DestinationFolder}\n",
    "    print(\"Dataset downloaded successfully.\")\n",
    "except Exception as e:\n",
    "    print(f\"Error downloading dataset: {e}\")"
   ]
  },
  {
   "cell_type": "code",
   "execution_count": null,
   "metadata": {},
   "outputs": [],
   "source": []
  }
 ],
 "metadata": {
  "kernelspec": {
   "display_name": "Python 3 (ipykernel)",
   "language": "python",
   "name": "python3"
  },
  "language_info": {
   "codemirror_mode": {
    "name": "ipython",
    "version": 3
   },
   "file_extension": ".py",
   "mimetype": "text/x-python",
   "name": "python",
   "nbconvert_exporter": "python",
   "pygments_lexer": "ipython3",
   "version": "3.9.1"
  }
 },
 "nbformat": 4,
 "nbformat_minor": 4
}
