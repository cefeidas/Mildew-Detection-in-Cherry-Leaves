{
 "cells": [
  {
   "cell_type": "markdown",
   "metadata": {},
   "source": [
    "# **Preparing data to train the models**"
   ]
  },
  {
   "cell_type": "markdown",
   "metadata": {},
   "source": [
    "Objectives: Preprocess the cherry leaves dataset for model training.\n",
    "\n",
    "Inputs: Cherry leaves dataset downloaded from Kaggle.\n",
    "\n",
    "Outputs: Preprocessed dataset ready for model training."
   ]
  },
  {
   "cell_type": "markdown",
   "metadata": {},
   "source": [
    "# Steps for preparing the data:\n"
   ]
  },
  {
   "cell_type": "markdown",
   "metadata": {},
   "source": [
    "## 1. Install prerequisites"
   ]
  },
  {
   "cell_type": "code",
   "execution_count": null,
   "metadata": {},
   "outputs": [],
   "source": [
    "%pip install -r /workspaces/Mildew-Detection-in-Cherry-Leaves/requirements.txt"
   ]
  },
  {
   "cell_type": "markdown",
   "metadata": {},
   "source": [
    "## 2. Import libraries"
   ]
  },
  {
   "cell_type": "code",
   "execution_count": 2,
   "metadata": {},
   "outputs": [
    {
     "data": {
      "text/plain": [
       "'/workspaces/Mildew-Detection-in-Cherry-Leaves/jupyter_notebooks'"
      ]
     },
     "execution_count": 2,
     "metadata": {},
     "output_type": "execute_result"
    }
   ],
   "source": [
    "import numpy as np\n",
    "import pandas as pd\n",
    "import matplotlib.pyplot as plt\n",
    "import seaborn as sns\n",
    "import sklearn\n",
    "import tensorflow as tf\n",
    "from tensorflow import keras\n",
    "import altair as alt\n",
    "import zipfile"
   ]
  },
  {
   "cell_type": "markdown",
   "metadata": {},
   "source": [
    "## 3. Unzip files"
   ]
  },
  {
   "cell_type": "code",
   "execution_count": null,
   "metadata": {},
   "outputs": [
    {
     "name": "stdout",
     "output_type": "stream",
     "text": [
      "You set a new current directory\n"
     ]
    }
   ],
   "source": [
    "with zipfile.ZipFile(DestinationFolder + '/cherry-leaves.zip', 'r') as zip_ref:\n",
    "    zip_ref.extractall(DestinationFolder)\n",
    "\n",
    "os.remove(DestinationFolder + '/cherry-leaves.zip')"
   ]
  },
  {
   "cell_type": "markdown",
   "metadata": {},
   "source": [
    "## 4. Merge and Group Images by Category"
   ]
  },
  {
   "cell_type": "markdown",
   "metadata": {},
   "source": []
  },
  {
   "cell_type": "code",
   "execution_count": null,
   "metadata": {},
   "outputs": [],
   "source": [
    "def merge_and_group_images(source_folders, destination_folders):\n",
    "    for folder in source_folders:\n",
    "        for category in ['healthy', 'powdery_mildew']:\n",
    "            source_path = folder + '/' + category\n",
    "            files = os.listdir(source_path)\n",
    "            for file in files:\n",
    "                shutil.move(source_path + '/' + file, destination_folders[category])\n",
    "            os.rmdir(source_path)"
   ]
  },
  {
   "cell_type": "markdown",
   "metadata": {},
   "source": [
    "### Define source folders"
   ]
  },
  {
   "cell_type": "code",
   "execution_count": null,
   "metadata": {},
   "outputs": [],
   "source": [
    "source_folders = [\n",
    "    \"inputs/mildew_dataset/cherry-leaves/test\",\n",
    "    \"inputs/mildew_dataset/cherry-leaves/train\"\n",
    "]"
   ]
  },
  {
   "cell_type": "markdown",
   "metadata": {},
   "source": [
    "### Define destination folders"
   ]
  },
  {
   "cell_type": "code",
   "execution_count": null,
   "metadata": {},
   "outputs": [],
   "source": [
    "destination_folders = {\n",
    "    \"healthy\": \"inputs/mildew_dataset/cherry-leaves/healthy\",\n",
    "    \"powdery_mildew\": \"inputs/mildew_dataset/cherry-leaves/powdery_mildew\"\n",
    "}"
   ]
  },
  {
   "cell_type": "markdown",
   "metadata": {},
   "source": [
    "### Execute the function"
   ]
  },
  {
   "cell_type": "code",
   "execution_count": null,
   "metadata": {},
   "outputs": [],
   "source": [
    "merge_and_group_images(source_folders, destination_folders)"
   ]
  },
  {
   "cell_type": "markdown",
   "metadata": {},
   "source": [
    "## 5. Create sinthetic files to ensure both healthy and powdery leaves contain the same amount"
   ]
  },
  {
   "cell_type": "markdown",
   "metadata": {},
   "source": [
    "### Count Images in Each Folder:"
   ]
  },
  {
   "cell_type": "code",
   "execution_count": null,
   "metadata": {},
   "outputs": [],
   "source": [
    "import os\n",
    "\n",
    "healthy_images_count = len(os.listdir('path_to_healthy_folder'))\n",
    "mildew_images_count = len(os.listdir('path_to_mildew_folder'))"
   ]
  },
  {
   "cell_type": "markdown",
   "metadata": {},
   "source": [
    "### Determine the Difference and Set Image Generation Count:"
   ]
  },
  {
   "cell_type": "code",
   "execution_count": null,
   "metadata": {},
   "outputs": [],
   "source": [
    "images_to_generate = abs(healthy_images_count - mildew_images_count)\n",
    "folder_to_use = 'path_to_mildew_folder' if healthy_images_count > mildew_images_count else 'path_to_healthy_folder'\n"
   ]
  },
  {
   "cell_type": "markdown",
   "metadata": {},
   "source": [
    "### Define Image Transformation Functions:"
   ]
  },
  {
   "cell_type": "code",
   "execution_count": null,
   "metadata": {},
   "outputs": [],
   "source": [
    "from PIL import Image, ImageOps\n",
    "import random\n",
    "\n",
    "def random_transformation(image_path):\n",
    "    image = Image.open(image_path)\n",
    "    choice = random.randint(1, 3)\n",
    "    if choice == 1:\n",
    "        # Mirror\n",
    "        return ImageOps.mirror(image)\n",
    "    elif choice == 2:\n",
    "        # Adjust brightness\n",
    "        return ImageEnhance.Brightness(image).enhance(random.uniform(0.5, 1.5))\n",
    "    else:\n",
    "        # Rotate\n",
    "        return image.rotate(random.choice([90, 180, 270]))"
   ]
  },
  {
   "cell_type": "markdown",
   "metadata": {},
   "source": [
    "### Generate and Save Transformed Images:"
   ]
  },
  {
   "cell_type": "code",
   "execution_count": null,
   "metadata": {},
   "outputs": [],
   "source": [
    "for i in range(images_to_generate):\n",
    "    random_image_file = random.choice(os.listdir(folder_to_use))\n",
    "    transformed_image = random_transformation(os.path.join(folder_to_use, random_image_file))\n",
    "    transformed_image.save(f'path_to_save_transformed_images/transformed_{i}.jpg')\n"
   ]
  },
  {
   "cell_type": "markdown",
   "metadata": {},
   "source": [
    "## 6. Scale down the sample images, to reduce cpu needed."
   ]
  },
  {
   "cell_type": "markdown",
   "metadata": {},
   "source": [
    "In this step, we will resize all images in both 'healthy' and 'mildew' folders to a smaller size. This reduces the computational load for future processing.\n"
   ]
  },
  {
   "cell_type": "markdown",
   "metadata": {},
   "source": [
    "### Code Cell - Import Required Libraries"
   ]
  },
  {
   "cell_type": "code",
   "execution_count": null,
   "metadata": {},
   "outputs": [],
   "source": [
    "from PIL import Image\n",
    "import os\n",
    "import glob\n"
   ]
  },
  {
   "cell_type": "markdown",
   "metadata": {},
   "source": []
  },
  {
   "cell_type": "markdown",
   "metadata": {},
   "source": [
    "### Code Cell - Define Resizing Function:"
   ]
  },
  {
   "cell_type": "code",
   "execution_count": null,
   "metadata": {},
   "outputs": [],
   "source": [
    "def resize_images(folder_path, output_size=(50, 50)):\n",
    "    for img_path in glob.glob(folder_path + '/*.jpg'):\n",
    "        img = Image.open(img_path)\n",
    "        img = img.resize(output_size, Image.ANTIALIAS)\n",
    "        img.save(img_path)"
   ]
  },
  {
   "cell_type": "markdown",
   "metadata": {},
   "source": [
    "### Resize images in both folders"
   ]
  },
  {
   "cell_type": "code",
   "execution_count": null,
   "metadata": {},
   "outputs": [],
   "source": [
    "resize_images(healthy_folder_path)\n",
    "resize_images(mildew_folder_path)"
   ]
  },
  {
   "cell_type": "markdown",
   "metadata": {},
   "source": [
    "## 7. Splitting Data into Training, Validation, and Test Sets"
   ]
  },
  {
   "cell_type": "markdown",
   "metadata": {},
   "source": [
    "Now, we will divide our images into training, validation, and test sets. This helps in model training, tuning, and evaluation."
   ]
  },
  {
   "cell_type": "markdown",
   "metadata": {},
   "source": [
    "### Code Cell - Import Required Libraries:"
   ]
  },
  {
   "cell_type": "code",
   "execution_count": null,
   "metadata": {},
   "outputs": [],
   "source": [
    "import os\n",
    "import shutil\n",
    "import random"
   ]
  },
  {
   "cell_type": "markdown",
   "metadata": {},
   "source": [
    "### Code Cell - Define Splitting Function:"
   ]
  },
  {
   "cell_type": "code",
   "execution_count": null,
   "metadata": {},
   "outputs": [],
   "source": [
    "def split_images_into_sets(my_data_dir, train_set_ratio, validation_set_ratio, test_set_ratio):\n",
    "    if train_set_ratio + validation_set_ratio + test_set_ratio != 1.0:\n",
    "        print(\"Sum of ratios must equal 1.0\")\n",
    "        return\n",
    "\n",
    "    labels = os.listdir(my_data_dir)\n",
    "    for label in labels:\n",
    "        files = os.listdir(os.path.join(my_data_dir, label))\n",
    "        random.shuffle(files)\n",
    "\n",
    "        train_set_files_qty = int(len(files) * train_set_ratio)\n",
    "        validation_set_files_qty = int(len(files) * validation_set_ratio)\n",
    "\n",
    "        for i, file in enumerate(files):\n",
    "            src_path = os.path.join(my_data_dir, label, file)\n",
    "            if i < train_set_files_qty:\n",
    "                dest_path = os.path.join(my_data_dir, 'train', label, file)\n",
    "            elif i < train_set_files_qty + validation_set_files_qty:\n",
    "                dest_path = os.path.join(my_data_dir, 'validation', label, file)\n",
    "            else:\n",
    "                dest_path = os.path.join(my_data_dir, 'test', label, file)\n",
    "            \n",
    "            shutil.move(src_path, dest_path)"
   ]
  },
  {
   "cell_type": "markdown",
   "metadata": {},
   "source": [
    "Code Cell - Execute Function:"
   ]
  },
  {
   "cell_type": "code",
   "execution_count": null,
   "metadata": {},
   "outputs": [],
   "source": [
    "split_images_into_sets(\n",
    "    my_data_dir='path_to_data_directory',\n",
    "    train_set_ratio=0.7,\n",
    "    validation_set_ratio=0.1,\n",
    "    test_set_ratio=0.2\n",
    ")\n"
   ]
  }
 ],
 "metadata": {
  "kernelspec": {
   "display_name": "Python 3 (ipykernel)",
   "language": "python",
   "name": "python3"
  },
  "language_info": {
   "codemirror_mode": {
    "name": "ipython",
    "version": 3
   },
   "file_extension": ".py",
   "mimetype": "text/x-python",
   "name": "python",
   "nbconvert_exporter": "python",
   "pygments_lexer": "ipython3",
   "version": "3.8.12"
  }
 },
 "nbformat": 4,
 "nbformat_minor": 4
}
